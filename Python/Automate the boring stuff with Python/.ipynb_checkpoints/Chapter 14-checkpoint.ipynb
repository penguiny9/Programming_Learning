{
 "cells": [
  {
   "cell_type": "markdown",
   "metadata": {},
   "source": [
    "# Chapter 14 处理CSV文件"
   ]
  },
  {
   "cell_type": "markdown",
   "metadata": {},
   "source": [
    "## 14.1 csv模块"
   ]
  },
  {
   "cell_type": "markdown",
   "metadata": {},
   "source": [
    "### 14.1.1 Reader对象"
   ]
  },
  {
   "cell_type": "code",
   "execution_count": 1,
   "metadata": {},
   "outputs": [
    {
     "data": {
      "text/plain": [
       "[['4/5/2014 13:34', 'Apples', '73'],\n",
       " ['4/5/2014 3:41', 'Cherries', '85'],\n",
       " ['4/6/2014 12:46', 'Pears', '14'],\n",
       " ['4/8/2014 8:59', 'Oranges', '52'],\n",
       " ['4/10/2014 2:07', 'Apples', '152'],\n",
       " ['4/10/2014 18:10', 'Bananas', '23'],\n",
       " ['4/10/2014 2:40', 'Strawberries', '98']]"
      ]
     },
     "execution_count": 1,
     "metadata": {},
     "output_type": "execute_result"
    }
   ],
   "source": [
    "import csv\n",
    "exampleFile=open('example.csv')\n",
    "exampleReader=csv.reader(exampleFile)\n",
    "exampleData=list(exampleReader)\n",
    "exampleData"
   ]
  },
  {
   "cell_type": "code",
   "execution_count": 2,
   "metadata": {},
   "outputs": [
    {
     "data": {
      "text/plain": [
       "'4/5/2014 13:34'"
      ]
     },
     "execution_count": 2,
     "metadata": {},
     "output_type": "execute_result"
    }
   ],
   "source": [
    "exampleData[0][0]"
   ]
  },
  {
   "cell_type": "code",
   "execution_count": 3,
   "metadata": {},
   "outputs": [
    {
     "data": {
      "text/plain": [
       "'Apples'"
      ]
     },
     "execution_count": 3,
     "metadata": {},
     "output_type": "execute_result"
    }
   ],
   "source": [
    "exampleData[0][1]"
   ]
  },
  {
   "cell_type": "code",
   "execution_count": 4,
   "metadata": {},
   "outputs": [
    {
     "data": {
      "text/plain": [
       "'73'"
      ]
     },
     "execution_count": 4,
     "metadata": {},
     "output_type": "execute_result"
    }
   ],
   "source": [
    "exampleData[0][2]"
   ]
  },
  {
   "cell_type": "code",
   "execution_count": 5,
   "metadata": {},
   "outputs": [
    {
     "data": {
      "text/plain": [
       "'Cherries'"
      ]
     },
     "execution_count": 5,
     "metadata": {},
     "output_type": "execute_result"
    }
   ],
   "source": [
    "exampleData[1][1]"
   ]
  },
  {
   "cell_type": "code",
   "execution_count": 6,
   "metadata": {},
   "outputs": [
    {
     "data": {
      "text/plain": [
       "'Strawberries'"
      ]
     },
     "execution_count": 6,
     "metadata": {},
     "output_type": "execute_result"
    }
   ],
   "source": [
    "exampleData[6][1]"
   ]
  },
  {
   "cell_type": "markdown",
   "metadata": {},
   "source": [
    "### 14.1.2 在for循环中，从Reader对象读取数据"
   ]
  },
  {
   "cell_type": "code",
   "execution_count": 8,
   "metadata": {},
   "outputs": [
    {
     "name": "stdout",
     "output_type": "stream",
     "text": [
      "Row #1 ['4/5/2014 13:34', 'Apples', '73']\n",
      "Row #2 ['4/5/2014 3:41', 'Cherries', '85']\n",
      "Row #3 ['4/6/2014 12:46', 'Pears', '14']\n",
      "Row #4 ['4/8/2014 8:59', 'Oranges', '52']\n",
      "Row #5 ['4/10/2014 2:07', 'Apples', '152']\n",
      "Row #6 ['4/10/2014 18:10', 'Bananas', '23']\n",
      "Row #7 ['4/10/2014 2:40', 'Strawberries', '98']\n"
     ]
    }
   ],
   "source": [
    "import csv\n",
    "exampleFile=open('example.csv')\n",
    "exampleReader=csv.reader(exampleFile)\n",
    "for row in exampleReader:\n",
    "    print('Row #'+str(exampleReader.line_num)+' '+str(row))"
   ]
  },
  {
   "cell_type": "markdown",
   "metadata": {},
   "source": [
    "### 14.1.3 Writer对象"
   ]
  },
  {
   "cell_type": "code",
   "execution_count": 9,
   "metadata": {},
   "outputs": [
    {
     "data": {
      "text/plain": [
       "21"
      ]
     },
     "execution_count": 9,
     "metadata": {},
     "output_type": "execute_result"
    }
   ],
   "source": [
    "import csv\n",
    "outputFile=open('output.csv','w',newline='')\n",
    "outputWriter=csv.writer(outputFile)\n",
    "outputWriter.writerow(['spam','eggs','bacon','ham'])"
   ]
  },
  {
   "cell_type": "code",
   "execution_count": 10,
   "metadata": {},
   "outputs": [
    {
     "data": {
      "text/plain": [
       "32"
      ]
     },
     "execution_count": 10,
     "metadata": {},
     "output_type": "execute_result"
    }
   ],
   "source": [
    "outputWriter.writerow(['Hello, world!','eggs','bacon','ham'])"
   ]
  },
  {
   "cell_type": "code",
   "execution_count": 12,
   "metadata": {},
   "outputs": [
    {
     "data": {
      "text/plain": [
       "16"
      ]
     },
     "execution_count": 12,
     "metadata": {},
     "output_type": "execute_result"
    }
   ],
   "source": [
    "outputWriter.writerow([1,2,3.141592,4])"
   ]
  },
  {
   "cell_type": "code",
   "execution_count": 13,
   "metadata": {},
   "outputs": [],
   "source": [
    "outputFile.close()"
   ]
  },
  {
   "cell_type": "markdown",
   "metadata": {},
   "source": [
    "### 14.1.4 delimiter和lineterminator关键字参数"
   ]
  },
  {
   "cell_type": "code",
   "execution_count": 14,
   "metadata": {},
   "outputs": [
    {
     "data": {
      "text/plain": [
       "23"
      ]
     },
     "execution_count": 14,
     "metadata": {},
     "output_type": "execute_result"
    }
   ],
   "source": [
    "import csv\n",
    "csvFile=open('example.tsv','w',newline='')\n",
    "csvWriter=csv.writer(csvFile, delimiter='\\t', lineterminator='\\n\\n')\n",
    "csvWriter.writerow(['apples','oranges','grapes'])"
   ]
  },
  {
   "cell_type": "code",
   "execution_count": 17,
   "metadata": {},
   "outputs": [
    {
     "data": {
      "text/plain": [
       "16"
      ]
     },
     "execution_count": 17,
     "metadata": {},
     "output_type": "execute_result"
    }
   ],
   "source": [
    "csvWriter.writerow(['eggs','bacon','ham'])"
   ]
  },
  {
   "cell_type": "code",
   "execution_count": 18,
   "metadata": {},
   "outputs": [
    {
     "data": {
      "text/plain": [
       "31"
      ]
     },
     "execution_count": 18,
     "metadata": {},
     "output_type": "execute_result"
    }
   ],
   "source": [
    "csvWriter.writerow(['spam','spam','spam','spam','spam','spam'])"
   ]
  },
  {
   "cell_type": "code",
   "execution_count": 19,
   "metadata": {},
   "outputs": [],
   "source": [
    "csvFile.close()"
   ]
  },
  {
   "cell_type": "markdown",
   "metadata": {},
   "source": [
    "## 14.2 项目：从CSV文件中删除表头"
   ]
  },
  {
   "cell_type": "markdown",
   "metadata": {},
   "source": [
    "### 14.2.1 循环遍历每个CSV文件"
   ]
  },
  {
   "cell_type": "code",
   "execution_count": null,
   "metadata": {},
   "outputs": [],
   "source": [
    "import csv, os\n",
    "\n",
    "os.makedirs('headerRemoved',exist_ok=True)\n",
    "\n",
    "#Loop through every file in the current working directory.\n",
    "for csvFilename in os.listdir('.'):\n",
    "    if not csvFilename.endswith('.csv'):\n",
    "        continue    #skip non-csv files\n",
    "    \n",
    "    print('Removing header from '+csvFilename+'...')\n",
    "    \n",
    "    # TODO: Read the CSV file in (skipping first row)\n",
    "    \n",
    "    # TODO: Write out the CSV file."
   ]
  },
  {
   "cell_type": "markdown",
   "metadata": {},
   "source": [
    "### 14.2.2 读入CSV文件"
   ]
  },
  {
   "cell_type": "code",
   "execution_count": null,
   "metadata": {},
   "outputs": [],
   "source": [
    "import csv, os\n",
    "\n",
    "os.makedirs('headerRemoved',exist_ok=True)\n",
    "\n",
    "#Loop through every file in the current working directory.\n",
    "for csvFilename in os.listdir('.'):\n",
    "    if not csvFilename.endswith('.csv'):\n",
    "        continue    #skip non-csv files\n",
    "    \n",
    "    print('Removing header from '+csvFilename+'...')\n",
    "    \n",
    "    # Read the CSV file in (skipping first row)\n",
    "    csvRows=[]\n",
    "    csvFileObj=open(csvFilename)\n",
    "    readerObj=csv.reader(csvFileObj)\n",
    "    for row in readerObj:\n",
    "        if readerObj.line_num==1:\n",
    "            continue     # skip first row\n",
    "        csvRows.append(row)\n",
    "    csvFileObj.close()\n",
    "    \n",
    "    # TODO: Write out the CSV file."
   ]
  },
  {
   "cell_type": "markdown",
   "metadata": {},
   "source": [
    "### 14.2.3 写入CSV文件，没有第一行"
   ]
  },
  {
   "cell_type": "code",
   "execution_count": 22,
   "metadata": {},
   "outputs": [
    {
     "name": "stdout",
     "output_type": "stream",
     "text": [
      "Removing header from example.csv...\n",
      "Removing header from output.csv...\n"
     ]
    }
   ],
   "source": [
    "import csv, os\n",
    "\n",
    "os.makedirs('headerRemoved',exist_ok=True)\n",
    "\n",
    "#Loop through every file in the current working directory.\n",
    "for csvFilename in os.listdir('.'):\n",
    "    if not csvFilename.endswith('.csv'):\n",
    "        continue    #skip non-csv files\n",
    "    \n",
    "    print('Removing header from '+csvFilename+'...')\n",
    "    \n",
    "    # Read the CSV file in (skipping first row)\n",
    "    csvRows=[]\n",
    "    csvFileObj=open(csvFilename)\n",
    "    readerObj=csv.reader(csvFileObj)\n",
    "    for row in readerObj:\n",
    "        if readerObj.line_num==1:\n",
    "            continue     # skip first row\n",
    "        csvRows.append(row)\n",
    "    csvFileObj.close()\n",
    "    \n",
    "    # Write out the CSV file.\n",
    "    csvFileObj=open(os.path.join('headerRemoved',csvFilename),'w',newline='')\n",
    "    csvWriter=csv.writer(csvFileObj)\n",
    "    for row in csvRows:\n",
    "        csvWriter.writerow(row)\n",
    "    csvFileObj.close()"
   ]
  },
  {
   "cell_type": "markdown",
   "metadata": {},
   "source": [
    "### 12.2.4 类似程序的想法"
   ]
  },
  {
   "cell_type": "markdown",
   "metadata": {},
   "source": [
    "在一个CSV文件中不同行，或多个CSV文件之间比较数据\n",
    "在CSV文件拷贝特定的数据到Excel文件，或反过来\n",
    "检查CSV文件中无效的数据或格式错误，并向用户提醒这些错误\n",
    "从CSV文件读取数据，作为Python程序的输入"
   ]
  },
  {
   "cell_type": "markdown",
   "metadata": {},
   "source": [
    "## 14.3 JSON和API"
   ]
  },
  {
   "cell_type": "code",
   "execution_count": null,
   "metadata": {},
   "outputs": [],
   "source": [
    "利用API，可以编程完成下列任务：\n",
    "从网站抓取原始数据\n",
    "自动从一个社交网站账户下载新的帖子，并发布到另一个账户\n",
    "从IMDb、Rotten Tomatoes和维基百科提取数据，放到计算机的一个文本文件中，为你个人的电影收藏创建一个电影百科全书"
   ]
  },
  {
   "cell_type": "markdown",
   "metadata": {},
   "source": [
    "## 14.4 json模块"
   ]
  },
  {
   "cell_type": "markdown",
   "metadata": {},
   "source": [
    "### 14.4.1 用loads()函数读取JSON"
   ]
  },
  {
   "cell_type": "code",
   "execution_count": 23,
   "metadata": {},
   "outputs": [
    {
     "data": {
      "text/plain": [
       "{'name': 'Zophie', 'isCat': True, 'miceCaught': 0, 'felineIQ': None}"
      ]
     },
     "execution_count": 23,
     "metadata": {},
     "output_type": "execute_result"
    }
   ],
   "source": [
    "stringOfJsonData='{\"name\":\"Zophie\",\"isCat\":true,\"miceCaught\":0,\"felineIQ\":null}'\n",
    "\n",
    "import json\n",
    "jsonDataAsPythonValue=json.loads(stringOfJsonData)\n",
    "jsonDataAsPythonValue"
   ]
  },
  {
   "cell_type": "markdown",
   "metadata": {},
   "source": [
    "### 14.4.2 用dumps函数写出JSON"
   ]
  },
  {
   "cell_type": "code",
   "execution_count": 24,
   "metadata": {},
   "outputs": [
    {
     "data": {
      "text/plain": [
       "'{\"isCat\": true, \"miceCaught\": 0, \"name\": \"Zophie\", \"felineIQ\": null}'"
      ]
     },
     "execution_count": 24,
     "metadata": {},
     "output_type": "execute_result"
    }
   ],
   "source": [
    "pythonValue={'isCat':True,'miceCaught':0,'name':'Zophie','felineIQ':None}\n",
    "\n",
    "import json\n",
    "stringOfJsonData=json.dumps(pythonValue)\n",
    "stringOfJsonData"
   ]
  },
  {
   "cell_type": "markdown",
   "metadata": {},
   "source": [
    "## 14.5 项目：取得当前的天气数据"
   ]
  },
  {
   "cell_type": "markdown",
   "metadata": {},
   "source": [
    "### 14.5.1 从命令行参数获取位置"
   ]
  },
  {
   "cell_type": "code",
   "execution_count": null,
   "metadata": {},
   "outputs": [],
   "source": [
    "import json, requests, sys\n",
    "\n",
    "#Compute location from command line arguments.\n",
    "if len(sys.argv)<2:\n",
    "    print('Usage: quickWeather.py location')\n",
    "    sys.exit()\n",
    "location=' '.join(sys.argv[1:])\n",
    "\n",
    "# TODO: Download the JSON data from OpenWeatherMap.org's API\n",
    "\n",
    "# TODO: Load JSON data into a Python variable\n"
   ]
  },
  {
   "cell_type": "markdown",
   "metadata": {},
   "source": [
    "### 14.5.2 下载JSON数据"
   ]
  },
  {
   "cell_type": "code",
   "execution_count": null,
   "metadata": {},
   "outputs": [],
   "source": [
    "import json, requests, sys\n",
    "\n",
    "#Compute location from command line arguments.\n",
    "if len(sys.argv)<2:\n",
    "    print('Usage: quickWeather.py location')\n",
    "    sys.exit()\n",
    "location=' '.join(sys.argv[1:])\n",
    "\n",
    "# Download the JSON data from OpenWeatherMap.org's API\n",
    "url='http://api.openweathermap.org/data/2.5/forecast/daily?q=%s&cnt=3'%(location)\n",
    "response=requests.get(url)\n",
    "response.raise_for_status()\n",
    "\n",
    "# TODO: Load JSON data into a Python variable\n",
    "\n"
   ]
  },
  {
   "cell_type": "markdown",
   "metadata": {},
   "source": [
    "### 14.5.3 加载JSON数据并打印天气"
   ]
  },
  {
   "cell_type": "code",
   "execution_count": null,
   "metadata": {},
   "outputs": [],
   "source": [
    "import json, requests, sys\n",
    "\n",
    "#Compute location from command line arguments.\n",
    "if len(sys.argv)<2:\n",
    "    print('Usage: quickWeather.py location')\n",
    "    sys.exit()\n",
    "location=' '.join(sys.argv[1:])\n",
    "\n",
    "# Download the JSON data from OpenWeatherMap.org's API\n",
    "url='http://api.openweathermap.org/data/2.5/forecast/daily?q=%s&cnt=3'%(location)\n",
    "response=requests.get(url)\n",
    "response.raise_for_status()\n",
    "\n",
    "# Load JSON data into a Python variable\n",
    "weatherData=json.loads(response.text)\n",
    "#Print weather descriptions.\n",
    "w=weatherData['list']\n",
    "\n",
    "print('Current weather in %s:',%(location))\n",
    "print(w[0]['weather'][0]['main'],'-',w[0]['weather'][0]['description'])\n",
    "print()\n",
    "print('Tomorrow:')\n",
    "print(w[1]['weather'][0]['main'],'-',w[1]['weather'][0]['description'])\n",
    "print()\n",
    "print('Day after tomorrow.')\n",
    "print(w[2]['weather'][0]['main'],'-',w[2]['weather'][0]['description'])"
   ]
  }
 ],
 "metadata": {
  "kernelspec": {
   "display_name": "Python 3",
   "language": "python",
   "name": "python3"
  },
  "language_info": {
   "codemirror_mode": {
    "name": "ipython",
    "version": 3
   },
   "file_extension": ".py",
   "mimetype": "text/x-python",
   "name": "python",
   "nbconvert_exporter": "python",
   "pygments_lexer": "ipython3",
   "version": "3.7.3"
  }
 },
 "nbformat": 4,
 "nbformat_minor": 2
}
