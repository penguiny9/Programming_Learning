{
 "cells": [
  {
   "cell_type": "markdown",
   "metadata": {},
   "source": [
    "# Chapter 9 组织文件"
   ]
  },
  {
   "cell_type": "markdown",
   "metadata": {},
   "source": [
    "## 9.1 shutil模块"
   ]
  },
  {
   "cell_type": "markdown",
   "metadata": {},
   "source": [
    "### 9.1.1 复制文件和文件夹"
   ]
  },
  {
   "cell_type": "code",
   "execution_count": 16,
   "metadata": {},
   "outputs": [
    {
     "data": {
      "text/plain": [
       "'/Users/penguiny9/Desktop/Programming/Python Projects/Automate the boring stuff with Python/bacon1.txt'"
      ]
     },
     "execution_count": 16,
     "metadata": {},
     "output_type": "execute_result"
    }
   ],
   "source": [
    "import shutil, os\n",
    "os.chdir('/Users/penguiny9/Desktop/Programming/Python Projects/Automate the boring stuff with Python')\n",
    "shutil.copy('/Users/penguiny9/Desktop/Programming/Python Projects/Automate the boring stuff with Python/bacon.txt','/Users/penguiny9/Desktop/Programming/Python Projects/Automate the boring stuff with Python/bacon1.txt')"
   ]
  },
  {
   "cell_type": "code",
   "execution_count": 4,
   "metadata": {},
   "outputs": [
    {
     "data": {
      "text/plain": [
       "'/Users/penguiny9/Desktop/Programming/Python Projects/Automate the boring stuff with Python/test1'"
      ]
     },
     "execution_count": 4,
     "metadata": {},
     "output_type": "execute_result"
    }
   ],
   "source": [
    "import shutil, os\n",
    "os.chdir('/Users/penguiny9/Desktop/Programming/Python Projects/Automate the boring stuff with Python')\n",
    "shutil.copytree('/Users/penguiny9/Desktop/Programming/Python Projects/Automate the boring stuff with Python/test','/Users/penguiny9/Desktop/Programming/Python Projects/Automate the boring stuff with Python/test1')"
   ]
  },
  {
   "cell_type": "markdown",
   "metadata": {},
   "source": [
    "### 9.1.2 文件和文件夹的移动与改名"
   ]
  },
  {
   "cell_type": "code",
   "execution_count": 15,
   "metadata": {},
   "outputs": [
    {
     "data": {
      "text/plain": [
       "'/Users/penguiny9/Desktop/Programming/Python Projects/Automate the boring stuff with Python/test/bacon1.txt'"
      ]
     },
     "execution_count": 15,
     "metadata": {},
     "output_type": "execute_result"
    }
   ],
   "source": [
    "import shutil\n",
    "shutil.move('/Users/penguiny9/Desktop/Programming/Python Projects/Automate the boring stuff with Python/bacon1.txt','/Users/penguiny9/Desktop/Programming/Python Projects/Automate the boring stuff with Python/test')"
   ]
  },
  {
   "cell_type": "markdown",
   "metadata": {},
   "source": [
    "### 9.1.3 永久删除文件和文件夹"
   ]
  },
  {
   "cell_type": "code",
   "execution_count": 9,
   "metadata": {},
   "outputs": [
    {
     "name": "stdout",
     "output_type": "stream",
     "text": [
      "bacon1.txt\n"
     ]
    }
   ],
   "source": [
    "import os\n",
    "for filename in os.listdir('/Users/penguiny9/Desktop/Programming/Python Projects/Automate the boring stuff with Python/test1'):\n",
    "    if filename.endswith('.txt'):\n",
    "        print(filename)\n",
    "        os.unlink(filename)"
   ]
  },
  {
   "cell_type": "markdown",
   "metadata": {},
   "source": [
    "### 9.1.4 用send2trash模块安全删除"
   ]
  },
  {
   "cell_type": "code",
   "execution_count": 17,
   "metadata": {},
   "outputs": [
    {
     "data": {
      "text/plain": [
       "25"
      ]
     },
     "execution_count": 17,
     "metadata": {},
     "output_type": "execute_result"
    }
   ],
   "source": [
    "import send2trash\n",
    "baconFile=open('/Users/penguiny9/Desktop/Programming/Python Projects/Automate the boring stuff with Python/bacon1.txt','a')\n",
    "baconFile.write('Bacon is not a vegatable.')"
   ]
  },
  {
   "cell_type": "code",
   "execution_count": 18,
   "metadata": {},
   "outputs": [],
   "source": [
    "baconFile.close()\n",
    "send2trash.send2trash('bacon1.txt')"
   ]
  },
  {
   "cell_type": "markdown",
   "metadata": {},
   "source": [
    "## 9.2 遍历目录树"
   ]
  },
  {
   "cell_type": "code",
   "execution_count": 20,
   "metadata": {},
   "outputs": [
    {
     "name": "stdout",
     "output_type": "stream",
     "text": [
      "The current folder is /Users/penguiny9/Desktop/Programming/Python Projects/Automate the boring stuff with Python/\n",
      "SUBFOLDER OF /Users/penguiny9/Desktop/Programming/Python Projects/Automate the boring stuff with Python/:test\n",
      "SUBFOLDER OF /Users/penguiny9/Desktop/Programming/Python Projects/Automate the boring stuff with Python/:test1\n",
      "SUBFOLDER OF /Users/penguiny9/Desktop/Programming/Python Projects/Automate the boring stuff with Python/:quiz\n",
      "SUBFOLDER OF /Users/penguiny9/Desktop/Programming/Python Projects/Automate the boring stuff with Python/:__pycache__\n",
      "SUBFOLDER OF /Users/penguiny9/Desktop/Programming/Python Projects/Automate the boring stuff with Python/:.ipynb_checkpoints\n",
      "FILE INSIDE /Users/penguiny9/Desktop/Programming/Python Projects/Automate the boring stuff with Python/:myCats.py\n",
      "FILE INSIDE /Users/penguiny9/Desktop/Programming/Python Projects/Automate the boring stuff with Python/:Chapter 9.ipynb\n",
      "FILE INSIDE /Users/penguiny9/Desktop/Programming/Python Projects/Automate the boring stuff with Python/:sonnet29.txt\n",
      "FILE INSIDE /Users/penguiny9/Desktop/Programming/Python Projects/Automate the boring stuff with Python/:.DS_Store\n",
      "FILE INSIDE /Users/penguiny9/Desktop/Programming/Python Projects/Automate the boring stuff with Python/:Chapter 11.ipynb\n",
      "FILE INSIDE /Users/penguiny9/Desktop/Programming/Python Projects/Automate the boring stuff with Python/:Chapter 8.ipynb\n",
      "FILE INSIDE /Users/penguiny9/Desktop/Programming/Python Projects/Automate the boring stuff with Python/:Chapter 10.ipynb\n",
      "FILE INSIDE /Users/penguiny9/Desktop/Programming/Python Projects/Automate the boring stuff with Python/:bacon.txt\n",
      "FILE INSIDE /Users/penguiny9/Desktop/Programming/Python Projects/Automate the boring stuff with Python/:geckodriver.log\n",
      "FILE INSIDE /Users/penguiny9/Desktop/Programming/Python Projects/Automate the boring stuff with Python/:mydata.db\n",
      "FILE INSIDE /Users/penguiny9/Desktop/Programming/Python Projects/Automate the boring stuff with Python/:mcb.pyw\n",
      "FILE INSIDE /Users/penguiny9/Desktop/Programming/Python Projects/Automate the boring stuff with Python/:hello.txt\n",
      "FILE INSIDE /Users/penguiny9/Desktop/Programming/Python Projects/Automate the boring stuff with Python/:Chapter 7.ipynb\n",
      "\n",
      "The current folder is /Users/penguiny9/Desktop/Programming/Python Projects/Automate the boring stuff with Python/test\n",
      "FILE INSIDE /Users/penguiny9/Desktop/Programming/Python Projects/Automate the boring stuff with Python/test:bacon1.txt\n",
      "\n",
      "The current folder is /Users/penguiny9/Desktop/Programming/Python Projects/Automate the boring stuff with Python/test1\n",
      "FILE INSIDE /Users/penguiny9/Desktop/Programming/Python Projects/Automate the boring stuff with Python/test1:bacon1.txt\n",
      "\n",
      "The current folder is /Users/penguiny9/Desktop/Programming/Python Projects/Automate the boring stuff with Python/quiz\n",
      "FILE INSIDE /Users/penguiny9/Desktop/Programming/Python Projects/Automate the boring stuff with Python/quiz:capitalsquiz_answers8.txt\n",
      "FILE INSIDE /Users/penguiny9/Desktop/Programming/Python Projects/Automate the boring stuff with Python/quiz:capitalsquiz_answers13.txt\n",
      "FILE INSIDE /Users/penguiny9/Desktop/Programming/Python Projects/Automate the boring stuff with Python/quiz:capitalsquiz_answers12.txt\n",
      "FILE INSIDE /Users/penguiny9/Desktop/Programming/Python Projects/Automate the boring stuff with Python/quiz:capitalsquiz_answers9.txt\n",
      "FILE INSIDE /Users/penguiny9/Desktop/Programming/Python Projects/Automate the boring stuff with Python/quiz:capitalsquiz_answers10.txt\n",
      "FILE INSIDE /Users/penguiny9/Desktop/Programming/Python Projects/Automate the boring stuff with Python/quiz:capitalsquiz_answers11.txt\n",
      "FILE INSIDE /Users/penguiny9/Desktop/Programming/Python Projects/Automate the boring stuff with Python/quiz:capitalsquiz_answers15.txt\n",
      "FILE INSIDE /Users/penguiny9/Desktop/Programming/Python Projects/Automate the boring stuff with Python/quiz:capitalsquiz9.txt\n",
      "FILE INSIDE /Users/penguiny9/Desktop/Programming/Python Projects/Automate the boring stuff with Python/quiz:capitalsquiz_answers29.txt\n",
      "FILE INSIDE /Users/penguiny9/Desktop/Programming/Python Projects/Automate the boring stuff with Python/quiz:capitalsquiz_answers28.txt\n",
      "FILE INSIDE /Users/penguiny9/Desktop/Programming/Python Projects/Automate the boring stuff with Python/quiz:capitalsquiz8.txt\n",
      "FILE INSIDE /Users/penguiny9/Desktop/Programming/Python Projects/Automate the boring stuff with Python/quiz:capitalsquiz_answers14.txt\n",
      "FILE INSIDE /Users/penguiny9/Desktop/Programming/Python Projects/Automate the boring stuff with Python/quiz:capitalsquiz_answers16.txt\n",
      "FILE INSIDE /Users/penguiny9/Desktop/Programming/Python Projects/Automate the boring stuff with Python/quiz:capitalsquiz_answers17.txt\n",
      "FILE INSIDE /Users/penguiny9/Desktop/Programming/Python Projects/Automate the boring stuff with Python/quiz:capitalsquiz20.txt\n",
      "FILE INSIDE /Users/penguiny9/Desktop/Programming/Python Projects/Automate the boring stuff with Python/quiz:capitalsquiz34.txt\n",
      "FILE INSIDE /Users/penguiny9/Desktop/Programming/Python Projects/Automate the boring stuff with Python/quiz:capitalsquiz35.txt\n",
      "FILE INSIDE /Users/penguiny9/Desktop/Programming/Python Projects/Automate the boring stuff with Python/quiz:capitalsquiz21.txt\n",
      "FILE INSIDE /Users/penguiny9/Desktop/Programming/Python Projects/Automate the boring stuff with Python/quiz:capitalsquiz23.txt\n",
      "FILE INSIDE /Users/penguiny9/Desktop/Programming/Python Projects/Automate the boring stuff with Python/quiz:capitalsquiz22.txt\n",
      "FILE INSIDE /Users/penguiny9/Desktop/Programming/Python Projects/Automate the boring stuff with Python/quiz:capitalsquiz32.txt\n",
      "FILE INSIDE /Users/penguiny9/Desktop/Programming/Python Projects/Automate the boring stuff with Python/quiz:capitalsquiz26.txt\n",
      "FILE INSIDE /Users/penguiny9/Desktop/Programming/Python Projects/Automate the boring stuff with Python/quiz:capitalsquiz27.txt\n",
      "FILE INSIDE /Users/penguiny9/Desktop/Programming/Python Projects/Automate the boring stuff with Python/quiz:capitalsquiz33.txt\n",
      "FILE INSIDE /Users/penguiny9/Desktop/Programming/Python Projects/Automate the boring stuff with Python/quiz:capitalsquiz19.txt\n",
      "FILE INSIDE /Users/penguiny9/Desktop/Programming/Python Projects/Automate the boring stuff with Python/quiz:capitalsquiz25.txt\n",
      "FILE INSIDE /Users/penguiny9/Desktop/Programming/Python Projects/Automate the boring stuff with Python/quiz:capitalsquiz31.txt\n",
      "FILE INSIDE /Users/penguiny9/Desktop/Programming/Python Projects/Automate the boring stuff with Python/quiz:capitalsquiz30.txt\n",
      "FILE INSIDE /Users/penguiny9/Desktop/Programming/Python Projects/Automate the boring stuff with Python/quiz:capitalsquiz24.txt\n",
      "FILE INSIDE /Users/penguiny9/Desktop/Programming/Python Projects/Automate the boring stuff with Python/quiz:capitalsquiz18.txt\n",
      "FILE INSIDE /Users/penguiny9/Desktop/Programming/Python Projects/Automate the boring stuff with Python/quiz:capitalsquiz15.txt\n",
      "FILE INSIDE /Users/penguiny9/Desktop/Programming/Python Projects/Automate the boring stuff with Python/quiz:capitalsquiz29.txt\n",
      "FILE INSIDE /Users/penguiny9/Desktop/Programming/Python Projects/Automate the boring stuff with Python/quiz:capitalsquiz28.txt\n",
      "FILE INSIDE /Users/penguiny9/Desktop/Programming/Python Projects/Automate the boring stuff with Python/quiz:capitalsquiz14.txt\n",
      "FILE INSIDE /Users/penguiny9/Desktop/Programming/Python Projects/Automate the boring stuff with Python/quiz:capitalsquiz16.txt\n",
      "FILE INSIDE /Users/penguiny9/Desktop/Programming/Python Projects/Automate the boring stuff with Python/quiz:capitalsquiz17.txt\n",
      "FILE INSIDE /Users/penguiny9/Desktop/Programming/Python Projects/Automate the boring stuff with Python/quiz:capitalsquiz13.txt\n",
      "FILE INSIDE /Users/penguiny9/Desktop/Programming/Python Projects/Automate the boring stuff with Python/quiz:capitalsquiz12.txt\n",
      "FILE INSIDE /Users/penguiny9/Desktop/Programming/Python Projects/Automate the boring stuff with Python/quiz:capitalsquiz10.txt\n",
      "FILE INSIDE /Users/penguiny9/Desktop/Programming/Python Projects/Automate the boring stuff with Python/quiz:capitalsquiz11.txt\n",
      "FILE INSIDE /Users/penguiny9/Desktop/Programming/Python Projects/Automate the boring stuff with Python/quiz:capitalsquiz_answers1.txt\n",
      "FILE INSIDE /Users/penguiny9/Desktop/Programming/Python Projects/Automate the boring stuff with Python/quiz:capitalsquiz6.txt\n",
      "FILE INSIDE /Users/penguiny9/Desktop/Programming/Python Projects/Automate the boring stuff with Python/quiz:capitalsquiz_answers32.txt\n",
      "FILE INSIDE /Users/penguiny9/Desktop/Programming/Python Projects/Automate the boring stuff with Python/quiz:capitalsquiz_answers26.txt\n",
      "FILE INSIDE /Users/penguiny9/Desktop/Programming/Python Projects/Automate the boring stuff with Python/quiz:capitalsquiz_answers27.txt\n",
      "FILE INSIDE /Users/penguiny9/Desktop/Programming/Python Projects/Automate the boring stuff with Python/quiz:capitalsquiz_answers33.txt\n",
      "FILE INSIDE /Users/penguiny9/Desktop/Programming/Python Projects/Automate the boring stuff with Python/quiz:capitalsquiz7.txt\n",
      "FILE INSIDE /Users/penguiny9/Desktop/Programming/Python Projects/Automate the boring stuff with Python/quiz:capitalsquiz_answers2.txt\n",
      "FILE INSIDE /Users/penguiny9/Desktop/Programming/Python Projects/Automate the boring stuff with Python/quiz:capitalsquiz_answers19.txt\n",
      "FILE INSIDE /Users/penguiny9/Desktop/Programming/Python Projects/Automate the boring stuff with Python/quiz:capitalsquiz_answers25.txt\n",
      "FILE INSIDE /Users/penguiny9/Desktop/Programming/Python Projects/Automate the boring stuff with Python/quiz:capitalsquiz5.txt\n",
      "FILE INSIDE /Users/penguiny9/Desktop/Programming/Python Projects/Automate the boring stuff with Python/quiz:capitalsquiz_answers31.txt\n",
      "FILE INSIDE /Users/penguiny9/Desktop/Programming/Python Projects/Automate the boring stuff with Python/quiz:capitalsquiz_answers30.txt\n",
      "FILE INSIDE /Users/penguiny9/Desktop/Programming/Python Projects/Automate the boring stuff with Python/quiz:capitalsquiz4.txt\n",
      "FILE INSIDE /Users/penguiny9/Desktop/Programming/Python Projects/Automate the boring stuff with Python/quiz:capitalsquiz_answers24.txt\n",
      "FILE INSIDE /Users/penguiny9/Desktop/Programming/Python Projects/Automate the boring stuff with Python/quiz:capitalsquiz_answers18.txt\n",
      "FILE INSIDE /Users/penguiny9/Desktop/Programming/Python Projects/Automate the boring stuff with Python/quiz:capitalsquiz_answers3.txt\n",
      "FILE INSIDE /Users/penguiny9/Desktop/Programming/Python Projects/Automate the boring stuff with Python/quiz:capitalsquiz_answers7.txt\n",
      "FILE INSIDE /Users/penguiny9/Desktop/Programming/Python Projects/Automate the boring stuff with Python/quiz:capitalsquiz_answers20.txt\n",
      "FILE INSIDE /Users/penguiny9/Desktop/Programming/Python Projects/Automate the boring stuff with Python/quiz:capitalsquiz_answers34.txt\n",
      "FILE INSIDE /Users/penguiny9/Desktop/Programming/Python Projects/Automate the boring stuff with Python/quiz:capitalsquiz_answers35.txt\n",
      "FILE INSIDE /Users/penguiny9/Desktop/Programming/Python Projects/Automate the boring stuff with Python/quiz:capitalsquiz1.txt\n",
      "FILE INSIDE /Users/penguiny9/Desktop/Programming/Python Projects/Automate the boring stuff with Python/quiz:capitalsquiz_answers21.txt\n",
      "FILE INSIDE /Users/penguiny9/Desktop/Programming/Python Projects/Automate the boring stuff with Python/quiz:capitalsquiz_answers6.txt\n",
      "FILE INSIDE /Users/penguiny9/Desktop/Programming/Python Projects/Automate the boring stuff with Python/quiz:capitalsquiz_answers4.txt\n",
      "FILE INSIDE /Users/penguiny9/Desktop/Programming/Python Projects/Automate the boring stuff with Python/quiz:capitalsquiz3.txt\n",
      "FILE INSIDE /Users/penguiny9/Desktop/Programming/Python Projects/Automate the boring stuff with Python/quiz:capitalsquiz_answers23.txt\n",
      "FILE INSIDE /Users/penguiny9/Desktop/Programming/Python Projects/Automate the boring stuff with Python/quiz:capitalsquiz_answers22.txt\n",
      "FILE INSIDE /Users/penguiny9/Desktop/Programming/Python Projects/Automate the boring stuff with Python/quiz:capitalsquiz2.txt\n",
      "FILE INSIDE /Users/penguiny9/Desktop/Programming/Python Projects/Automate the boring stuff with Python/quiz:capitalsquiz_answers5.txt\n",
      "\n",
      "The current folder is /Users/penguiny9/Desktop/Programming/Python Projects/Automate the boring stuff with Python/__pycache__\n",
      "FILE INSIDE /Users/penguiny9/Desktop/Programming/Python Projects/Automate the boring stuff with Python/__pycache__:myCats.cpython-37.pyc\n",
      "\n",
      "The current folder is /Users/penguiny9/Desktop/Programming/Python Projects/Automate the boring stuff with Python/.ipynb_checkpoints\n",
      "FILE INSIDE /Users/penguiny9/Desktop/Programming/Python Projects/Automate the boring stuff with Python/.ipynb_checkpoints:Chapter 11-checkpoint.ipynb\n",
      "FILE INSIDE /Users/penguiny9/Desktop/Programming/Python Projects/Automate the boring stuff with Python/.ipynb_checkpoints:Chapter 9-checkpoint.ipynb\n",
      "FILE INSIDE /Users/penguiny9/Desktop/Programming/Python Projects/Automate the boring stuff with Python/.ipynb_checkpoints:Chapter 8-checkpoint.ipynb\n",
      "FILE INSIDE /Users/penguiny9/Desktop/Programming/Python Projects/Automate the boring stuff with Python/.ipynb_checkpoints:Chapter 7-checkpoint.ipynb\n",
      "\n"
     ]
    }
   ],
   "source": [
    "import os\n",
    "\n",
    "for folderName, subfolders, filenames in os.walk('/Users/penguiny9/Desktop/Programming/Python Projects/Automate the boring stuff with Python/'):\n",
    "    print('The current folder is '+folderName)\n",
    "    \n",
    "    for subfolder in subfolders:\n",
    "        print('SUBFOLDER OF '+folderName+':'+subfolder)\n",
    "\n",
    "    for filename in filenames:\n",
    "        print('FILE INSIDE '+folderName+':'+filename)\n",
    "\n",
    "    print('')"
   ]
  },
  {
   "cell_type": "markdown",
   "metadata": {},
   "source": [
    "## 9.3 用zipfile模块压缩文件"
   ]
  },
  {
   "cell_type": "code",
   "execution_count": 22,
   "metadata": {},
   "outputs": [
    {
     "data": {
      "text/plain": [
       "['spam.txt', 'cats/', 'cats/catnames.txt', 'cats/zophie.jpg']"
      ]
     },
     "execution_count": 22,
     "metadata": {},
     "output_type": "execute_result"
    }
   ],
   "source": [
    "import zipfile, os\n",
    "os.chdir('/Users/penguiny9/Desktop/Programming/Python Projects/Automate the boring stuff with Python/')\n",
    "exampleZip=zipfile.ZipFile('example.zip')\n",
    "exampleZip.namelist()"
   ]
  },
  {
   "cell_type": "code",
   "execution_count": 25,
   "metadata": {},
   "outputs": [
    {
     "data": {
      "text/plain": [
       "13908"
      ]
     },
     "execution_count": 25,
     "metadata": {},
     "output_type": "execute_result"
    }
   ],
   "source": [
    "spamInfo=exampleZip.getinfo('spam.txt')\n",
    "spamInfo.file_size"
   ]
  },
  {
   "cell_type": "code",
   "execution_count": 26,
   "metadata": {},
   "outputs": [
    {
     "data": {
      "text/plain": [
       "3828"
      ]
     },
     "execution_count": 26,
     "metadata": {},
     "output_type": "execute_result"
    }
   ],
   "source": [
    "spamInfo.compress_size"
   ]
  },
  {
   "cell_type": "code",
   "execution_count": 27,
   "metadata": {},
   "outputs": [
    {
     "data": {
      "text/plain": [
       "'Compressed file is 3.63x smaller!'"
      ]
     },
     "execution_count": 27,
     "metadata": {},
     "output_type": "execute_result"
    }
   ],
   "source": [
    "'Compressed file is %sx smaller!' %(round(spamInfo.file_size/spamInfo.compress_size, 2))"
   ]
  },
  {
   "cell_type": "code",
   "execution_count": 28,
   "metadata": {},
   "outputs": [],
   "source": [
    "exampleZip.close()"
   ]
  },
  {
   "cell_type": "markdown",
   "metadata": {},
   "source": [
    "### 9.3.2 从zip文件夹中解压缩"
   ]
  },
  {
   "cell_type": "code",
   "execution_count": 39,
   "metadata": {},
   "outputs": [],
   "source": [
    "import zipfile, os\n",
    "os.chdir('/Users/penguiny9/Desktop/Programming/Python Projects/Automate the boring stuff with Python/')\n",
    "exampleZip=zipfile.ZipFile('example.zip')\n",
    "exampleZip.extractall('/Users/penguiny9/Desktop/Programming/Python Projects/Automate the boring stuff with Python/')"
   ]
  },
  {
   "cell_type": "code",
   "execution_count": 41,
   "metadata": {},
   "outputs": [
    {
     "data": {
      "text/plain": [
       "'/Users/penguiny9/Desktop/Programming/Python Projects/Automate the boring stuff with Python/spam.txt'"
      ]
     },
     "execution_count": 41,
     "metadata": {},
     "output_type": "execute_result"
    }
   ],
   "source": [
    "exampleZip.extract('spam.txt')"
   ]
  },
  {
   "cell_type": "markdown",
   "metadata": {},
   "source": [
    "### 9.3.3 创建和添加到ZIP文件"
   ]
  },
  {
   "cell_type": "code",
   "execution_count": 42,
   "metadata": {},
   "outputs": [],
   "source": [
    "import zipfile\n",
    "newZip=zipfile.ZipFile('new.zip','w')\n",
    "newZip.write('spam.txt',compress_type=zipfile.ZIP_DEFLATED)\n",
    "newZip.close()"
   ]
  },
  {
   "cell_type": "markdown",
   "metadata": {},
   "source": [
    "## 9.4 项目：将带有美国风格日期的文件改名为欧洲风格日期"
   ]
  },
  {
   "cell_type": "markdown",
   "metadata": {},
   "source": [
    "### 9.4.1 第一步：为美国风格的日期创建一个正则表达式"
   ]
  },
  {
   "cell_type": "code",
   "execution_count": 43,
   "metadata": {},
   "outputs": [],
   "source": [
    "#! /usr/bin/env python3\n",
    "# renameDates.py - Renames filenames with American MM-DD-YYYY date format to European DD-MM-YYYY\n",
    "\n",
    "import shutil, os, re\n",
    "\n",
    "#Create a regex that matches files with the American date format.\n",
    "datePattern=re.compile(r'''\n",
    "^(.*?)            #all text before the date\n",
    "((0|1)?\\d)-       #one or two digits for the month\n",
    "((0|1|2|3)?\\d)-   #one or two digits for the day\n",
    "((19|20)\\d\\d)     #four digits for the year\n",
    "(.*?)$            #all text after the date\n",
    "''', re.VERBOSE\n",
    ")\n",
    "\n",
    "# TODO: Loop over the files in the working directory.\n",
    "\n",
    "# TODO: Skip files without a date.\n",
    "\n",
    "# TODO: Get the different parts of the filename.\n",
    "\n",
    "# TODO: Form the European-style filename.\n",
    "\n",
    "# TODO: Get the full, absolute file paths.\n",
    "\n",
    "# TODO: Rename the files."
   ]
  },
  {
   "cell_type": "markdown",
   "metadata": {},
   "source": [
    "### 9.4.2 识别文件名中的日期部分"
   ]
  },
  {
   "cell_type": "code",
   "execution_count": 45,
   "metadata": {},
   "outputs": [],
   "source": [
    "#! /usr/bin/env python3\n",
    "# renameDates.py - Renames filenames with American MM-DD-YYYY date format to European DD-MM-YYYY\n",
    "\n",
    "import shutil, os, re\n",
    "\n",
    "#Create a regex that matches files with the American date format.\n",
    "datePattern=re.compile(r'''\n",
    "^(.*?)            #all text before the date\n",
    "((0|1)?\\d)-       #one or two digits for the month\n",
    "((0|1|2|3)?\\d)-   #one or two digits for the day\n",
    "((19|20)\\d\\d)     #four digits for the year\n",
    "(.*?)$            #all text after the date\n",
    "''', re.VERBOSE\n",
    ")\n",
    "\n",
    "# Loop over the files in the working directory.\n",
    "for amerFilename in os.listdir('.'):\n",
    "    mo=datePattern.search(amerFilename)\n",
    "    \n",
    "    # Skip files without a date.\n",
    "    if mo==None:\n",
    "        continue\n",
    "        \n",
    "    # Get the different parts of the filename.\n",
    "    beforePart=mo.group(1)\n",
    "    monthPart=mo.group(2)\n",
    "    dayPart=mo.group(4)\n",
    "    yearPart=mo.group(6)\n"
   ]
  },
  {
   "cell_type": "markdown",
   "metadata": {},
   "source": [
    "### 9.4.3 构成新文件名，并对文件改名"
   ]
  },
  {
   "cell_type": "code",
   "execution_count": null,
   "metadata": {},
   "outputs": [],
   "source": [
    "#! /usr/bin/env python3\n",
    "# renameDates.py - Renames filenames with American MM-DD-YYYY date format to European DD-MM-YYYY\n",
    "\n",
    "import shutil, os, re\n",
    "\n",
    "#Create a regex that matches files with the American date format.\n",
    "datePattern=re.compile(r'''\n",
    "^(.*?)            #all text before the date\n",
    "((0|1)?\\d)-       #one or two digits for the month\n",
    "((0|1|2|3)?\\d)-   #one or two digits for the day\n",
    "((19|20)\\d\\d)     #four digits for the year\n",
    "(.*?)$            #all text after the date\n",
    "''', re.VERBOSE\n",
    ")\n",
    "\n",
    "# Loop over the files in the working directory.\n",
    "for amerFilename in os.listdir('.'):\n",
    "    mo=datePattern.search(amerFilename)\n",
    "    \n",
    "    # Skip files without a date.\n",
    "    if mo==None:\n",
    "        continue\n",
    "        \n",
    "    # Get the different parts of the filename.\n",
    "    beforePart=mo.group(1)\n",
    "    monthPart=mo.group(2)\n",
    "    dayPart=mo.group(4)\n",
    "    yearPart=mo.group(6)\n",
    "    afterPart=mo.group(8)\n",
    "    \n",
    "    # Form the European-style filename.\n",
    "    euroFilename=beforePart+dayPart+'-'+monthPart+'-'+yearpart+afterPart\n",
    "    \n",
    "    # Get the full, absolute file paths.\n",
    "    absWorkingDir=os.path.abspath('.')\n",
    "    amerFilename=os.path.join(absWorkingDir, amerFilename)\n",
    "    euroFilename=os.path.join(absWorkingDir, euroFilename)\n",
    "    \n",
    "    #Rename the files.\n",
    "    print('Renaming \"%s\" to \"%s\" ...' %(amerFilename, euroFilename))\n",
    "    shutil.move(amerFilename, euroFilename) #uncomment after testing"
   ]
  },
  {
   "cell_type": "markdown",
   "metadata": {},
   "source": [
    "### 9.4.4 类似程序的想法"
   ]
  },
  {
   "cell_type": "markdown",
   "metadata": {},
   "source": [
    "## 9.5 项目：将一个文件夹备份到一个ZIP文件"
   ]
  },
  {
   "cell_type": "markdown",
   "metadata": {},
   "source": [
    "### 9.5.1 弄清楚ZIP文件的名称"
   ]
  },
  {
   "cell_type": "code",
   "execution_count": null,
   "metadata": {},
   "outputs": [],
   "source": [
    "#! /usr/bin/env python3\n",
    "# backupToZi.py-Copies an entire folder and its contents into a ZIP file whose filename increments\n",
    "\n",
    "import zipfile, os\n",
    "\n",
    "def backupToZip(folder):\n",
    "    \n",
    "    #Backup the entire contents of 'folder' into a ZIP file.\n",
    "    folder=os.path.abspath(folder) #make sure folder is absolute\n",
    "    \n",
    "    #Figure out the filename this code should use based on what files already exist.\n",
    "    number=1\n",
    "    while True:\n",
    "        zipFileName=os.path.basename(folder)+'-'+str(number)+'.zip'\n",
    "        if not os.path.exists(zipFileName):\n",
    "            break\n",
    "        number=number+1\n",
    "        \n",
    "    # TODO: Create the ZIP file.\n",
    "    \n",
    "    # TODO: Walk the entire folder tree and compress the files in each folder.\n",
    "    print('Done')\n",
    "    \n",
    "backuptoZip('/Users/penguiny9/Desktop/Programming/Python Projects/Automate the boring stuff with Python/')"
   ]
  },
  {
   "cell_type": "markdown",
   "metadata": {},
   "source": [
    "### 9.5.2 第二步：创建新ZIP文件"
   ]
  },
  {
   "cell_type": "code",
   "execution_count": null,
   "metadata": {},
   "outputs": [],
   "source": [
    "#! /usr/bin/env python3\n",
    "# backupToZi.py-Copies an entire folder and its contents into a ZIP file whose filename increments\n",
    "\n",
    "import zipfile, os\n",
    "\n",
    "def backupToZip(folder):\n",
    "    \n",
    "    #Backup the entire contents of 'folder' into a ZIP file.\n",
    "    folder=os.path.abspath(folder) #make sure folder is absolute\n",
    "    \n",
    "    #Figure out the filename this code should use based on what files already exist.\n",
    "    number=1\n",
    "    while True:\n",
    "        zipFileName=os.path.basename(folder)+'-'+str(number)+'.zip'\n",
    "        if not os.path.exists(zipFileName):\n",
    "            break\n",
    "        number=number+1\n",
    "        \n",
    "    # Create the ZIP file.\n",
    "    print('Creating %s...'%(zipFileName))\n",
    "    backupZip=zipfile.ZipFile(zipFileName, 'w')\n",
    "    \n",
    "    # TODO: Walk the entire folder tree and compress the files in each folder.\n",
    "    print('Done')\n",
    "    \n",
    "backupToZip('/Users/penguiny9/Desktop/Programming/Python Projects/Automate the boring stuff with Python/')"
   ]
  },
  {
   "cell_type": "markdown",
   "metadata": {},
   "source": [
    "### 9.5.2 遍历目录树并添加到ZIP文件"
   ]
  },
  {
   "cell_type": "code",
   "execution_count": 53,
   "metadata": {},
   "outputs": [],
   "source": [
    "#! /usr/bin/env python3\n",
    "# backupToZi.py-Copies an entire folder and its contents into a ZIP file whose filename increments\n",
    "\n",
    "import zipfile, os\n",
    "\n",
    "def backupToZip(folder):\n",
    "    \n",
    "    #Backup the entire contents of 'folder' into a ZIP file.\n",
    "    folder=os.path.abspath(folder) #make sure folder is absolute\n",
    "    \n",
    "    #Figure out the filename this code should use based on what files already exist.\n",
    "    number=1\n",
    "    while True:\n",
    "        zipFileName=os.path.basename(folder)+'-'+str(number)+'.zip'\n",
    "        if not os.path.exists(zipFileName):\n",
    "            break\n",
    "        number=number+1\n",
    "        \n",
    "    # Create the ZIP file.\n",
    "    print('Creating %s...'%(zipFileName))\n",
    "    backupZip=zipfile.ZipFile(zipFileName, 'w')\n",
    "    \n",
    "    # Walk the entire folder tree and compress the files in each folder.\n",
    "    for foldername, subfolders, filenames in os.walk(folder):\n",
    "        print('Adding files in %s...'%(foldername))\n",
    "        # Add the current folder to the ZIP file.\n",
    "        backupZip.write(foldername)\n",
    "        \n",
    "    for filename in filenames:\n",
    "        newBase=os.path.basename(folder) + '_'\n",
    "        if filename.startswith(newBase) and filename.endswith('.zip'):\n",
    "            continue    #don't backup the backup ZIP files\n",
    "        backupZip.write(os.path.join(foldername, filename))\n",
    "    backupZip.close()\n",
    "    print('Done.')"
   ]
  },
  {
   "cell_type": "code",
   "execution_count": 54,
   "metadata": {},
   "outputs": [
    {
     "name": "stdout",
     "output_type": "stream",
     "text": [
      "Creating Automate the boring stuff with Python-2.zip...\n",
      "Adding files in /Users/penguiny9/Desktop/Programming/Python Projects/Automate the boring stuff with Python...\n",
      "Adding files in /Users/penguiny9/Desktop/Programming/Python Projects/Automate the boring stuff with Python/cats...\n",
      "Adding files in /Users/penguiny9/Desktop/Programming/Python Projects/Automate the boring stuff with Python/source code...\n",
      "Adding files in /Users/penguiny9/Desktop/Programming/Python Projects/Automate the boring stuff with Python/test...\n",
      "Adding files in /Users/penguiny9/Desktop/Programming/Python Projects/Automate the boring stuff with Python/test1...\n",
      "Adding files in /Users/penguiny9/Desktop/Programming/Python Projects/Automate the boring stuff with Python/quiz...\n",
      "Adding files in /Users/penguiny9/Desktop/Programming/Python Projects/Automate the boring stuff with Python/__pycache__...\n",
      "Adding files in /Users/penguiny9/Desktop/Programming/Python Projects/Automate the boring stuff with Python/.ipynb_checkpoints...\n",
      "Done.\n"
     ]
    }
   ],
   "source": [
    "backupToZip('/Users/penguiny9/Desktop/Programming/Python Projects/Automate the boring stuff with Python/')"
   ]
  }
 ],
 "metadata": {
  "kernelspec": {
   "display_name": "Python 3",
   "language": "python",
   "name": "python3"
  },
  "language_info": {
   "codemirror_mode": {
    "name": "ipython",
    "version": 3
   },
   "file_extension": ".py",
   "mimetype": "text/x-python",
   "name": "python",
   "nbconvert_exporter": "python",
   "pygments_lexer": "ipython3",
   "version": "3.7.3"
  }
 },
 "nbformat": 4,
 "nbformat_minor": 2
}
