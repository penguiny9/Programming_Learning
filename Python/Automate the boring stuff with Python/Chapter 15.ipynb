{
 "cells": [
  {
   "cell_type": "markdown",
   "metadata": {},
   "source": [
    "# Chapter 15 保持事件、计划任务和启动程序"
   ]
  },
  {
   "cell_type": "markdown",
   "metadata": {},
   "source": [
    "## 15.1 time模块"
   ]
  },
  {
   "cell_type": "markdown",
   "metadata": {},
   "source": [
    "### 15.1.1 time.time()函数"
   ]
  },
  {
   "cell_type": "code",
   "execution_count": 1,
   "metadata": {},
   "outputs": [
    {
     "data": {
      "text/plain": [
       "1564291324.441601"
      ]
     },
     "execution_count": 1,
     "metadata": {},
     "output_type": "execute_result"
    }
   ],
   "source": [
    "import time\n",
    "time.time()"
   ]
  },
  {
   "cell_type": "code",
   "execution_count": 3,
   "metadata": {},
   "outputs": [],
   "source": [
    "import time\n",
    "def calcProd():\n",
    "    #Calculate the product of the first 100,000 numbers.\n",
    "    product=1\n",
    "    for i in range(1, 100000):\n",
    "        product=product*i\n",
    "    return product"
   ]
  },
  {
   "cell_type": "code",
   "execution_count": 4,
   "metadata": {},
   "outputs": [
    {
     "name": "stdout",
     "output_type": "stream",
     "text": [
      "The result is 456569 digits long.\n",
      "Took 3.5445730686187744 seconds to calculate.\n"
     ]
    }
   ],
   "source": [
    "startTime=time.time()\n",
    "prod=calcProd()\n",
    "endTime=time.time()\n",
    "print('The result is %s digits long.' %(len(str(prod))))\n",
    "print('Took %s seconds to calculate.' %(endTime-startTime))"
   ]
  },
  {
   "cell_type": "markdown",
   "metadata": {},
   "source": [
    "### 15.1.2 time.sleep()函数"
   ]
  },
  {
   "cell_type": "code",
   "execution_count": 6,
   "metadata": {},
   "outputs": [
    {
     "name": "stdout",
     "output_type": "stream",
     "text": [
      "Tick\n",
      "Tock\n",
      "Tick\n",
      "Tock\n",
      "Tick\n",
      "Tock\n"
     ]
    }
   ],
   "source": [
    "import time\n",
    "for i in range(3):\n",
    "    print('Tick')\n",
    "    time.sleep(1)\n",
    "    print('Tock')\n",
    "    time.sleep(1)\n",
    "time.sleep(5)"
   ]
  },
  {
   "cell_type": "markdown",
   "metadata": {},
   "source": [
    "## 15.2 数字四舍五入"
   ]
  },
  {
   "cell_type": "code",
   "execution_count": 7,
   "metadata": {},
   "outputs": [
    {
     "data": {
      "text/plain": [
       "1564291790.640497"
      ]
     },
     "execution_count": 7,
     "metadata": {},
     "output_type": "execute_result"
    }
   ],
   "source": [
    "import time\n",
    "now=time.time()\n",
    "now"
   ]
  },
  {
   "cell_type": "code",
   "execution_count": 8,
   "metadata": {},
   "outputs": [
    {
     "data": {
      "text/plain": [
       "1564291790.64"
      ]
     },
     "execution_count": 8,
     "metadata": {},
     "output_type": "execute_result"
    }
   ],
   "source": [
    "round(now,2)"
   ]
  },
  {
   "cell_type": "code",
   "execution_count": 9,
   "metadata": {},
   "outputs": [
    {
     "data": {
      "text/plain": [
       "1564291790.6405"
      ]
     },
     "execution_count": 9,
     "metadata": {},
     "output_type": "execute_result"
    }
   ],
   "source": [
    "round(now,4)"
   ]
  },
  {
   "cell_type": "code",
   "execution_count": 10,
   "metadata": {},
   "outputs": [
    {
     "data": {
      "text/plain": [
       "1564291791"
      ]
     },
     "execution_count": 10,
     "metadata": {},
     "output_type": "execute_result"
    }
   ],
   "source": [
    "round(now)"
   ]
  },
  {
   "cell_type": "markdown",
   "metadata": {},
   "source": [
    "## 15.3 项目：超级秒表"
   ]
  },
  {
   "cell_type": "markdown",
   "metadata": {},
   "source": [
    "### 15.3.1 设置程序来记录时间"
   ]
  },
  {
   "cell_type": "code",
   "execution_count": null,
   "metadata": {},
   "outputs": [],
   "source": [
    "import time\n",
    "\n",
    "# Display the program's instructions.\n",
    "print(\"Press ENTER to begin. Afterwards, press ENTER to 'click' the stopwatch. Press Ctrl-C to quit.\")\n",
    "input()\n",
    "print('Started.')\n",
    "startTime=time.time()    # get the first lap's start time\n",
    "lastTime=startTime\n",
    "lapNum=1\n",
    "\n",
    "# TODO: Start tracking the lap times"
   ]
  },
  {
   "cell_type": "markdown",
   "metadata": {},
   "source": [
    "### 15.3.2 记录并打印单圈时间"
   ]
  },
  {
   "cell_type": "code",
   "execution_count": 12,
   "metadata": {},
   "outputs": [
    {
     "name": "stdout",
     "output_type": "stream",
     "text": [
      "Press ENTER to begin. Afterwards, press ENTER to 'click' the stopwatch. Press Ctrl-C to quit.\n",
      "\n",
      "Started.\n",
      "\n",
      "Lap #1: 0.29 (0.29)\n",
      "Lap #2: 0.96 (0.67)\n",
      "Lap #3: 1.4 (0.44)\n",
      "Lap #4: 1.8 (0.39)\n",
      "Done\n"
     ]
    }
   ],
   "source": [
    "import time\n",
    "\n",
    "# Display the program's instructions.\n",
    "print(\"Press ENTER to begin. Afterwards, press ENTER to 'click' the stopwatch. Press Ctrl-C to quit.\")\n",
    "input()\n",
    "print('Started.')\n",
    "startTime=time.time()    # get the first lap's start time\n",
    "lastTime=startTime\n",
    "lapNum=1\n",
    "\n",
    "# Start tracking the lap times.\n",
    "try:\n",
    "    while True:\n",
    "        input()\n",
    "        lapTime=round(time.time()-lastTime, 2)\n",
    "        totalTime=round(time.time()-startTime,2)\n",
    "        print('Lap #%s: %s (%s)' %(lapNum, totalTime, lapTime),end='')\n",
    "        lapNum+=1\n",
    "        lastTime=time.time()    #reset the last lap tie\n",
    "except KeyboardInterrupt:\n",
    "    #Handle the Ctrl-C exeption to keep its error message from displaying.\n",
    "    print('\\nDone')"
   ]
  },
  {
   "cell_type": "markdown",
   "metadata": {},
   "source": [
    "### 15.4 datetime模块"
   ]
  },
  {
   "cell_type": "code",
   "execution_count": 13,
   "metadata": {},
   "outputs": [
    {
     "data": {
      "text/plain": [
       "datetime.datetime(2019, 7, 28, 13, 38, 33, 819499)"
      ]
     },
     "execution_count": 13,
     "metadata": {},
     "output_type": "execute_result"
    }
   ],
   "source": [
    "import datetime\n",
    "datetime.datetime.now()"
   ]
  },
  {
   "cell_type": "code",
   "execution_count": 15,
   "metadata": {},
   "outputs": [
    {
     "data": {
      "text/plain": [
       "(2019, 7, 28)"
      ]
     },
     "execution_count": 15,
     "metadata": {},
     "output_type": "execute_result"
    }
   ],
   "source": [
    "dt=datetime.datetime(2019, 7, 28, 13, 38, 33, 819499)\n",
    "dt.year, dt.month, dt.day"
   ]
  },
  {
   "cell_type": "code",
   "execution_count": 16,
   "metadata": {},
   "outputs": [
    {
     "data": {
      "text/plain": [
       "(13, 38, 33)"
      ]
     },
     "execution_count": 16,
     "metadata": {},
     "output_type": "execute_result"
    }
   ],
   "source": [
    "dt.hour, dt.minute, dt.second"
   ]
  },
  {
   "cell_type": "code",
   "execution_count": 17,
   "metadata": {},
   "outputs": [
    {
     "data": {
      "text/plain": [
       "datetime.datetime(1970, 1, 2, 11, 46, 40)"
      ]
     },
     "execution_count": 17,
     "metadata": {},
     "output_type": "execute_result"
    }
   ],
   "source": [
    "datetime.datetime.fromtimestamp(100000)"
   ]
  },
  {
   "cell_type": "code",
   "execution_count": 18,
   "metadata": {},
   "outputs": [
    {
     "data": {
      "text/plain": [
       "datetime.datetime(2019, 7, 28, 13, 40, 13, 198637)"
      ]
     },
     "execution_count": 18,
     "metadata": {},
     "output_type": "execute_result"
    }
   ],
   "source": [
    "datetime.datetime.fromtimestamp(time.time())"
   ]
  },
  {
   "cell_type": "code",
   "execution_count": 21,
   "metadata": {},
   "outputs": [
    {
     "data": {
      "text/plain": [
       "True"
      ]
     },
     "execution_count": 21,
     "metadata": {},
     "output_type": "execute_result"
    }
   ],
   "source": [
    "halloween2015=datetime.datetime(2015,10,31,0,0,0)\n",
    "newyears2016=datetime.datetime(2016,1,1,0,0,0)\n",
    "oct31_2015=datetime.datetime(2015,10,31,0,0,0)\n",
    "halloween2015==oct31_2015"
   ]
  },
  {
   "cell_type": "code",
   "execution_count": 22,
   "metadata": {},
   "outputs": [
    {
     "data": {
      "text/plain": [
       "False"
      ]
     },
     "execution_count": 22,
     "metadata": {},
     "output_type": "execute_result"
    }
   ],
   "source": [
    "halloween2015>newyears2016"
   ]
  },
  {
   "cell_type": "code",
   "execution_count": 23,
   "metadata": {},
   "outputs": [
    {
     "data": {
      "text/plain": [
       "True"
      ]
     },
     "execution_count": 23,
     "metadata": {},
     "output_type": "execute_result"
    }
   ],
   "source": [
    "newyears2016>halloween2015"
   ]
  },
  {
   "cell_type": "code",
   "execution_count": 24,
   "metadata": {},
   "outputs": [
    {
     "data": {
      "text/plain": [
       "True"
      ]
     },
     "execution_count": 24,
     "metadata": {},
     "output_type": "execute_result"
    }
   ],
   "source": [
    "newyears2016!=oct31_2015"
   ]
  },
  {
   "cell_type": "markdown",
   "metadata": {},
   "source": [
    "### 15.4.1 timedelta数据类型"
   ]
  },
  {
   "cell_type": "code",
   "execution_count": 25,
   "metadata": {},
   "outputs": [
    {
     "data": {
      "text/plain": [
       "(11, 36548, 0)"
      ]
     },
     "execution_count": 25,
     "metadata": {},
     "output_type": "execute_result"
    }
   ],
   "source": [
    "delta=datetime.timedelta(days=11, hours=10, minutes=9, seconds=8)\n",
    "delta.days, delta.seconds, delta.microseconds"
   ]
  },
  {
   "cell_type": "code",
   "execution_count": 26,
   "metadata": {},
   "outputs": [
    {
     "data": {
      "text/plain": [
       "986948.0"
      ]
     },
     "execution_count": 26,
     "metadata": {},
     "output_type": "execute_result"
    }
   ],
   "source": [
    "delta.total_seconds()"
   ]
  },
  {
   "cell_type": "code",
   "execution_count": 27,
   "metadata": {},
   "outputs": [
    {
     "data": {
      "text/plain": [
       "'11 days, 10:09:08'"
      ]
     },
     "execution_count": 27,
     "metadata": {},
     "output_type": "execute_result"
    }
   ],
   "source": [
    "str(delta)"
   ]
  },
  {
   "cell_type": "code",
   "execution_count": 29,
   "metadata": {},
   "outputs": [
    {
     "data": {
      "text/plain": [
       "datetime.datetime(2019, 7, 28, 13, 46, 39, 833302)"
      ]
     },
     "execution_count": 29,
     "metadata": {},
     "output_type": "execute_result"
    }
   ],
   "source": [
    "dt=datetime.datetime.now()\n",
    "dt"
   ]
  },
  {
   "cell_type": "code",
   "execution_count": 30,
   "metadata": {},
   "outputs": [
    {
     "data": {
      "text/plain": [
       "datetime.datetime(2022, 4, 23, 13, 46, 39, 833302)"
      ]
     },
     "execution_count": 30,
     "metadata": {},
     "output_type": "execute_result"
    }
   ],
   "source": [
    "thousandDays=datetime.timedelta(days=1000)\n",
    "dt+thousandDays"
   ]
  },
  {
   "cell_type": "code",
   "execution_count": 33,
   "metadata": {},
   "outputs": [
    {
     "data": {
      "text/plain": [
       "datetime.datetime(2015, 10, 21, 16, 29)"
      ]
     },
     "execution_count": 33,
     "metadata": {},
     "output_type": "execute_result"
    }
   ],
   "source": [
    "oct21st=datetime.datetime(2015,10,21,16,29,0)\n",
    "aboutThirtyYears=datetime.timedelta(days=365*30)\n",
    "oct21st"
   ]
  },
  {
   "cell_type": "code",
   "execution_count": 36,
   "metadata": {},
   "outputs": [
    {
     "data": {
      "text/plain": [
       "datetime.datetime(1985, 10, 28, 16, 29)"
      ]
     },
     "execution_count": 36,
     "metadata": {},
     "output_type": "execute_result"
    }
   ],
   "source": [
    "oct21st-aboutThirtyYears"
   ]
  },
  {
   "cell_type": "code",
   "execution_count": 37,
   "metadata": {},
   "outputs": [
    {
     "data": {
      "text/plain": [
       "datetime.datetime(1955, 11, 5, 16, 29)"
      ]
     },
     "execution_count": 37,
     "metadata": {},
     "output_type": "execute_result"
    }
   ],
   "source": [
    "oct21st-2*aboutThirtyYears"
   ]
  },
  {
   "cell_type": "markdown",
   "metadata": {},
   "source": [
    "### 15.4.2 暂停直至特定日期"
   ]
  },
  {
   "cell_type": "code",
   "execution_count": 38,
   "metadata": {},
   "outputs": [],
   "source": [
    "import datetime\n",
    "import time\n",
    "halloween2016=datetime.datetime(2016,10,31,0,0,0)\n",
    "while datetime.datetime.now()<halloween2016:\n",
    "    time.sleep(1)"
   ]
  },
  {
   "cell_type": "markdown",
   "metadata": {},
   "source": [
    "### 15.4.3 将datetime对象转换为字符串"
   ]
  },
  {
   "cell_type": "code",
   "execution_count": 39,
   "metadata": {},
   "outputs": [
    {
     "data": {
      "text/plain": [
       "'20151021 16:29:00'"
      ]
     },
     "execution_count": 39,
     "metadata": {},
     "output_type": "execute_result"
    }
   ],
   "source": [
    "oct21st=datetime.datetime(2015,10,21,16,29,0)\n",
    "oct21st.strftime('%Y%m%d %H:%M:%S')"
   ]
  },
  {
   "cell_type": "code",
   "execution_count": 40,
   "metadata": {},
   "outputs": [
    {
     "data": {
      "text/plain": [
       "'04:29:PM'"
      ]
     },
     "execution_count": 40,
     "metadata": {},
     "output_type": "execute_result"
    }
   ],
   "source": [
    "oct21st.strftime('%I:%M:%p')"
   ]
  },
  {
   "cell_type": "code",
   "execution_count": 42,
   "metadata": {},
   "outputs": [
    {
     "data": {
      "text/plain": [
       "'October of 15'"
      ]
     },
     "execution_count": 42,
     "metadata": {},
     "output_type": "execute_result"
    }
   ],
   "source": [
    "oct21st.strftime('%B of %y')"
   ]
  },
  {
   "cell_type": "markdown",
   "metadata": {},
   "source": [
    "### 15.4.4 将字符串转换成datetime对象"
   ]
  },
  {
   "cell_type": "code",
   "execution_count": 43,
   "metadata": {},
   "outputs": [
    {
     "data": {
      "text/plain": [
       "datetime.datetime(2015, 10, 21, 0, 0)"
      ]
     },
     "execution_count": 43,
     "metadata": {},
     "output_type": "execute_result"
    }
   ],
   "source": [
    "datetime.datetime.strptime('October 21, 2015','%B %d, %Y')"
   ]
  },
  {
   "cell_type": "code",
   "execution_count": 44,
   "metadata": {},
   "outputs": [
    {
     "data": {
      "text/plain": [
       "datetime.datetime(2015, 10, 21, 16, 29)"
      ]
     },
     "execution_count": 44,
     "metadata": {},
     "output_type": "execute_result"
    }
   ],
   "source": [
    "datetime.datetime.strptime('2015/10/21 16:29:00', '%Y/%m/%d %H:%M:%S')"
   ]
  },
  {
   "cell_type": "code",
   "execution_count": 45,
   "metadata": {},
   "outputs": [
    {
     "data": {
      "text/plain": [
       "datetime.datetime(2015, 10, 1, 0, 0)"
      ]
     },
     "execution_count": 45,
     "metadata": {},
     "output_type": "execute_result"
    }
   ],
   "source": [
    "datetime.datetime.strptime(\"October of '15\", \"%B of '%y\")"
   ]
  },
  {
   "cell_type": "code",
   "execution_count": 46,
   "metadata": {},
   "outputs": [
    {
     "data": {
      "text/plain": [
       "datetime.datetime(2063, 11, 1, 0, 0)"
      ]
     },
     "execution_count": 46,
     "metadata": {},
     "output_type": "execute_result"
    }
   ],
   "source": [
    "datetime.datetime.strptime(\"November of '63\", \"%B of '%y\")"
   ]
  },
  {
   "cell_type": "markdown",
   "metadata": {},
   "source": [
    "## 15.6 多线程"
   ]
  },
  {
   "cell_type": "code",
   "execution_count": 48,
   "metadata": {},
   "outputs": [
    {
     "name": "stdout",
     "output_type": "stream",
     "text": [
      "Program now starting on Halloween 2029\n"
     ]
    }
   ],
   "source": [
    "import time, datetime\n",
    "\n",
    "startTime=datetime.datetime(2009, 10, 31, 0, 0, 0)\n",
    "while datetime.datetime.now()<startTime:\n",
    "    time.sleep(1)\n",
    "    \n",
    "print('Program now starting on Halloween 2009')"
   ]
  },
  {
   "cell_type": "code",
   "execution_count": 49,
   "metadata": {},
   "outputs": [
    {
     "name": "stdout",
     "output_type": "stream",
     "text": [
      "Start of program.\n",
      "End of program.\n",
      "Wake up!\n"
     ]
    }
   ],
   "source": [
    "import threading, time\n",
    "print('Start of program.')\n",
    "\n",
    "def takeANap():\n",
    "    time.sleep(5)\n",
    "    print('Wake up!')\n",
    "    \n",
    "threadObj=threading.Thread(target=takeANap)\n",
    "threadObj.start()\n",
    "\n",
    "print('End of program.')"
   ]
  },
  {
   "cell_type": "markdown",
   "metadata": {},
   "source": [
    "### 15.6.1 向线程的目标函数传递参数"
   ]
  },
  {
   "cell_type": "code",
   "execution_count": 50,
   "metadata": {},
   "outputs": [
    {
     "name": "stdout",
     "output_type": "stream",
     "text": [
      "Cats&Dogs&Frogs\n"
     ]
    }
   ],
   "source": [
    "print('Cats','Dogs','Frogs', sep='&')"
   ]
  },
  {
   "cell_type": "code",
   "execution_count": 51,
   "metadata": {},
   "outputs": [
    {
     "name": "stdout",
     "output_type": "stream",
     "text": [
      "Cats&Dogs&Frogs\n"
     ]
    }
   ],
   "source": [
    "import threading\n",
    "threadObj=threading.Thread(target=print, args=['Cats','Dogs','Frogs'], kwargs={'sep':'&'})\n",
    "threadObj.start()"
   ]
  },
  {
   "cell_type": "markdown",
   "metadata": {},
   "source": [
    "### 15.6.2 并发问题"
   ]
  },
  {
   "cell_type": "markdown",
   "metadata": {},
   "source": [
    "## 15.7 项目：多线程XKCD下载程序"
   ]
  },
  {
   "cell_type": "markdown",
   "metadata": {},
   "source": [
    "### 15.7.1 修改程序以使用函数"
   ]
  },
  {
   "cell_type": "code",
   "execution_count": 58,
   "metadata": {},
   "outputs": [],
   "source": [
    "import requests, os, bs4, threading\n",
    "os.makedirs('xkcd',exist_ok=True)    #store comics in ./xkcd\n",
    "\n",
    "def downloadXkcd(startComic, endComic):\n",
    "    for urlNumber in range(startComic, endComic):\n",
    "        #Download the page.\n",
    "        print(\"Downloading page http://xkcd.com/%s...\" %(urlNumber))\n",
    "        res=requests.get('http://xkcd.com/%s' %(urlNumber))\n",
    "        res.raise_for_status()\n",
    "        \n",
    "        soup=bs4.BeautifulSoup(res.text)\n",
    "        \n",
    "        #Find the URL of the comic image.\n",
    "        comicElem=soup.select('#comic img')\n",
    "        if comicElem==[]:\n",
    "            print('Could not find comic image.')\n",
    "        else:\n",
    "            comicUrl=comicElem[0].get('src')\n",
    "            #Download the image.\n",
    "            print(\"Downloading image %s...\" %(comicUrl))\n",
    "            res=requests.get(comicUrl)\n",
    "            res.raise_for_status()\n",
    "            \n",
    "            #Save the image to ./xkcd.\n",
    "            imageFile=open(os.path.join('xkcd', os.path.basename(comicUrl)),'wb')\n",
    "            for chunk in res.iter_content(100000):\n",
    "                imageFile.write(chunk)\n",
    "            imageFile.close()\n",
    "\n",
    "# TODO: Create and start the Thread Objects.\n",
    "# TODO: Wait for all threads to end."
   ]
  },
  {
   "cell_type": "markdown",
   "metadata": {},
   "source": [
    "### 15.7.2 创建并启动线程"
   ]
  },
  {
   "cell_type": "code",
   "execution_count": 60,
   "metadata": {},
   "outputs": [
    {
     "name": "stdout",
     "output_type": "stream",
     "text": [
      "Downloading page http://xkcd.com/0...\n",
      "Downloading page http://xkcd.com/100...\n",
      "Downloading page http://xkcd.com/200...\n",
      "Downloading page http://xkcd.com/300...\n",
      "Downloading page http://xkcd.com/400...\n",
      "Downloading page http://xkcd.com/500...Downloading page http://xkcd.com/600...\n",
      "Downloading page http://xkcd.com/700...\n",
      "\n",
      "Downloading page http://xkcd.com/800...\n",
      "Downloading page http://xkcd.com/900...Downloading page http://xkcd.com/1000...\n",
      "Downloading page http://xkcd.com/1100...\n",
      "\n",
      "Downloading page http://xkcd.com/1200...Downloading page http://xkcd.com/1300...\n",
      "\n",
      "Downloading image http://imgs.xkcd.com/comics/galilean_moons.png...\n",
      "Downloading image http://imgs.xkcd.com/comics/election.png...\n",
      "Downloading image http://imgs.xkcd.com/comics/facebook.png...\n",
      "Downloading image http://imgs.xkcd.com/comics/vows.png...\n",
      "Downloading page http://xkcd.com/1301...\n",
      "Downloading image http://imgs.xkcd.com/comics/bill_nye.png...\n",
      "Downloading page http://xkcd.com/501...\n",
      "Downloading image http://imgs.xkcd.com/comics/1000_comics.png...\n",
      "Downloading page http://xkcd.com/301...\n",
      "Downloading image http://imgs.xkcd.com/comics/beautiful_dream.png...\n",
      "Downloading page http://xkcd.com/1101...\n",
      "Downloading page http://xkcd.com/201...\n",
      "Downloading image http://imgs.xkcd.com/comics/family_circus.jpg...\n",
      "Downloading page http://xkcd.com/1001...\n",
      "Downloading image http://imgs.xkcd.com/comics/complexion.png...\n",
      "Downloading image http://imgs.xkcd.com/comics/important_life_lesson.png...\n",
      "Downloading image http://imgs.xkcd.com/comics/religions.png...\n"
     ]
    },
    {
     "name": "stderr",
     "output_type": "stream",
     "text": [
      "Exception in thread Thread-20:\n",
      "Traceback (most recent call last):\n",
      "  File \"/Library/Frameworks/Python.framework/Versions/3.7/lib/python3.7/threading.py\", line 917, in _bootstrap_inner\n",
      "    self.run()\n",
      "  File \"/Library/Frameworks/Python.framework/Versions/3.7/lib/python3.7/threading.py\", line 865, in run\n",
      "    self._target(*self._args, **self._kwargs)\n",
      "  File \"<ipython-input-60-20f67a6ffff4>\", line 9, in downloadXkcd\n",
      "    res.raise_for_status()\n",
      "  File \"/Library/Frameworks/Python.framework/Versions/3.7/lib/python3.7/site-packages/requests/models.py\", line 940, in raise_for_status\n",
      "    raise HTTPError(http_error_msg, response=self)\n",
      "requests.exceptions.HTTPError: 404 Client Error: Not Found for url: https://xkcd.com/0\n",
      "\n"
     ]
    },
    {
     "name": "stdout",
     "output_type": "stream",
     "text": [
      "Downloading page http://xkcd.com/801...\n",
      "Downloading page http://xkcd.com/401...\n",
      "Downloading page http://xkcd.com/101...\n",
      "Downloading page http://xkcd.com/701...\n",
      "Downloading image http://imgs.xkcd.com/comics/android_boyfriend.png...\n",
      "Downloading page http://xkcd.com/901...\n",
      "Downloading page http://xkcd.com/601...\n",
      "Downloading image http://imgs.xkcd.com/comics/limerick.png...\n",
      "Downloading image http://imgs.xkcd.com/comics/laser_scope.jpg...\n",
      "Downloading image http://imgs.xkcd.com/comics/faust_20.png...\n",
      "Downloading image http://imgs.xkcd.com/comics/christmas_gps.png...\n",
      "Downloading image http://imgs.xkcd.com/comics/file_extensions.png...\n",
      "Downloading page http://xkcd.com/302...\n",
      "Downloading image http://imgs.xkcd.com/comics/golden_hammer.png...\n",
      "Downloading page http://xkcd.com/1302...\n",
      "Downloading page http://xkcd.com/102...\n",
      "Downloading page http://xkcd.com/502...\n",
      "Downloading image http://imgs.xkcd.com/comics/science_valentine.png...\n",
      "Downloading page http://xkcd.com/802...\n",
      "Downloading image http://imgs.xkcd.com/comics/temperature.png...\n",
      "Downloading image http://imgs.xkcd.com/comics/sketchiness.png...\n",
      "Downloading image http://imgs.xkcd.com/comics/authorization.png...\n",
      "Downloading page http://xkcd.com/202...\n",
      "Downloading image http://imgs.xkcd.com/comics/game_theory.png...\n",
      "Downloading page http://xkcd.com/702...\n",
      "Downloading page http://xkcd.com/1102...\n",
      "Downloading page http://xkcd.com/602...\n",
      "Downloading page http://xkcd.com/1201...\n",
      "Downloading image http://imgs.xkcd.com/comics/year_in_review.png...\n",
      "Downloading page http://xkcd.com/902...\n",
      "Downloading page http://xkcd.com/1303...\n",
      "Downloading image http://imgs.xkcd.com/comics/integration_by_parts.png...\n",
      "Downloading image http://imgs.xkcd.com/comics/back_to_the_future.jpg...\n",
      "Downloading image http://imgs.xkcd.com/comics/snow_tracking.png...\n",
      "Downloading image http://imgs.xkcd.com/comics/online_communities_2.png...\n",
      "Downloading image http://imgs.xkcd.com/comics/overstimulated.png...\n",
      "Downloading page http://xkcd.com/1202...\n",
      "Downloading image http://imgs.xkcd.com/comics/dark_flow.png...\n",
      "Downloading image http://imgs.xkcd.com/comics/fastest_growing.png...\n",
      "Downloading image http://imgs.xkcd.com/comics/aaaaaa.png...\n",
      "Downloading image http://imgs.xkcd.com/comics/darmok_and_jalad.png...\n",
      "Downloading page http://xkcd.com/703...\n",
      "Downloading image http://imgs.xkcd.com/comics/youtube.png...\n",
      "Downloading image http://imgs.xkcd.com/comics/profile_info.png...\n",
      "Downloading page http://xkcd.com/103...\n",
      "Downloading page http://xkcd.com/503...\n",
      "Downloading page http://xkcd.com/903...\n",
      "Downloading page http://xkcd.com/1304...\n",
      "Downloading image http://imgs.xkcd.com/comics/girls_and_boys.png...\n",
      "Downloading image http://imgs.xkcd.com/comics/terminology.png...\n",
      "Downloading page http://xkcd.com/1103...\n",
      "Downloading image http://imgs.xkcd.com/comics/glass_trolling.png...\n",
      "Downloading image http://imgs.xkcd.com/comics/moral_relativity.jpg...\n",
      "Downloading page http://xkcd.com/1203...\n",
      "Downloading image http://imgs.xkcd.com/comics/large_hadron_collider.png...\n",
      "Downloading page http://xkcd.com/504...\n",
      "Downloading image http://imgs.xkcd.com/comics/honor_societies.png...\n",
      "Downloading image http://imgs.xkcd.com/comics/names.png...\n",
      "Downloading image http://imgs.xkcd.com/comics/extended_mind.png...\n",
      "Downloading image http://imgs.xkcd.com/comics/nine.png...\n",
      "Downloading page http://xkcd.com/1305...\n",
      "Downloading page http://xkcd.com/1104...\n",
      "Downloading page http://xkcd.com/402...\n",
      "Downloading image http://imgs.xkcd.com/comics/time_machines.png...\n",
      "Downloading image http://imgs.xkcd.com/comics/undocumented_feature.png...\n",
      "Downloading page http://xkcd.com/303...\n",
      "Downloading image http://imgs.xkcd.com/comics/feathers.png...\n",
      "Downloading page http://xkcd.com/203...\n",
      "Downloading image http://imgs.xkcd.com/comics/legal_hacks.png...\n",
      "Downloading page http://xkcd.com/1204...\n",
      "Downloading image http://imgs.xkcd.com/comics/compiling.png...\n",
      "Downloading page http://xkcd.com/1105...\n",
      "Downloading image http://imgs.xkcd.com/comics/1000_miles_north.png...\n",
      "Downloading page http://xkcd.com/505...\n",
      "Downloading image http://imgs.xkcd.com/comics/detail.png...\n",
      "Downloading page http://xkcd.com/104...\n",
      "Downloading page http://xkcd.com/1205...\n",
      "Downloading image http://imgs.xkcd.com/comics/license_plate.png...\n",
      "Downloading page http://xkcd.com/304...\n",
      "Downloading image http://imgs.xkcd.com/comics/a_bunch_of_rocks.png...\n",
      "Downloading image http://imgs.xkcd.com/comics/nighttime_stories.jpg...\n",
      "Downloading page http://xkcd.com/904...\n",
      "Downloading image http://imgs.xkcd.com/comics/find_you.jpg...\n",
      "Downloading page http://xkcd.com/403...\n",
      "Downloading page http://xkcd.com/506...\n",
      "Downloading page http://xkcd.com/105...\n",
      "Downloading page http://xkcd.com/1002...\n",
      "Downloading page http://xkcd.com/305...\n",
      "Downloading image http://imgs.xkcd.com/comics/hallucinations.png...\n",
      "Downloading image http://imgs.xkcd.com/comics/is_it_worth_the_time.png...\n",
      "Downloading page http://xkcd.com/1206...\n",
      "Downloading page http://xkcd.com/204...\n",
      "Downloading image http://imgs.xkcd.com/comics/game_ais.png...\n",
      "Downloading image http://imgs.xkcd.com/comics/parallel_universe.jpg...\n",
      "Downloading page http://xkcd.com/1003...\n",
      "Downloading page http://xkcd.com/704...\n",
      "Downloading page http://xkcd.com/106...\n",
      "Downloading image http://imgs.xkcd.com/comics/convincing_pickup_line.png...\n",
      "Downloading page http://xkcd.com/603...\n",
      "Downloading image http://imgs.xkcd.com/comics/rule_34.png...\n",
      "Downloading page http://xkcd.com/404...\n",
      "Downloading image http://imgs.xkcd.com/comics/theft_of_the_magi.png...\n",
      "Downloading page http://xkcd.com/306...\n",
      "Downloading image http://imgs.xkcd.com/comics/america.png...\n",
      "Downloading page http://xkcd.com/507...\n",
      "Downloading image http://imgs.xkcd.com/comics/sports.png...\n",
      "Downloading page http://xkcd.com/205...\n",
      "Downloading image http://imgs.xkcd.com/comics/einstein.png...Downloading image http://imgs.xkcd.com/comics/adam_and_eve.png...\n",
      "\n",
      "Downloading page http://xkcd.com/905...\n",
      "Downloading image http://imgs.xkcd.com/comics/principle_of_explosion.png...\n",
      "Downloading page http://xkcd.com/1004...\n",
      "Downloading page http://xkcd.com/1207...\n"
     ]
    },
    {
     "name": "stderr",
     "output_type": "stream",
     "text": [
      "Exception in thread Thread-24:\n",
      "Traceback (most recent call last):\n",
      "  File \"/Library/Frameworks/Python.framework/Versions/3.7/lib/python3.7/threading.py\", line 917, in _bootstrap_inner\n",
      "    self.run()\n",
      "  File \"/Library/Frameworks/Python.framework/Versions/3.7/lib/python3.7/threading.py\", line 865, in run\n",
      "    self._target(*self._args, **self._kwargs)\n",
      "  File \"<ipython-input-60-20f67a6ffff4>\", line 9, in downloadXkcd\n",
      "    res.raise_for_status()\n",
      "  File \"/Library/Frameworks/Python.framework/Versions/3.7/lib/python3.7/site-packages/requests/models.py\", line 940, in raise_for_status\n",
      "    raise HTTPError(http_error_msg, response=self)\n",
      "requests.exceptions.HTTPError: 404 Client Error: Not Found for url: https://xkcd.com/404\n",
      "\n"
     ]
    },
    {
     "name": "stdout",
     "output_type": "stream",
     "text": [
      "Downloading page http://xkcd.com/705...\n",
      "Downloading image http://imgs.xkcd.com/comics/orphaned_projects.png...\n",
      "Downloading image http://imgs.xkcd.com/comics/experimentation.png...\n",
      "Downloading image http://imgs.xkcd.com/comics/wright_brothers.png...\n",
      "Downloading page http://xkcd.com/307...\n",
      "Downloading page http://xkcd.com/508...\n",
      "Downloading image http://imgs.xkcd.com/comics/candy_button_paper.png...\n",
      "Downloading image http://imgs.xkcd.com/comics/homeownership.png...\n",
      "Downloading page http://xkcd.com/107...\n",
      "Downloading image http://imgs.xkcd.com/comics/idiocracy.png...\n",
      "Downloading image http://imgs.xkcd.com/comics/airaware.png...\n",
      "Downloading page http://xkcd.com/906...\n",
      "Downloading image http://imgs.xkcd.com/comics/batman.png...\n",
      "Downloading page http://xkcd.com/206...\n",
      "Downloading page http://xkcd.com/1208...\n",
      "Downloading page http://xkcd.com/604...\n",
      "Downloading page http://xkcd.com/1005...\n",
      "Downloading page http://xkcd.com/1106...\n",
      "Downloading image http://imgs.xkcd.com/comics/drapes.png...\n",
      "Downloading image http://imgs.xkcd.com/comics/citations.png...\n",
      "Downloading page http://xkcd.com/509...\n",
      "Downloading image http://imgs.xkcd.com/comics/snakes_on_a_plane_2.jpg...\n",
      "Downloading page http://xkcd.com/907...\n",
      "Downloading image http://imgs.xkcd.com/comics/add.png...\n",
      "Downloading image http://imgs.xkcd.com/comics/excessive_quotation.png...\n",
      "Downloading page http://xkcd.com/108...\n",
      "Downloading image http://imgs.xkcd.com/comics/devotion_to_duty.png...\n",
      "Downloading page http://xkcd.com/308...\n",
      "Downloading page http://xkcd.com/1107...\n",
      "Downloading page http://xkcd.com/706...\n",
      "Downloading image http://imgs.xkcd.com/comics/induced_current.png...\n",
      "Downloading image http://imgs.xkcd.com/comics/footnote_labyrinths.png...\n",
      "Downloading page http://xkcd.com/510...\n",
      "Downloading image http://imgs.xkcd.com/comics/qwertial_aphasia.png...\n",
      "Downloading image http://imgs.xkcd.com/comics/ages.png...\n",
      "Downloading page http://xkcd.com/1209...\n",
      "Downloading page http://xkcd.com/908...\n",
      "Downloading image http://imgs.xkcd.com/comics/freedom.png...\n",
      "Downloading page http://xkcd.com/605...\n",
      "Downloading image http://imgs.xkcd.com/comics/mc_hammer_slide.png...\n",
      "Downloading page http://xkcd.com/1306...\n",
      "Downloading image http://imgs.xkcd.com/comics/sopa.png...\n",
      "Downloading page http://xkcd.com/109...\n",
      "Downloading page http://xkcd.com/1006...\n",
      "Downloading page http://xkcd.com/707...\n",
      "Downloading image http://imgs.xkcd.com/comics/interesting_life.png...\n",
      "Downloading image http://imgs.xkcd.com/comics/egg_drop_failure.png...\n",
      "Downloading image http://imgs.xkcd.com/comics/sigil_cycle.png...\n",
      "Downloading image http://imgs.xkcd.com/comics/sloppier_than_fiction.png...\n",
      "Downloading image http://imgs.xkcd.com/comics/spoiler_alert.png...\n",
      "Downloading page http://xkcd.com/511...\n",
      "Downloading image http://imgs.xkcd.com/comics/sports_cheat_sheet.png...\n",
      "Downloading image http://imgs.xkcd.com/comics/the_cloud.png...\n",
      "Downloading page http://xkcd.com/1307...\n",
      "Downloading page http://xkcd.com/309...\n",
      "Downloading image http://imgs.xkcd.com/comics/extrapolating.png...\n",
      "Downloading image http://imgs.xkcd.com/comics/joshing.png...\n",
      "Downloading page http://xkcd.com/110...\n",
      "Downloading page http://xkcd.com/1007...\n",
      "Downloading page http://xkcd.com/606...\n",
      "Downloading page http://xkcd.com/909...\n",
      "Downloading page http://xkcd.com/1108...\n",
      "Downloading page http://xkcd.com/708...\n",
      "Downloading image http://imgs.xkcd.com/comics/buzzfeed_christmas.png...\n",
      "Downloading image http://imgs.xkcd.com/comics/shopping_teams.png...\n",
      "Downloading page http://xkcd.com/1308...\n",
      "Downloading image http://imgs.xkcd.com/comics/sleet.png...\n",
      "Downloading page http://xkcd.com/310...\n",
      "Downloading image http://imgs.xkcd.com/comics/encoding.png...\n",
      "Downloading page http://xkcd.com/512...\n",
      "Downloading image http://imgs.xkcd.com/comics/cautionary_ghost.png...\n",
      "Downloading image http://imgs.xkcd.com/comics/sex_dice.png...\n",
      "Downloading image http://imgs.xkcd.com/comics/clark_gable.jpg...\n",
      "Downloading image http://imgs.xkcd.com/comics/christmas_lights.png...\n",
      "Downloading page http://xkcd.com/1210...\n",
      "Downloading image http://imgs.xkcd.com/comics/cutting_edge.png...\n",
      "Downloading image http://imgs.xkcd.com/comics/sustainable.png...\n",
      "Downloading page http://xkcd.com/607...\n",
      "Downloading page http://xkcd.com/1109...\n",
      "Downloading image http://imgs.xkcd.com/comics/commitment.png...\n",
      "Downloading page http://xkcd.com/1008...\n",
      "Downloading page http://xkcd.com/311...\n",
      "Downloading image http://imgs.xkcd.com/comics/im_so_random.png...\n",
      "Downloading page http://xkcd.com/709...\n",
      "Downloading page http://xkcd.com/1211...\n",
      "Downloading image http://imgs.xkcd.com/comics/alternate_currency.png...\n",
      "Downloading image http://imgs.xkcd.com/comics/refrigerator.png...\n",
      "Downloading image http://imgs.xkcd.com/comics/suckville.png...\n",
      "Downloading image http://imgs.xkcd.com/comics/worst_case_shopping.png...\n",
      "Downloading page http://xkcd.com/513...\n",
      "Downloading page http://xkcd.com/1110...\n",
      "Downloading page http://xkcd.com/1009...\n",
      "Downloading image http://imgs.xkcd.com/comics/birds_and_dinosaurs.png...\n",
      "Downloading page http://xkcd.com/910...\n",
      "Downloading page http://xkcd.com/1309...\n",
      "Downloading page http://xkcd.com/1212...\n",
      "Downloading image http://imgs.xkcd.com/comics/friends.png...\n",
      "Downloading image http://imgs.xkcd.com/comics/action_movies.png...\n",
      "Downloading image http://imgs.xkcd.com/comics/2038.png...\n",
      "Downloading image http://imgs.xkcd.com/comics/reno_rhymes.png...\n",
      "Downloading image http://imgs.xkcd.com/comics/sigh.png...\n",
      "Downloading page http://xkcd.com/312...\n",
      "Downloading page http://xkcd.com/111...\n",
      "Downloading page http://xkcd.com/608...\n",
      "Downloading page http://xkcd.com/514...\n",
      "Downloading image http://imgs.xkcd.com/comics/click_and_drag.png...\n",
      "Downloading image http://imgs.xkcd.com/comics/permanence.png...\n",
      "Downloading image http://imgs.xkcd.com/comics/i_am.png...\n",
      "Downloading image http://imgs.xkcd.com/comics/infinite_scrolling.png...\n",
      "Downloading image http://imgs.xkcd.com/comics/interstellar_memes.png...\n",
      "Downloading image http://imgs.xkcd.com/comics/simultaneous.png...\n",
      "Downloading page http://xkcd.com/1010...\n",
      "Downloading page http://xkcd.com/1310...\n",
      "Downloading page http://xkcd.com/1111...\n",
      "Downloading image http://imgs.xkcd.com/comics/with_apologies_to_robert_frost.png...\n",
      "Downloading image http://imgs.xkcd.com/comics/form.png...\n",
      "Downloading page http://xkcd.com/515...\n",
      "Downloading page http://xkcd.com/207...\n",
      "Downloading page http://xkcd.com/609...\n",
      "Downloading image http://imgs.xkcd.com/comics/firefox_wicca.png...\n",
      "Downloading image http://imgs.xkcd.com/comics/goldbach_conjectures.png...\n",
      "Downloading image http://imgs.xkcd.com/comics/etymology_man.png...\n",
      "Downloading image http://imgs.xkcd.com/comics/no_one_must_know.png...\n",
      "Downloading image http://imgs.xkcd.com/comics/premiere.png...\n",
      "Downloading page http://xkcd.com/710...\n",
      "Downloading image http://imgs.xkcd.com/comics/what_xkcd_means.png...\n",
      "Downloading page http://xkcd.com/1112...\n",
      "Downloading page http://xkcd.com/516...\n",
      "Downloading image http://imgs.xkcd.com/comics/tab_explosion.png...\n",
      "Downloading image http://imgs.xkcd.com/comics/collatz_conjecture.png...\n",
      "Downloading page http://xkcd.com/112...\n",
      "Downloading image http://imgs.xkcd.com/comics/think_logically.png...\n",
      "Downloading page http://xkcd.com/711...\n",
      "Downloading page http://xkcd.com/1113...\n",
      "Downloading page http://xkcd.com/313...\n",
      "Downloading image http://imgs.xkcd.com/comics/baring_my_heart.png...\n",
      "Downloading page http://xkcd.com/610...\n",
      "Downloading page http://xkcd.com/911...\n",
      "Downloading image http://imgs.xkcd.com/comics/seismograph.png...\n",
      "Downloading image http://imgs.xkcd.com/comics/wood_chips.png...\n",
      "Downloading page http://xkcd.com/1311...\n",
      "Downloading page http://xkcd.com/712...\n",
      "Downloading page http://xkcd.com/803...\n",
      "Downloading image http://imgs.xkcd.com/comics/insomnia.png...\n",
      "Downloading image http://imgs.xkcd.com/comics/sheeple.png...\n",
      "Downloading image http://imgs.xkcd.com/comics/killed_in_action.png...\n",
      "Downloading image http://imgs.xkcd.com/comics/magic_school_bus.png...\n",
      "Downloading page http://xkcd.com/113...\n",
      "Downloading image http://imgs.xkcd.com/comics/riemann-zeta.jpg...\n",
      "Downloading image http://imgs.xkcd.com/comics/single_ladies.png...\n",
      "Downloading page http://xkcd.com/713...\n",
      "Downloading page http://xkcd.com/114...\n",
      "Downloading page http://xkcd.com/517...\n"
     ]
    },
    {
     "name": "stdout",
     "output_type": "stream",
     "text": [
      "Downloading image http://imgs.xkcd.com/comics/airfoil.png...\n",
      "Downloading image http://imgs.xkcd.com/comics/2014.png...\n",
      "Downloading page http://xkcd.com/1011...\n",
      "Downloading page http://xkcd.com/1114...\n",
      "Downloading page http://xkcd.com/804...\n",
      "Downloading page http://xkcd.com/208...\n",
      "Downloading page http://xkcd.com/1312...\n",
      "Downloading image http://imgs.xkcd.com/comics/computational_linguists.png...\n",
      "Downloading image http://imgs.xkcd.com/comics/marshmallow_gun.png...\n",
      "Downloading page http://xkcd.com/115...\n",
      "Downloading image http://imgs.xkcd.com/comics/regular_expressions.png...\n",
      "Downloading page http://xkcd.com/518...\n",
      "Downloading image http://imgs.xkcd.com/comics/baby_names.png...\n",
      "Downloading page http://xkcd.com/1012...\n",
      "Downloading image http://imgs.xkcd.com/comics/geoip.png...\n",
      "Downloading page http://xkcd.com/209...\n",
      "Downloading image http://imgs.xkcd.com/comics/pumpkin_carving.png...\n",
      "Downloading image http://imgs.xkcd.com/comics/haskell.png...\n",
      "Downloading page http://xkcd.com/714...\n",
      "Downloading page http://xkcd.com/1313...\n",
      "Downloading image http://imgs.xkcd.com/comics/flow_charts.png...\n",
      "Downloading page http://xkcd.com/805...\n",
      "Downloading image http://imgs.xkcd.com/comics/meerkat.jpg...\n",
      "Downloading page http://xkcd.com/116...\n",
      "Downloading page http://xkcd.com/519...\n",
      "Downloading page http://xkcd.com/314...\n",
      "Downloading image http://imgs.xkcd.com/comics/wrong_superhero.png...\n",
      "Downloading page http://xkcd.com/1013...\n",
      "Downloading image http://imgs.xkcd.com/comics/11th_grade.png...\n",
      "Downloading image http://imgs.xkcd.com/comics/dating_pools.png...\n",
      "Downloading image http://imgs.xkcd.com/comics/metallurgy.png...\n",
      "Downloading image http://imgs.xkcd.com/comics/kayak.png...\n",
      "Downloading page http://xkcd.com/1115...\n",
      "Downloading page http://xkcd.com/520...\n",
      "Downloading image http://imgs.xkcd.com/comics/porn_for_women.png...\n",
      "Downloading page http://xkcd.com/611...\n",
      "Downloading page http://xkcd.com/315...\n",
      "Downloading page http://xkcd.com/210...\n",
      "Downloading image http://imgs.xkcd.com/comics/paradise_city.png...\n",
      "Downloading page http://xkcd.com/715...\n",
      "Downloading image http://imgs.xkcd.com/comics/regex_golf.png...\n",
      "Downloading image http://imgs.xkcd.com/comics/city.jpg...\n",
      "Downloading page http://xkcd.com/117...\n",
      "Downloading page http://xkcd.com/806...\n",
      "Downloading page http://xkcd.com/1314...\n",
      "Downloading image http://imgs.xkcd.com/comics/numbers.png...\n",
      "Downloading page http://xkcd.com/912...\n",
      "Downloading image http://imgs.xkcd.com/comics/photos.png...\n",
      "Downloading image http://imgs.xkcd.com/comics/90s_flowchart.png...\n",
      "Downloading page http://xkcd.com/716...\n",
      "Downloading page http://xkcd.com/211...\n",
      "Downloading image http://imgs.xkcd.com/comics/sky.png...\n",
      "Downloading page http://xkcd.com/1315...\n",
      "Downloading image http://imgs.xkcd.com/comics/pong.png...\n",
      "Downloading page http://xkcd.com/1116...\n",
      "Downloading image http://imgs.xkcd.com/comics/wake_up_sheeple.png...\n",
      "Downloading image http://imgs.xkcd.com/comics/braille.png...\n",
      "Downloading image http://imgs.xkcd.com/comics/cuttlefish.png...\n",
      "Downloading page http://xkcd.com/1014...\n",
      "Downloading page http://xkcd.com/316...\n",
      "Downloading page http://xkcd.com/118...\n",
      "Downloading page http://xkcd.com/521...\n",
      "Downloading image http://imgs.xkcd.com/comics/manual_override.png...\n",
      "Downloading image http://imgs.xkcd.com/comics/time_machine.png...\n",
      "Downloading page http://xkcd.com/913...\n",
      "Downloading page http://xkcd.com/717...\n",
      "Downloading image http://imgs.xkcd.com/comics/questions_for_god.png...\n",
      "Downloading image http://imgs.xkcd.com/comics/loud_sex.png...\n",
      "Downloading image http://imgs.xkcd.com/comics/tech_support.png...\n",
      "Downloading image http://imgs.xkcd.com/comics/disaster_voyeurism.png...\n",
      "Downloading image http://imgs.xkcd.com/comics/hamster_ball_heist.png...\n",
      "Downloading page http://xkcd.com/1316...\n",
      "Downloading image http://imgs.xkcd.com/comics/furtive.png...\n",
      "Downloading image http://imgs.xkcd.com/comics/core.png...\n",
      "Downloading page http://xkcd.com/718...\n",
      "Downloading image http://imgs.xkcd.com/comics/2008_christmas_special.png...\n",
      "Downloading image http://imgs.xkcd.com/comics/inexplicable.png...\n",
      "Downloading page http://xkcd.com/612...\n",
      "Downloading image http://imgs.xkcd.com/comics/traffic_lights.gif...\n",
      "Downloading image http://imgs.xkcd.com/comics/the_flake_equation.png...\n"
     ]
    },
    {
     "name": "stderr",
     "output_type": "stream",
     "text": [
      "Exception in thread Thread-33:\n",
      "Traceback (most recent call last):\n",
      "  File \"/Library/Frameworks/Python.framework/Versions/3.7/lib/python3.7/threading.py\", line 917, in _bootstrap_inner\n",
      "    self.run()\n",
      "  File \"/Library/Frameworks/Python.framework/Versions/3.7/lib/python3.7/threading.py\", line 865, in run\n",
      "    self._target(*self._args, **self._kwargs)\n",
      "  File \"<ipython-input-60-20f67a6ffff4>\", line 25, in downloadXkcd\n",
      "    imageFile=open(os.path.join('xkcd', os.path.basename(comicUrl)),'wb')\n",
      "FileNotFoundError: [Errno 2] No such file or directory: 'xkcd/inexplicable.png'\n",
      "\n",
      "Exception in thread Thread-23:\n",
      "Traceback (most recent call last):\n",
      "  File \"/Library/Frameworks/Python.framework/Versions/3.7/lib/python3.7/threading.py\", line 917, in _bootstrap_inner\n",
      "    self.run()\n",
      "  File \"/Library/Frameworks/Python.framework/Versions/3.7/lib/python3.7/threading.py\", line 865, in run\n",
      "    self._target(*self._args, **self._kwargs)\n",
      "  File \"<ipython-input-60-20f67a6ffff4>\", line 25, in downloadXkcd\n",
      "    imageFile=open(os.path.join('xkcd', os.path.basename(comicUrl)),'wb')\n",
      "FileNotFoundError: [Errno 2] No such file or directory: 'xkcd/loud_sex.png'\n",
      "\n"
     ]
    }
   ],
   "source": [
    "import requests, os, bs4, threading\n",
    "os.makedirs('xkcd',exist_ok=True)    #store comics in ./xkcd\n",
    "\n",
    "def downloadXkcd(startComic, endComic):\n",
    "    for urlNumber in range(startComic, endComic):\n",
    "        #Download the page.\n",
    "        print(\"Downloading page http://xkcd.com/%s...\" %(urlNumber))\n",
    "        res=requests.get('http://xkcd.com/%s' %(urlNumber))\n",
    "        res.raise_for_status()\n",
    "        \n",
    "        soup=bs4.BeautifulSoup(res.text)\n",
    "        \n",
    "        #Find the URL of the comic image.\n",
    "        comicElem=soup.select('#comic img')\n",
    "        if comicElem==[]:\n",
    "            print('Could not find comic image.')\n",
    "        else:\n",
    "            comicUrl='http:'+comicElem[0].get('src')\n",
    "            #Download the image.\n",
    "            print(\"Downloading image %s...\" %(comicUrl))\n",
    "            res=requests.get(comicUrl)\n",
    "            res.raise_for_status()\n",
    "            \n",
    "            #Save the image to ./xkcd.\n",
    "            imageFile=open(os.path.join('xkcd', os.path.basename(comicUrl)),'wb')\n",
    "            for chunk in res.iter_content(100000):\n",
    "                imageFile.write(chunk)\n",
    "            imageFile.close()\n",
    "\n",
    "# Create and start the Thread Objects.\n",
    "downloadThreads=[]     # a list of all the Thread objects\n",
    "for i in range(0, 1400, 100):    #loops 14 times, creates 14 threads\n",
    "    downloadThread=threading.Thread(target=downloadXkcd, args=(i, i+99))\n",
    "    downloadThreads.append(downloadThread)\n",
    "    downloadThread.start()\n",
    "    \n",
    "# TODO: Wait for all threads to end."
   ]
  },
  {
   "cell_type": "code",
   "execution_count": 61,
   "metadata": {},
   "outputs": [
    {
     "name": "stdout",
     "output_type": "stream",
     "text": [
      "Downloading page http://xkcd.com/0...\n",
      "Downloading page http://xkcd.com/100...\n",
      "Downloading page http://xkcd.com/200...\n",
      "Downloading page http://xkcd.com/300...Downloading page http://xkcd.com/400...\n",
      "Downloading page http://xkcd.com/500...\n",
      "Downloading page http://xkcd.com/600...\n",
      "\n",
      "Downloading page http://xkcd.com/700...\n",
      "Downloading page http://xkcd.com/800...Downloading page http://xkcd.com/900...\n",
      "\n",
      "Downloading page http://xkcd.com/1000...Downloading page http://xkcd.com/1100...\n",
      "Downloading page http://xkcd.com/1200...\n",
      "\n",
      "Downloading page http://xkcd.com/1300...\n"
     ]
    },
    {
     "name": "stderr",
     "output_type": "stream",
     "text": [
      "Exception in thread Thread-34:\n",
      "Traceback (most recent call last):\n",
      "  File \"/Library/Frameworks/Python.framework/Versions/3.7/lib/python3.7/threading.py\", line 917, in _bootstrap_inner\n",
      "    self.run()\n",
      "  File \"/Library/Frameworks/Python.framework/Versions/3.7/lib/python3.7/threading.py\", line 865, in run\n",
      "    self._target(*self._args, **self._kwargs)\n",
      "  File \"<ipython-input-61-87c9bcb789df>\", line 9, in downloadXkcd\n",
      "    res.raise_for_status()\n",
      "  File \"/Library/Frameworks/Python.framework/Versions/3.7/lib/python3.7/site-packages/requests/models.py\", line 940, in raise_for_status\n",
      "    raise HTTPError(http_error_msg, response=self)\n",
      "requests.exceptions.HTTPError: 404 Client Error: Not Found for url: https://xkcd.com/0\n",
      "\n"
     ]
    },
    {
     "name": "stdout",
     "output_type": "stream",
     "text": [
      "Downloading image http://imgs.xkcd.com/comics/estimation.png...\n",
      "Downloading image http://imgs.xkcd.com/comics/election.png...\n",
      "Downloading page http://xkcd.com/501...\n",
      "Downloading image http://imgs.xkcd.com/comics/facebook.png...\n",
      "Downloading image http://imgs.xkcd.com/comics/complexion.png...\n",
      "Downloading page http://xkcd.com/914...\n",
      "Downloading page http://xkcd.com/301...\n",
      "Downloading page http://xkcd.com/613...\n",
      "Downloading page http://xkcd.com/701...\n",
      "Downloading image http://imgs.xkcd.com/comics/bill_nye.png...\n",
      "Downloading image http://imgs.xkcd.com/comics/android_boyfriend.png...\n",
      "Downloading page http://xkcd.com/201...\n",
      "Downloading image http://imgs.xkcd.com/comics/family_circus.jpg...\n",
      "Downloading image http://imgs.xkcd.com/comics/car_problems.png...\n",
      "Downloading page http://xkcd.com/601...\n",
      "Downloading image http://imgs.xkcd.com/comics/important_life_lesson.png...\n",
      "Downloading page http://xkcd.com/101...\n",
      "Downloading page http://xkcd.com/401...\n",
      "Downloading image http://imgs.xkcd.com/comics/galilean_moons.png...\n",
      "Downloading image http://imgs.xkcd.com/comics/1000_comics.png...\n",
      "Downloading image http://imgs.xkcd.com/comics/authorization.png...\n",
      "Downloading image http://imgs.xkcd.com/comics/beautiful_dream.png...\n",
      "Downloading page http://xkcd.com/1301...\n",
      "Downloading page http://xkcd.com/1201...\n",
      "Downloading page http://xkcd.com/1117...\n",
      "Downloading page http://xkcd.com/1001...\n",
      "Downloading image http://imgs.xkcd.com/comics/christmas_gps.png...\n",
      "Downloading image http://imgs.xkcd.com/comics/vows.png...\n",
      "Downloading page http://xkcd.com/801...\n",
      "Downloading page http://xkcd.com/1015...\n",
      "Downloading page http://xkcd.com/202...\n",
      "Downloading image http://imgs.xkcd.com/comics/science_valentine.png...\n",
      "Downloading page http://xkcd.com/1101...\n",
      "Downloading image http://imgs.xkcd.com/comics/threesome.png...\n",
      "Downloading image http://imgs.xkcd.com/comics/faust_20.png...\n",
      "Downloading page http://xkcd.com/212...\n",
      "Downloading page http://xkcd.com/502...\n",
      "Downloading image http://imgs.xkcd.com/comics/large_hadron_collider.png...\n",
      "Downloading page http://xkcd.com/702...\n",
      "Downloading image http://imgs.xkcd.com/comics/laser_scope.jpg...\n",
      "Downloading page http://xkcd.com/614...\n",
      "Downloading page http://xkcd.com/102...\n",
      "Downloading image http://imgs.xkcd.com/comics/file_extensions.png...\n",
      "Downloading page http://xkcd.com/402...\n",
      "Downloading page http://xkcd.com/1302...\n",
      "Downloading image http://imgs.xkcd.com/comics/aaaaaa.png...\n",
      "Downloading image http://imgs.xkcd.com/comics/religions.png...\n",
      "Downloading image http://imgs.xkcd.com/comics/game_theory.png...\n",
      "Downloading page http://xkcd.com/602...\n",
      "Downloading image http://imgs.xkcd.com/comics/kerning.png...\n",
      "Downloading page http://xkcd.com/901...\n",
      "Downloading image http://imgs.xkcd.com/comics/brain.png...\n",
      "Downloading image http://imgs.xkcd.com/comics/integration_by_parts.png...\n",
      "Downloading image http://imgs.xkcd.com/comics/youtube.png...\n",
      "Downloading image http://imgs.xkcd.com/comics/50_ways.png...\n",
      "Downloading image http://imgs.xkcd.com/comics/year_in_review.png...\n",
      "Downloading page http://xkcd.com/1002...\n",
      "Downloading image http://imgs.xkcd.com/comics/limerick.png...\n",
      "Downloading image http://imgs.xkcd.com/comics/golden_hammer.png...\n",
      "Downloading page http://xkcd.com/1016...\n",
      "Downloading image http://imgs.xkcd.com/comics/woodpecker.png...\n",
      "Downloading page http://xkcd.com/302...\n",
      "Downloading page http://xkcd.com/802...\n",
      "Downloading page http://xkcd.com/1202...\n",
      "Downloading page http://xkcd.com/213...\n",
      "Downloading page http://xkcd.com/119...\n",
      "Downloading image http://imgs.xkcd.com/comics/temperature.png...\n",
      "Downloading image http://imgs.xkcd.com/comics/1000_miles_north.png...\n",
      "Downloading page http://xkcd.com/1303...\n",
      "Downloading page http://xkcd.com/902...\n",
      "Downloading image http://imgs.xkcd.com/comics/sketchiness.png...\n",
      "Downloading image http://imgs.xkcd.com/comics/overstimulated.png...\n",
      "Downloading image http://imgs.xkcd.com/comics/my_sky.png...\n",
      "Downloading page http://xkcd.com/522...\n",
      "Downloading page http://xkcd.com/203...\n",
      "Downloading image http://imgs.xkcd.com/comics/snow_tracking.png...\n",
      "Downloading page http://xkcd.com/615...\n",
      "Downloading page http://xkcd.com/1102...\n",
      "Downloading image http://imgs.xkcd.com/comics/ice.png...\n",
      "Downloading image http://imgs.xkcd.com/comics/dark_flow.png...\n",
      "Downloading page http://xkcd.com/1213...\n",
      "Downloading page http://xkcd.com/403...\n",
      "Downloading page http://xkcd.com/1118...\n",
      "Downloading page http://xkcd.com/503...\n",
      "Downloading page http://xkcd.com/719...\n",
      "Downloading page http://xkcd.com/915...\n",
      "Downloading page http://xkcd.com/703...\n",
      "Downloading page http://xkcd.com/603...\n",
      "Downloading image http://imgs.xkcd.com/comics/game_ais.png...\n",
      "Downloading image http://imgs.xkcd.com/comics/valentine_dilemma.png...\n",
      "Downloading page http://xkcd.com/1003...\n",
      "Downloading image http://imgs.xkcd.com/comics/combination_vision_test.png...\n",
      "Downloading image http://imgs.xkcd.com/comics/online_communities_2.png...\n",
      "Downloading image http://imgs.xkcd.com/comics/hallucinations.png...\n",
      "Downloading image http://imgs.xkcd.com/comics/profile_info.png...\n",
      "Downloading image http://imgs.xkcd.com/comics/back_to_the_future.jpg...\n",
      "Downloading image http://imgs.xkcd.com/comics/convincing_pickup_line.png...\n",
      "Downloading page http://xkcd.com/807...\n",
      "Downloading page http://xkcd.com/204...\n",
      "Downloading page http://xkcd.com/1017...\n",
      "Downloading page http://xkcd.com/404...\n",
      "Downloading image http://imgs.xkcd.com/comics/avoidance.png...\n",
      "Downloading page http://xkcd.com/103...\n",
      "Downloading page http://xkcd.com/1214...\n",
      "Downloading page http://xkcd.com/1304...\n",
      "Downloading image http://imgs.xkcd.com/comics/brain_worms.png...\n",
      "Downloading page http://xkcd.com/616...\n",
      "Downloading image http://imgs.xkcd.com/comics/names.png...\n",
      "Downloading image http://imgs.xkcd.com/comics/fastest_growing.png...\n",
      "Downloading image http://imgs.xkcd.com/comics/hedgeclipper.jpg...\n",
      "Downloading image http://imgs.xkcd.com/comics/google_trends.png...\n",
      "Downloading image http://imgs.xkcd.com/comics/ghostbusters_marathon.png...\n",
      "Downloading image http://imgs.xkcd.com/comics/microsoft.png...\n",
      "Downloading image http://imgs.xkcd.com/comics/america.png...\n",
      "Downloading image http://imgs.xkcd.com/comics/terminology.png...\n",
      "Downloading page http://xkcd.com/120...\n",
      "Downloading page http://xkcd.com/803...\n",
      "Downloading page http://xkcd.com/205...\n",
      "Downloading page http://xkcd.com/523...\n",
      "Downloading page http://xkcd.com/303...\n",
      "Downloading page http://xkcd.com/1119...\n",
      "Downloading page http://xkcd.com/1103...\n",
      "Downloading page http://xkcd.com/720...\n",
      "Downloading image http://imgs.xkcd.com/comics/darmok_and_jalad.png...\n",
      "Downloading page http://xkcd.com/214...\n",
      "Downloading image http://imgs.xkcd.com/comics/adam_and_eve.png...\n",
      "Downloading page http://xkcd.com/504...\n",
      "Downloading image http://imgs.xkcd.com/comics/backward_in_time.png...\n",
      "Downloading page http://xkcd.com/1004...\n",
      "Downloading page http://xkcd.com/903...\n",
      "Downloading image http://imgs.xkcd.com/comics/connoisseur.png...\n",
      "Downloading image http://imgs.xkcd.com/comics/honor_societies.png...\n",
      "Downloading page http://xkcd.com/1018...\n",
      "Downloading page http://xkcd.com/916...\n",
      "Downloading page http://xkcd.com/704...\n",
      "Downloading image http://imgs.xkcd.com/comics/decline.png...\n",
      "Downloading image http://imgs.xkcd.com/comics/nine.png...\n",
      "Downloading image http://imgs.xkcd.com/comics/moral_relativity.jpg...\n",
      "Downloading image http://imgs.xkcd.com/comics/idiocracy.png...\n",
      "Downloading page http://xkcd.com/104...\n",
      "Downloading page http://xkcd.com/604...\n",
      "Downloading image http://imgs.xkcd.com/comics/extended_mind.png...\n",
      "Downloading page http://xkcd.com/524...\n",
      "Downloading image http://imgs.xkcd.com/comics/airfoil.png...\n",
      "Downloading page http://xkcd.com/1104...\n",
      "Downloading image http://imgs.xkcd.com/comics/the_problem_with_wikipedia.png...\n",
      "Downloading image http://imgs.xkcd.com/comics/compiling.png...\n",
      "Downloading image http://imgs.xkcd.com/comics/geoguessr.png...\n",
      "Downloading image http://imgs.xkcd.com/comics/undoing.png...\n",
      "Downloading image http://imgs.xkcd.com/comics/batman.png...\n"
     ]
    },
    {
     "name": "stderr",
     "output_type": "stream",
     "text": [
      "Exception in thread Thread-38:\n",
      "Traceback (most recent call last):\n",
      "  File \"/Library/Frameworks/Python.framework/Versions/3.7/lib/python3.7/threading.py\", line 917, in _bootstrap_inner\n",
      "    self.run()\n",
      "  File \"/Library/Frameworks/Python.framework/Versions/3.7/lib/python3.7/threading.py\", line 865, in run\n",
      "    self._target(*self._args, **self._kwargs)\n",
      "  File \"<ipython-input-61-87c9bcb789df>\", line 9, in downloadXkcd\n",
      "    res.raise_for_status()\n",
      "  File \"/Library/Frameworks/Python.framework/Versions/3.7/lib/python3.7/site-packages/requests/models.py\", line 940, in raise_for_status\n",
      "    raise HTTPError(http_error_msg, response=self)\n",
      "requests.exceptions.HTTPError: 404 Client Error: Not Found for url: https://xkcd.com/404\n",
      "\n"
     ]
    },
    {
     "name": "stdout",
     "output_type": "stream",
     "text": [
      "Downloading page http://xkcd.com/904...\n",
      "Downloading image http://imgs.xkcd.com/comics/legal_hacks.png...\n",
      "Downloading page http://xkcd.com/804...Downloading page http://xkcd.com/1005...\n",
      "\n",
      "Downloading page http://xkcd.com/1215...\n",
      "Downloading image http://imgs.xkcd.com/comics/candy_button_paper.png...\n",
      "Downloading page http://xkcd.com/1120...\n",
      "Downloading page http://xkcd.com/215...\n",
      "Downloading page http://xkcd.com/304...\n",
      "Downloading page http://xkcd.com/206...\n",
      "Downloading page http://xkcd.com/505...\n",
      "Downloading image http://imgs.xkcd.com/comics/dating_service.png...\n",
      "Downloading image http://imgs.xkcd.com/comics/unpickable.png...\n",
      "Downloading image http://imgs.xkcd.com/comics/recipes.png...\n",
      "Downloading image http://imgs.xkcd.com/comics/glass_trolling.png...\n",
      "Downloading page http://xkcd.com/121...\n",
      "Downloading image http://imgs.xkcd.com/comics/party.png...\n",
      "Downloading image http://imgs.xkcd.com/comics/connected.png...\n",
      "Downloading page http://xkcd.com/917...\n",
      "Downloading image http://imgs.xkcd.com/comics/pumpkin_carving.png...\n",
      "Downloading page http://xkcd.com/1305...\n",
      "Downloading page http://xkcd.com/721...\n",
      "Downloading image http://imgs.xkcd.com/comics/qwertial_aphasia.png...\n",
      "Downloading image http://imgs.xkcd.com/comics/reno_rhymes.png...\n",
      "Downloading page http://xkcd.com/808...\n",
      "Downloading page http://xkcd.com/525...\n",
      "Downloading image http://imgs.xkcd.com/comics/sopa.png...\n",
      "Downloading image http://imgs.xkcd.com/comics/good_cop_dadaist_cop.png...\n",
      "Downloading image http://imgs.xkcd.com/comics/feathers.png...\n",
      "Downloading page http://xkcd.com/605...\n",
      "Downloading image http://imgs.xkcd.com/comics/lease.png...\n",
      "Downloading page http://xkcd.com/1006...\n",
      "Downloading page http://xkcd.com/207...\n",
      "Downloading image http://imgs.xkcd.com/comics/find_you.jpg...\n",
      "Downloading page http://xkcd.com/1105...\n",
      "Downloading image http://imgs.xkcd.com/comics/nighttime_stories.jpg...\n",
      "Downloading page http://xkcd.com/1019...\n",
      "Downloading page http://xkcd.com/805...\n",
      "Downloading page http://xkcd.com/105...\n",
      "Downloading page http://xkcd.com/617...\n",
      "Downloading image http://imgs.xkcd.com/comics/a_bunch_of_rocks.png...\n",
      "Downloading image http://imgs.xkcd.com/comics/hofstadter.png...\n",
      "Downloading image http://imgs.xkcd.com/comics/sports.png...\n",
      "Downloading image http://imgs.xkcd.com/comics/blurring_the_line.png...\n",
      "Downloading page http://xkcd.com/905...\n",
      "Downloading page http://xkcd.com/918...\n",
      "Downloading page http://xkcd.com/506...\n",
      "Downloading page http://xkcd.com/305...\n",
      "Downloading image http://imgs.xkcd.com/comics/insight.png...\n",
      "Downloading page http://xkcd.com/1121...\n",
      "Downloading image http://imgs.xkcd.com/comics/flatland.png...\n",
      "Downloading image http://imgs.xkcd.com/comics/the_economic_argument.png...\n",
      "Downloading page http://xkcd.com/1216...\n",
      "Downloading page http://xkcd.com/722...\n",
      "Downloading image http://imgs.xkcd.com/comics/sloppier_than_fiction.png...\n",
      "Downloading page http://xkcd.com/809...\n",
      "Downloading image http://imgs.xkcd.com/comics/principle_of_explosion.png...\n",
      "Downloading image http://imgs.xkcd.com/comics/i_know_youre_listening.png...\n",
      "Downloading page http://xkcd.com/1007...\n",
      "Downloading image http://imgs.xkcd.com/comics/girls_and_boys.png...\n",
      "Downloading page http://xkcd.com/705...\n",
      "Downloading image http://imgs.xkcd.com/comics/first_post.png...\n",
      "Downloading image http://imgs.xkcd.com/comics/paradise_city.png...\n",
      "Downloading page http://xkcd.com/526...\n",
      "Downloading page http://xkcd.com/1203...\n",
      "Downloading image http://imgs.xkcd.com/comics/googleplus.png...\n",
      "Downloading image http://imgs.xkcd.com/comics/identity.png...\n",
      "Downloading image http://imgs.xkcd.com/comics/extrapolating.png...\n",
      "Downloading page http://xkcd.com/1020...\n",
      "Downloading image http://imgs.xkcd.com/comics/letting_go.png...\n",
      "Downloading image http://imgs.xkcd.com/comics/understocked.png...\n",
      "Downloading page http://xkcd.com/919...\n",
      "Downloading page http://xkcd.com/1122...\n",
      "Downloading page http://xkcd.com/606...\n",
      "Downloading page http://xkcd.com/806...\n",
      "Downloading page http://xkcd.com/216...\n",
      "Downloading image http://imgs.xkcd.com/comics/balloon.png...\n",
      "Downloading page http://xkcd.com/618...\n",
      "Downloading image http://imgs.xkcd.com/comics/sustainable.png...\n",
      "Downloading image http://imgs.xkcd.com/comics/computer_problems.png...\n",
      "Downloading image http://imgs.xkcd.com/comics/rule_34.png...\n",
      "Downloading image http://imgs.xkcd.com/comics/homeownership.png...\n",
      "Downloading page http://xkcd.com/122...\n",
      "Downloading page http://xkcd.com/906...\n",
      "Downloading page http://xkcd.com/723...\n",
      "Downloading page http://xkcd.com/1008...\n",
      "Downloading image http://imgs.xkcd.com/comics/what_xkcd_means.png...\n",
      "Downloading image http://imgs.xkcd.com/comics/undocumented_feature.png...\n",
      "Downloading page http://xkcd.com/306...\n",
      "Downloading image http://imgs.xkcd.com/comics/license_plate.png...\n",
      "Downloading image http://imgs.xkcd.com/comics/orion_nebula.png...\n",
      "Downloading image http://imgs.xkcd.com/comics/sticks_and_stones.png...\n",
      "Downloading image http://imgs.xkcd.com/comics/converting_to_metric.png...\n",
      "Downloading image http://imgs.xkcd.com/comics/cutting_edge.png...\n",
      "Downloading image http://imgs.xkcd.com/comics/electoral_precedent.png...\n",
      "Downloading page http://xkcd.com/1106...\n",
      "Downloading page http://xkcd.com/1217...\n",
      "Downloading image http://imgs.xkcd.com/comics/parallel_universe.jpg...\n",
      "Downloading image http://imgs.xkcd.com/comics/citations.png...\n",
      "Downloading page http://xkcd.com/208...\n",
      "Downloading image http://imgs.xkcd.com/comics/tween_bromance.png...\n",
      "Downloading page http://xkcd.com/1306...\n",
      "Downloading page http://xkcd.com/1021...\n",
      "Downloading page http://xkcd.com/527...\n",
      "Downloading page http://xkcd.com/607...\n",
      "Downloading page http://xkcd.com/106...\n",
      "Downloading page http://xkcd.com/907...\n",
      "Downloading image http://imgs.xkcd.com/comics/time_machines.png...\n",
      "Downloading image http://imgs.xkcd.com/comics/devotion_to_duty.png...\n",
      "Downloading page http://xkcd.com/920...\n",
      "Downloading page http://xkcd.com/1123...\n",
      "Downloading page http://xkcd.com/706...\n",
      "Downloading image http://imgs.xkcd.com/comics/theft_of_the_magi.png...\n",
      "Downloading page http://xkcd.com/1204...\n",
      "Downloading page http://xkcd.com/507...\n",
      "Downloading image http://imgs.xkcd.com/comics/los_alamos.png...\n",
      "Downloading image http://imgs.xkcd.com/comics/2038.png...\n",
      "Downloading image http://imgs.xkcd.com/comics/add.png...\n",
      "Downloading image http://imgs.xkcd.com/comics/ages.png...\n",
      "Downloading image http://imgs.xkcd.com/comics/wright_brothers.png...\n",
      "Downloading page http://xkcd.com/1107...\n",
      "Downloading page http://xkcd.com/608...\n",
      "Downloading page http://xkcd.com/810...\n",
      "Downloading image http://imgs.xkcd.com/comics/regular_expressions.png...\n",
      "Downloading page http://xkcd.com/908...\n",
      "Downloading image http://imgs.xkcd.com/comics/seismic_waves.png...\n",
      "Downloading image http://imgs.xkcd.com/comics/orphaned_projects.png...\n",
      "Downloading page http://xkcd.com/107...\n",
      "Downloading page http://xkcd.com/307...\n",
      "Downloading image http://imgs.xkcd.com/comics/experimentation.png...\n",
      "Downloading page http://xkcd.com/209...\n",
      "Downloading page http://xkcd.com/724...\n",
      "Downloading image http://imgs.xkcd.com/comics/cells.png...\n",
      "Downloading page http://xkcd.com/508...\n",
      "Downloading image http://imgs.xkcd.com/comics/sigil_cycle.png...\n",
      "Downloading image http://imgs.xkcd.com/comics/youtube_parties.png...\n",
      "Downloading page http://xkcd.com/1307...\n",
      "Downloading page http://xkcd.com/1218...\n",
      "Downloading image http://imgs.xkcd.com/comics/the_universal_label.png...\n",
      "Downloading image http://imgs.xkcd.com/comics/asteroid.png...\n",
      "Downloading image http://imgs.xkcd.com/comics/business_plan.png...\n",
      "Downloading page http://xkcd.com/921...\n",
      "Downloading image http://imgs.xkcd.com/comics/tech_support.png...\n",
      "Downloading page http://xkcd.com/1124...\n",
      "Downloading page http://xkcd.com/619...\n",
      "Downloading image http://imgs.xkcd.com/comics/suckville.png...\n",
      "Downloading page http://xkcd.com/807...\n",
      "Downloading image http://imgs.xkcd.com/comics/the_cloud.png...\n",
      "Downloading image http://imgs.xkcd.com/comics/freedom.png...\n",
      "Downloading image http://imgs.xkcd.com/comics/keynote.png...\n",
      "Downloading image http://imgs.xkcd.com/comics/form.png...\n",
      "Downloading page http://xkcd.com/1009...\n",
      "Downloading page http://xkcd.com/707...\n",
      "Downloading page http://xkcd.com/909...\n",
      "Downloading image http://imgs.xkcd.com/comics/quirky_girls.png...\n",
      "Downloading image http://imgs.xkcd.com/comics/detail.png...\n"
     ]
    },
    {
     "name": "stdout",
     "output_type": "stream",
     "text": [
      "Downloading image http://imgs.xkcd.com/comics/kayak.png...\n",
      "Downloading image http://imgs.xkcd.com/comics/sports_cheat_sheet.png...\n",
      "Downloading page http://xkcd.com/609...\n",
      "Downloading page http://xkcd.com/528...\n",
      "Downloading page http://xkcd.com/1022...\n",
      "Downloading page http://xkcd.com/1205...\n",
      "Downloading page http://xkcd.com/123...\n",
      "Downloading image http://imgs.xkcd.com/comics/constructive.png...\n",
      "Downloading page http://xkcd.com/1108...\n",
      "Downloading page http://xkcd.com/210...\n",
      "Downloading image http://imgs.xkcd.com/comics/joshing.png...\n",
      "Downloading page http://xkcd.com/811...\n",
      "Downloading image http://imgs.xkcd.com/comics/doors_of_durin.png...\n",
      "Downloading page http://xkcd.com/708...\n",
      "Downloading page http://xkcd.com/1219...\n",
      "Downloading image http://imgs.xkcd.com/comics/tab_explosion.png...\n",
      "Downloading image http://imgs.xkcd.com/comics/windows_7.png...\n",
      "Downloading image http://imgs.xkcd.com/comics/supported_features.png...\n",
      "Downloading image http://imgs.xkcd.com/comics/drapes.png...\n",
      "Downloading image http://imgs.xkcd.com/comics/law_of_drama.png...\n",
      "Downloading image http://imgs.xkcd.com/comics/delivery_notification.png...\n",
      "Downloading image http://imgs.xkcd.com/comics/snakes_on_a_plane_2.jpg...\n",
      "Downloading page http://xkcd.com/620...\n",
      "Downloading page http://xkcd.com/509...\n",
      "Downloading page http://xkcd.com/529...\n",
      "Downloading image http://imgs.xkcd.com/comics/is_it_worth_the_time.png...\n",
      "Downloading page http://xkcd.com/108...\n",
      "Downloading image http://imgs.xkcd.com/comics/hell.png...\n",
      "Downloading image http://imgs.xkcd.com/comics/excessive_quotation.png...\n",
      "Downloading page http://xkcd.com/1125...\n",
      "Downloading image http://imgs.xkcd.com/comics/sigh.png...\n",
      "Downloading page http://xkcd.com/610...\n",
      "Downloading page http://xkcd.com/1206...\n",
      "Downloading page http://xkcd.com/308...\n",
      "Downloading page http://xkcd.com/922...\n",
      "Downloading image http://imgs.xkcd.com/comics/so_it_has_come_to_this.png...\n",
      "Downloading page http://xkcd.com/1010...\n",
      "Downloading page http://xkcd.com/725...\n",
      "Downloading image http://imgs.xkcd.com/comics/cautionary_ghost.png...\n",
      "Downloading image http://imgs.xkcd.com/comics/connected.png...\n",
      "Downloading page http://xkcd.com/1023...\n",
      "Downloading page http://xkcd.com/808...\n",
      "Downloading page http://xkcd.com/1109...\n",
      "Downloading image http://imgs.xkcd.com/comics/90s_flowchart.png...\n",
      "Downloading image http://imgs.xkcd.com/comics/worst_case_shopping.png...\n",
      "Downloading image http://imgs.xkcd.com/comics/buzzfeed_christmas.png...\n",
      "Downloading page http://xkcd.com/211...\n",
      "Downloading image http://imgs.xkcd.com/comics/starlight.png...\n",
      "Downloading image http://imgs.xkcd.com/comics/sex_dice.png...\n",
      "Downloading page http://xkcd.com/1308...\n",
      "Downloading image http://imgs.xkcd.com/comics/reports.png...\n",
      "Downloading image http://imgs.xkcd.com/comics/sledding_discussion.png...\n",
      "Downloading page http://xkcd.com/709...\n",
      "Downloading image http://imgs.xkcd.com/comics/fight_club.png...\n",
      "Downloading page http://xkcd.com/1220...\n",
      "Downloading page http://xkcd.com/530...\n",
      "Downloading page http://xkcd.com/910...\n",
      "Downloading page http://xkcd.com/812...\n",
      "Downloading page http://xkcd.com/923...\n",
      "Downloading image http://imgs.xkcd.com/comics/etymology_man.png...\n",
      "Downloading image http://imgs.xkcd.com/comics/the_economic_argument.png...\n",
      "Downloading image http://imgs.xkcd.com/comics/i_am.png...\n",
      "Downloading image http://imgs.xkcd.com/comics/induced_current.png...\n",
      "Downloading image http://imgs.xkcd.com/comics/mc_hammer_slide.png...\n",
      "Downloading image http://imgs.xkcd.com/comics/sheeple.png...\n",
      "Downloading page http://xkcd.com/109...\n",
      "Downloading page http://xkcd.com/809...\n",
      "Downloading page http://xkcd.com/1011...\n",
      "Downloading image http://imgs.xkcd.com/comics/hamster_ball_heist.png...\n",
      "Downloading page http://xkcd.com/710...\n",
      "Downloading image http://imgs.xkcd.com/comics/refrigerator.png...\n",
      "Downloading image http://imgs.xkcd.com/comics/objects_in_mirror.png...\n",
      "Downloading page http://xkcd.com/510...\n",
      "Downloading page http://xkcd.com/611...\n",
      "Downloading image http://imgs.xkcd.com/comics/literally.png...\n",
      "Downloading image http://imgs.xkcd.com/comics/hipsters.png...\n",
      "Downloading page http://xkcd.com/1110...\n",
      "Downloading page http://xkcd.com/212...\n",
      "Downloading page http://xkcd.com/1126...\n",
      "Downloading page http://xkcd.com/726...\n",
      "Downloading image http://imgs.xkcd.com/comics/wings.png...\n",
      "Downloading image http://imgs.xkcd.com/comics/los_alamos.png...\n",
      "Downloading page http://xkcd.com/1221...\n",
      "Downloading page http://xkcd.com/810...\n",
      "Downloading image http://imgs.xkcd.com/comics/im_an_idiot.png...\n",
      "Downloading page http://xkcd.com/621...\n",
      "Downloading image http://imgs.xkcd.com/comics/christmas_lights.png...\n",
      "Downloading page http://xkcd.com/1309...\n",
      "Downloading image http://imgs.xkcd.com/comics/egg_drop_failure.png...\n",
      "Downloading page http://xkcd.com/531...\n",
      "Downloading image http://imgs.xkcd.com/comics/spoiler_alert.png...\n",
      "Downloading page http://xkcd.com/511...\n",
      "Downloading image http://imgs.xkcd.com/comics/einstein.png...\n",
      "Downloading image http://imgs.xkcd.com/comics/disaster_voyeurism.png...\n",
      "Downloading image http://imgs.xkcd.com/comics/permanence.png...\n",
      "Downloading page http://xkcd.com/110...\n",
      "Downloading page http://xkcd.com/1207...\n",
      "Downloading image http://imgs.xkcd.com/comics/nomenclature.png...\n",
      "Downloading image http://imgs.xkcd.com/comics/strunk_and_white.png...\n",
      "Downloading page http://xkcd.com/1222...\n",
      "Downloading page http://xkcd.com/612...\n",
      "Downloading image http://imgs.xkcd.com/comics/centrifugal_force.png...\n",
      "Downloading image http://imgs.xkcd.com/comics/click_and_drag.png...\n",
      "Downloading page http://xkcd.com/911...\n",
      "Downloading image http://imgs.xkcd.com/comics/late_night_pbs.png...\n",
      "Downloading image http://imgs.xkcd.com/comics/brain.png...\n",
      "Downloading page http://xkcd.com/924...\n",
      "Downloading page http://xkcd.com/1111...\n",
      "Downloading page http://xkcd.com/213...\n",
      "Downloading page http://xkcd.com/124...\n",
      "Downloading image http://imgs.xkcd.com/comics/airaware.png...\n",
      "Downloading page http://xkcd.com/1024...\n",
      "Downloading image http://imgs.xkcd.com/comics/seat_selection.png...\n",
      "Downloading page http://xkcd.com/1208...\n",
      "Downloading image http://imgs.xkcd.com/comics/glass.png...\n",
      "Downloading image http://imgs.xkcd.com/comics/magic_school_bus.png...\n",
      "Downloading page http://xkcd.com/727...\n",
      "Downloading image http://imgs.xkcd.com/comics/epsilon_and_zeta.png...\n",
      "Downloading image http://imgs.xkcd.com/comics/estimation.png...\n",
      "Downloading page http://xkcd.com/813...\n",
      "Downloading page http://xkcd.com/613...\n",
      "Downloading image http://imgs.xkcd.com/comics/collatz_conjecture.png...\n",
      "Downloading image http://imgs.xkcd.com/comics/pastime.png...\n",
      "Downloading image http://imgs.xkcd.com/comics/constructive.png...\n",
      "Downloading image http://imgs.xkcd.com/comics/baby_names.png...\n",
      "Downloading page http://xkcd.com/912...\n",
      "Downloading page http://xkcd.com/811...\n",
      "Downloading page http://xkcd.com/1223...\n",
      "Downloading image http://imgs.xkcd.com/comics/clark_gable.jpg...\n",
      "Downloading image http://imgs.xkcd.com/comics/superlative.png...\n",
      "Downloading page http://xkcd.com/711...\n",
      "Downloading image http://imgs.xkcd.com/comics/contingency_plan.png...\n",
      "Downloading page http://xkcd.com/1012...\n",
      "Downloading page http://xkcd.com/111...\n",
      "Downloading page http://xkcd.com/1127...\n",
      "Downloading image http://imgs.xkcd.com/comics/sleet.png...\n",
      "Downloading page http://xkcd.com/622...\n",
      "Downloading image http://imgs.xkcd.com/comics/error_code.png...\n",
      "Downloading page http://xkcd.com/512...\n",
      "Downloading page http://xkcd.com/532...\n",
      "Downloading image http://imgs.xkcd.com/comics/3d_printer.png...\n",
      "Downloading image http://imgs.xkcd.com/comics/premiere.png...\n",
      "Downloading page http://xkcd.com/1025...\n",
      "Downloading image http://imgs.xkcd.com/comics/starlight.png...\n",
      "Downloading page http://xkcd.com/925...\n",
      "Downloading page http://xkcd.com/1112...\n",
      "Downloading image http://imgs.xkcd.com/comics/interesting_life.png...\n",
      "Downloading page http://xkcd.com/812...\n",
      "Downloading image http://imgs.xkcd.com/comics/blogofractal.png...\n",
      "Downloading page http://xkcd.com/309...\n",
      "Downloading image http://imgs.xkcd.com/comics/haiku_proof.png...\n",
      "Downloading image http://imgs.xkcd.com/comics/seismograph.png...\n",
      "Downloading image http://imgs.xkcd.com/comics/one_liners.png...\n",
      "Downloading image http://imgs.xkcd.com/comics/footnote_labyrinths.png...\n"
     ]
    },
    {
     "name": "stdout",
     "output_type": "stream",
     "text": [
      "Downloading page http://xkcd.com/623...\n",
      "Downloading image http://imgs.xkcd.com/comics/threesome.png...\n",
      "Downloading page http://xkcd.com/712...\n",
      "Downloading page http://xkcd.com/814...\n",
      "Downloading page http://xkcd.com/1209...\n",
      "Downloading image http://imgs.xkcd.com/comics/firefox_wicca.png...\n",
      "Downloading image http://imgs.xkcd.com/comics/trade_expert.png...\n",
      "Downloading image http://imgs.xkcd.com/comics/wrong_superhero.png...\n",
      "Downloading page http://xkcd.com/614...\n",
      "Downloading image http://imgs.xkcd.com/comics/infinite_scrolling.png...\n",
      "Downloading image http://imgs.xkcd.com/comics/dwarf_fortress.png...\n",
      "Downloading page http://xkcd.com/125...\n",
      "Downloading image http://imgs.xkcd.com/comics/alternate_currency.png...\n",
      "Downloading page http://xkcd.com/728...\n",
      "Downloading page http://xkcd.com/1013...\n",
      "Downloading page http://xkcd.com/1310...\n",
      "Downloading image http://imgs.xkcd.com/comics/congress.png...\n",
      "Downloading page http://xkcd.com/513...Downloading page http://xkcd.com/1224...\n",
      "\n",
      "Downloading page http://xkcd.com/112...\n",
      "Downloading image http://imgs.xkcd.com/comics/friends.png...\n",
      "Downloading image http://imgs.xkcd.com/comics/cell_phones.png...\n",
      "Downloading image http://imgs.xkcd.com/comics/piano.png...\n",
      "Downloading image http://imgs.xkcd.com/comics/shopping_teams.png...\n",
      "Downloading image http://imgs.xkcd.com/comics/goldbach_conjectures.png...\n",
      "Downloading page http://xkcd.com/533...\n",
      "Downloading page http://xkcd.com/926...\n",
      "Downloading page http://xkcd.com/1128...\n",
      "Downloading image http://imgs.xkcd.com/comics/woodpecker.png...\n",
      "Downloading page http://xkcd.com/310...\n",
      "Downloading image http://imgs.xkcd.com/comics/encoding.png...\n",
      "Downloading image http://imgs.xkcd.com/comics/wake_up_sheeple.png...\n",
      "Downloading image http://imgs.xkcd.com/comics/marketing_interview.png...\n",
      "Downloading page http://xkcd.com/1311...\n",
      "Downloading page http://xkcd.com/514...\n",
      "Downloading page http://xkcd.com/615...\n",
      "Downloading page http://xkcd.com/1210...\n",
      "Downloading image http://imgs.xkcd.com/comics/manual_override.png...\n",
      "Downloading image http://imgs.xkcd.com/comics/diode.png...\n",
      "Downloading image http://imgs.xkcd.com/comics/council_of_300.png...\n",
      "Downloading image http://imgs.xkcd.com/comics/glass.png...\n",
      "Downloading page http://xkcd.com/1014...\n",
      "Downloading image http://imgs.xkcd.com/comics/tumblr.png...\n",
      "Downloading image http://imgs.xkcd.com/comics/single_ladies.png...\n",
      "Downloading page http://xkcd.com/813...\n",
      "Downloading page http://xkcd.com/913...Downloading page http://xkcd.com/126...\n",
      "\n",
      "Downloading image http://imgs.xkcd.com/comics/think_logically.png...\n",
      "Downloading page http://xkcd.com/815...\n",
      "Downloading image http://imgs.xkcd.com/comics/oregon.png...\n",
      "Downloading image http://imgs.xkcd.com/comics/baring_my_heart.png...\n",
      "Downloading image http://imgs.xkcd.com/comics/fifty_shades.png...\n",
      "Downloading page http://xkcd.com/1026...\n",
      "Downloading page http://xkcd.com/1225...\n",
      "Downloading page http://xkcd.com/713...\n",
      "Downloading page http://xkcd.com/1113...\n",
      "Downloading page http://xkcd.com/113...\n",
      "Downloading page http://xkcd.com/1129...\n",
      "Downloading page http://xkcd.com/624...\n",
      "Downloading image http://imgs.xkcd.com/comics/romantic_drama_equation.png...\n",
      "Downloading image http://imgs.xkcd.com/comics/2014.png...\n",
      "Downloading image http://imgs.xkcd.com/comics/im_so_random.png...\n",
      "Downloading image http://imgs.xkcd.com/comics/simultaneous.png...\n",
      "Downloading page http://xkcd.com/217...\n",
      "Downloading page http://xkcd.com/1211...\n",
      "Downloading page http://xkcd.com/515...\n",
      "Downloading image http://imgs.xkcd.com/comics/mu.png...\n",
      "Downloading image http://imgs.xkcd.com/comics/ipad.png...\n",
      "Downloading image http://imgs.xkcd.com/comics/commitment.png...\n",
      "Downloading page http://xkcd.com/1312...\n",
      "Downloading page http://xkcd.com/816...\n",
      "Downloading page http://xkcd.com/729...\n",
      "Downloading image http://imgs.xkcd.com/comics/geoip.png...\n",
      "Downloading page http://xkcd.com/311...\n",
      "Downloading image http://imgs.xkcd.com/comics/killed_in_action.png...\n",
      "Downloading image http://imgs.xkcd.com/comics/no_one_must_know.png...\n",
      "Downloading image http://imgs.xkcd.com/comics/red_spiders_cometh.jpg...\n",
      "Downloading page http://xkcd.com/1114...\n",
      "Downloading page http://xkcd.com/516...\n",
      "Downloading image http://imgs.xkcd.com/comics/core.png...\n",
      "Downloading page http://xkcd.com/714...\n",
      "Downloading image http://imgs.xkcd.com/comics/laser_pointer.png...\n",
      "Downloading page http://xkcd.com/127...\n",
      "Downloading image http://imgs.xkcd.com/comics/riemann-zeta.jpg...\n",
      "Downloading image http://imgs.xkcd.com/comics/ice_sheets.png...\n",
      "Downloading page http://xkcd.com/914...\n",
      "Downloading image http://imgs.xkcd.com/comics/compare_and_contrast.png...\n",
      "Downloading image http://imgs.xkcd.com/comics/e_to_the_pi_minus_pi.png...\n",
      "Downloading image http://imgs.xkcd.com/comics/action_movies.png...\n",
      "Downloading image http://imgs.xkcd.com/comics/one_liners.png...\n",
      "Downloading page http://xkcd.com/1027...\n",
      "Downloading page http://xkcd.com/114...\n",
      "Downloading image http://imgs.xkcd.com/comics/haskell.png...\n",
      "Downloading page http://xkcd.com/730...\n",
      "Downloading page http://xkcd.com/814...\n",
      "Downloading page http://xkcd.com/1226...\n",
      "Downloading page http://xkcd.com/218...\n",
      "Downloading image http://imgs.xkcd.com/comics/birds_and_dinosaurs.png...\n",
      "Downloading image http://imgs.xkcd.com/comics/ghostbusters_marathon.png...\n",
      "Downloading image http://imgs.xkcd.com/comics/laptop_hell.png...\n",
      "Downloading image http://imgs.xkcd.com/comics/car_problems.png...\n",
      "Downloading image http://imgs.xkcd.com/comics/wood_chips.png...\n",
      "Downloading page http://xkcd.com/214...\n",
      "Downloading page http://xkcd.com/312...\n",
      "Downloading image http://imgs.xkcd.com/comics/branding.png...\n",
      "Downloading page http://xkcd.com/1212...\n",
      "Downloading page http://xkcd.com/1313...\n",
      "Downloading page http://xkcd.com/534...\n",
      "Downloading page http://xkcd.com/1015...\n",
      "Downloading image http://imgs.xkcd.com/comics/cell_number.png...\n",
      "Downloading page http://xkcd.com/517...\n",
      "Downloading page http://xkcd.com/625...\n",
      "Downloading image http://imgs.xkcd.com/comics/applied_math.png...\n",
      "Downloading page http://xkcd.com/1130...\n",
      "Downloading image http://imgs.xkcd.com/comics/time_vulture.png...\n",
      "Downloading image http://imgs.xkcd.com/comics/pickup_artist.png...\n",
      "Downloading image http://imgs.xkcd.com/comics/circuit_diagram.png...\n",
      "Downloading image http://imgs.xkcd.com/comics/balloon_internet.png...\n",
      "Downloading page http://xkcd.com/817...\n",
      "Downloading image http://imgs.xkcd.com/comics/metallurgy.png...\n",
      "Downloading page http://xkcd.com/927...\n",
      "Downloading page http://xkcd.com/1227...\n",
      "Downloading image http://imgs.xkcd.com/comics/regex_golf.png...\n",
      "Downloading image http://imgs.xkcd.com/comics/the_problem_with_wikipedia.png...\n",
      "Downloading image http://imgs.xkcd.com/comics/collections.png...\n",
      "Downloading page http://xkcd.com/1115...\n",
      "Downloading image http://imgs.xkcd.com/comics/genetic_algorithms.png...\n",
      "Downloading image http://imgs.xkcd.com/comics/computational_linguists.png...\n",
      "Downloading page http://xkcd.com/731...\n",
      "Downloading page http://xkcd.com/215...\n",
      "Downloading page http://xkcd.com/1028...\n",
      "Downloading page http://xkcd.com/626...\n",
      "Downloading image http://imgs.xkcd.com/comics/poll_watching.png...\n",
      "Downloading page http://xkcd.com/1314...\n",
      "Downloading page http://xkcd.com/535...Downloading page http://xkcd.com/115...\n",
      "\n",
      "Downloading image http://imgs.xkcd.com/comics/porn_for_women.png...\n",
      "Downloading image http://imgs.xkcd.com/comics/diode.png...\n",
      "Downloading page http://xkcd.com/1131...\n",
      "Downloading page http://xkcd.com/715...\n",
      "Downloading page http://xkcd.com/815...\n",
      "Downloading image http://imgs.xkcd.com/comics/ice.png...\n",
      "Downloading image http://imgs.xkcd.com/comics/letting_go.png...\n",
      "Downloading image http://imgs.xkcd.com/comics/marshmallow_gun.png...\n",
      "Downloading page http://xkcd.com/915...\n",
      "Downloading page http://xkcd.com/216...\n",
      "Downloading image http://imgs.xkcd.com/comics/the_pace_of_modern_life.png...\n",
      "Downloading image http://imgs.xkcd.com/comics/kerning.png...\n",
      "Downloading image http://imgs.xkcd.com/comics/standards.png...\n",
      "Downloading image http://imgs.xkcd.com/comics/communication.png...\n",
      "Downloading page http://xkcd.com/1016...\n",
      "Downloading page http://xkcd.com/928...\n",
      "Downloading image http://imgs.xkcd.com/comics/it_might_be_cool.png...\n",
      "Downloading image http://imgs.xkcd.com/comics/with_apologies_to_robert_frost.png...\n",
      "Downloading page http://xkcd.com/518...\n"
     ]
    },
    {
     "name": "stdout",
     "output_type": "stream",
     "text": [
      "Downloading image http://imgs.xkcd.com/comics/mutual.png...\n",
      "Downloading page http://xkcd.com/536...\n",
      "Downloading page http://xkcd.com/1029...\n",
      "Downloading page http://xkcd.com/818...\n",
      "Downloading page http://xkcd.com/313...\n",
      "Downloading image http://imgs.xkcd.com/comics/newton_and_leibniz.png...\n",
      "Downloading image http://imgs.xkcd.com/comics/sky.png...\n",
      "Downloading page http://xkcd.com/1228...\n",
      "Downloading image http://imgs.xkcd.com/comics/interstellar_memes.png...\n",
      "Downloading image http://imgs.xkcd.com/comics/mimic_octopus.png...\n",
      "Downloading page http://xkcd.com/627...\n",
      "Downloading image http://imgs.xkcd.com/comics/math.png...\n",
      "Downloading page http://xkcd.com/1116...\n",
      "Downloading image http://imgs.xkcd.com/comics/the_fast_and_the_furious.jpg...\n",
      "Downloading image http://imgs.xkcd.com/comics/valentine_dilemma.png...\n",
      "Downloading page http://xkcd.com/929...\n",
      "Downloading page http://xkcd.com/1132...\n",
      "Downloading page http://xkcd.com/1017...\n",
      "Downloading image http://imgs.xkcd.com/comics/meerkat.jpg...\n",
      "Downloading image http://imgs.xkcd.com/comics/numbers.png...\n",
      "Downloading page http://xkcd.com/128...\n",
      "Downloading page http://xkcd.com/1213...\n",
      "Downloading image http://imgs.xkcd.com/comics/desert_island.png...\n",
      "Downloading image http://imgs.xkcd.com/comics/insomnia.png...\n",
      "Downloading page http://xkcd.com/116...\n",
      "Downloading page http://xkcd.com/716...\n",
      "Downloading image http://imgs.xkcd.com/comics/drawing_stars.png...\n",
      "Downloading image http://imgs.xkcd.com/comics/connoisseur.png...\n",
      "Downloading image http://imgs.xkcd.com/comics/space_elevators.png...\n",
      "Downloading image http://imgs.xkcd.com/comics/mu.png...\n",
      "Downloading page http://xkcd.com/1030...\n",
      "Downloading page http://xkcd.com/816...\n",
      "Downloading page http://xkcd.com/732...\n",
      "Downloading page http://xkcd.com/314...\n",
      "Downloading image http://imgs.xkcd.com/comics/flow_charts.png...\n",
      "Downloading image http://imgs.xkcd.com/comics/photos.png...\n",
      "Downloading page http://xkcd.com/916...\n",
      "Downloading image http://imgs.xkcd.com/comics/illness.png...\n",
      "Downloading image http://imgs.xkcd.com/comics/frequentists_vs_bayesians.png...\n",
      "Downloading page http://xkcd.com/537...\n",
      "Downloading page http://xkcd.com/519...\n",
      "Downloading page http://xkcd.com/819...\n",
      "Downloading page http://xkcd.com/1315...\n",
      "Downloading page http://xkcd.com/1133...\n",
      "Downloading image http://imgs.xkcd.com/comics/city.jpg...\n",
      "Downloading image http://imgs.xkcd.com/comics/romantic_drama_equation.png...\n",
      "Downloading image http://imgs.xkcd.com/comics/avoidance.png...\n",
      "Downloading image http://imgs.xkcd.com/comics/unpickable.png...\n",
      "Downloading image http://imgs.xkcd.com/comics/tech_support_cheat_sheet.png...\n",
      "Downloading image http://imgs.xkcd.com/comics/speculation.png...\n",
      "Downloading image http://imgs.xkcd.com/comics/combination_vision_test.png...\n",
      "Downloading page http://xkcd.com/217...\n",
      "Downloading page http://xkcd.com/616...\n",
      "Downloading image http://imgs.xkcd.com/comics/11th_grade.png...\n",
      "Downloading page http://xkcd.com/917...\n",
      "Downloading page http://xkcd.com/117...\n",
      "Downloading page http://xkcd.com/1214...\n",
      "Downloading page http://xkcd.com/930...\n",
      "Downloading image http://imgs.xkcd.com/comics/dPain_over_dt.png...\n",
      "Downloading image http://imgs.xkcd.com/comics/traffic_lights.gif...\n",
      "Downloading page http://xkcd.com/628...\n",
      "Downloading page http://xkcd.com/520...\n",
      "Downloading image http://imgs.xkcd.com/comics/dating_pools.png...\n",
      "Downloading page http://xkcd.com/129...\n",
      "Downloading image http://imgs.xkcd.com/comics/questions_for_god.png...\n",
      "Downloading image http://imgs.xkcd.com/comics/time_machine.png...\n",
      "Downloading page http://xkcd.com/1316...\n",
      "Downloading page http://xkcd.com/1117...\n",
      "Downloading page http://xkcd.com/315...\n",
      "Downloading image http://imgs.xkcd.com/comics/nintendo_surgeon.png...\n",
      "Downloading image http://imgs.xkcd.com/comics/hdtv.png...\n",
      "Downloading image http://imgs.xkcd.com/comics/backward_in_time.png...\n",
      "Downloading page http://xkcd.com/219...\n",
      "Downloading image http://imgs.xkcd.com/comics/ducklings.png...\n",
      "Downloading image http://imgs.xkcd.com/comics/five_minute_comics_part_1.png...\n",
      "Downloading image http://imgs.xkcd.com/comics/e_to_the_pi_minus_pi.png...\n",
      "Downloading page http://xkcd.com/733...\n",
      "Downloading page http://xkcd.com/538...\n",
      "Downloading page http://xkcd.com/218...\n",
      "Downloading image http://imgs.xkcd.com/comics/hofstadter.png...\n",
      "Downloading image http://imgs.xkcd.com/comics/geoguessr.png...\n",
      "Downloading page http://xkcd.com/1018...\n",
      "Downloading page http://xkcd.com/918...\n",
      "Downloading page http://xkcd.com/820...\n",
      "Downloading image http://imgs.xkcd.com/comics/braille.png...\n",
      "Downloading image http://imgs.xkcd.com/comics/applied_math.png...\n",
      "Downloading image http://imgs.xkcd.com/comics/keyed.png...\n",
      "Downloading page http://xkcd.com/1215...\n",
      "Downloading page http://xkcd.com/316...\n",
      "Downloading image http://imgs.xkcd.com/comics/cuttlefish.png...\n",
      "Downloading page http://xkcd.com/717...\n",
      "Downloading page http://xkcd.com/1031...\n",
      "Downloading image http://imgs.xkcd.com/comics/googleplus.png...Downloading image http://imgs.xkcd.com/comics/prometheus.png...\n",
      "\n",
      "Downloading page http://xkcd.com/817...\n",
      "Downloading page http://xkcd.com/521...\n",
      "Downloading image http://imgs.xkcd.com/comics/my_sky.png...\n",
      "Downloading image http://imgs.xkcd.com/comics/days_of_the_week.png...\n",
      "Downloading page http://xkcd.com/919...\n",
      "Downloading page http://xkcd.com/1118...\n",
      "Downloading page http://xkcd.com/1229...\n",
      "Downloading image http://imgs.xkcd.com/comics/pong.png...\n",
      "Downloading image http://imgs.xkcd.com/comics/loud_sex.png...\n",
      "Downloading image http://imgs.xkcd.com/comics/lease.png...\n",
      "Downloading page http://xkcd.com/317...\n",
      "Downloading image http://imgs.xkcd.com/comics/security.png...\n",
      "Downloading image http://imgs.xkcd.com/comics/nintendo_surgeon.png...\n",
      "Downloading image http://imgs.xkcd.com/comics/psychic.png...\n",
      "Downloading page http://xkcd.com/931...\n",
      "Downloading page http://xkcd.com/617...\n",
      "Downloading image http://imgs.xkcd.com/comics/mutual.png...\n",
      "Downloading image http://imgs.xkcd.com/comics/up_goer_five.png...\n",
      "Downloading image http://imgs.xkcd.com/comics/blanket_fort.png...\n",
      "Downloading page http://xkcd.com/118...\n",
      "Downloading page http://xkcd.com/539...\n",
      "Downloading page http://xkcd.com/818...\n",
      "Downloading page http://xkcd.com/219...\n",
      "Downloading image http://imgs.xkcd.com/comics/insight.png...\n",
      "Downloading page http://xkcd.com/220...\n",
      "Downloading page http://xkcd.com/629...\n",
      "Downloading image http://imgs.xkcd.com/comics/good_cop_dadaist_cop.png...\n",
      "Downloading image http://imgs.xkcd.com/comics/microsoft.png...\n",
      "Downloading image http://imgs.xkcd.com/comics/screensaver.png...\n",
      "Downloading page http://xkcd.com/1216...\n",
      "Downloading image http://imgs.xkcd.com/comics/inexplicable.png...\n",
      "Downloading page http://xkcd.com/1119...\n",
      "Downloading image http://imgs.xkcd.com/comics/furtive.png...\n",
      "Downloading page http://xkcd.com/1230...\n",
      "Downloading page http://xkcd.com/1019...\n",
      "Downloading image http://imgs.xkcd.com/comics/2008_christmas_special.png...\n",
      "Downloading page http://xkcd.com/1317...\n",
      "Downloading page http://xkcd.com/718...\n",
      "Downloading image http://imgs.xkcd.com/comics/blanket_fort.png...\n",
      "Downloading page http://xkcd.com/1134...\n",
      "Downloading page http://xkcd.com/522...\n",
      "Downloading page http://xkcd.com/220...\n",
      "Downloading image http://imgs.xkcd.com/comics/illness.png...\n",
      "Downloading image http://imgs.xkcd.com/comics/content_protection.png...\n",
      "Downloading image http://imgs.xkcd.com/comics/s_keyboard_leopard.png...\n",
      "Downloading image http://imgs.xkcd.com/comics/50_ways.png...\n",
      "Downloading image http://imgs.xkcd.com/comics/that_lovin_feelin.png...\n",
      "Downloading page http://xkcd.com/130...\n",
      "Downloading page http://xkcd.com/318...\n",
      "Downloading page http://xkcd.com/119...\n",
      "Downloading image http://imgs.xkcd.com/comics/philosophy.png...\n",
      "Downloading page http://xkcd.com/819...\n",
      "Downloading page http://xkcd.com/1032...\n",
      "Downloading image http://imgs.xkcd.com/comics/theft.png...\n",
      "Downloading image http://imgs.xkcd.com/comics/understocked.png...\n",
      "Downloading image http://imgs.xkcd.com/comics/logic_boat.png...\n",
      "Downloading image http://imgs.xkcd.com/comics/first_post.png...\n",
      "Downloading page http://xkcd.com/221...\n",
      "Downloading page http://xkcd.com/1318...\n",
      "Downloading page http://xkcd.com/618...\n",
      "Downloading image http://imgs.xkcd.com/comics/philosophy.png...\n"
     ]
    },
    {
     "name": "stdout",
     "output_type": "stream",
     "text": [
      "Downloading page http://xkcd.com/1020...\n",
      "Downloading image http://imgs.xkcd.com/comics/eagle.png...\n",
      "Downloading image http://imgs.xkcd.com/comics/lanes.png...\n",
      "Downloading page http://xkcd.com/1135...\n",
      "Downloading page http://xkcd.com/221...\n",
      "Downloading image http://imgs.xkcd.com/comics/tween_bromance.png...\n",
      "Downloading image http://imgs.xkcd.com/comics/boyfriend.png...\n",
      "Downloading page http://xkcd.com/734...\n",
      "Downloading page http://xkcd.com/920...\n",
      "Downloading image http://imgs.xkcd.com/comics/five_minute_comics_part_2.png...\n",
      "Downloading image http://imgs.xkcd.com/comics/networking.png...\n",
      "Downloading image http://imgs.xkcd.com/comics/nostalgia.png...\n",
      "Downloading image http://imgs.xkcd.com/comics/five_minute_comics_part_1.png...\n",
      "Downloading page http://xkcd.com/932...\n",
      "Downloading page http://xkcd.com/540...\n",
      "Downloading image http://imgs.xkcd.com/comics/julia_stiles.jpg...\n",
      "Downloading page http://xkcd.com/820...\n",
      "Downloading image http://imgs.xkcd.com/comics/skins.png...\n",
      "Downloading page http://xkcd.com/319...\n",
      "Downloading page http://xkcd.com/131...\n",
      "Downloading image http://imgs.xkcd.com/comics/google_trends.png...\n",
      "Downloading image http://imgs.xkcd.com/comics/actually.png...\n",
      "Downloading page http://xkcd.com/821...\n",
      "Downloading image http://imgs.xkcd.com/comics/asteroid.png...\n",
      "Downloading page http://xkcd.com/630...\n",
      "Downloading image http://imgs.xkcd.com/comics/sticks_and_stones.png...\n",
      "Downloading page http://xkcd.com/523...\n",
      "Downloading page http://xkcd.com/1033...\n",
      "Downloading page http://xkcd.com/1319...\n",
      "Downloading image http://imgs.xkcd.com/comics/hedgeclipper.jpg...\n",
      "Downloading page http://xkcd.com/1217...\n",
      "Downloading page http://xkcd.com/619...\n",
      "Downloading image http://imgs.xkcd.com/comics/undoing.png...\n",
      "Downloading image http://imgs.xkcd.com/comics/youtube_parties.png...\n",
      "Downloading page http://xkcd.com/1120...\n",
      "Downloading image http://imgs.xkcd.com/comics/random_number.png...\n",
      "Downloading page http://xkcd.com/921...\n",
      "Downloading page http://xkcd.com/120...\n",
      "Downloading image http://imgs.xkcd.com/comics/the_flake_equation.png...\n",
      "Downloading image http://imgs.xkcd.com/comics/five_minute_comics_part_2.png...\n",
      "Downloading image http://imgs.xkcd.com/comics/outbreak.png...\n",
      "Downloading page http://xkcd.com/222...\n",
      "Downloading page http://xkcd.com/719...\n",
      "Downloading image http://imgs.xkcd.com/comics/fans.png...\n",
      "Downloading image http://imgs.xkcd.com/comics/decline.png...\n",
      "Downloading image http://imgs.xkcd.com/comics/orion_nebula.png...\n",
      "Downloading page http://xkcd.com/524...\n",
      "Downloading image http://imgs.xkcd.com/comics/arachnoneurology.png...\n",
      "Downloading page http://xkcd.com/735...\n",
      "Downloading image http://imgs.xkcd.com/comics/supported_features.png...\n",
      "Downloading page http://xkcd.com/132...\n",
      "Downloading image http://imgs.xkcd.com/comics/time_travel.png...\n",
      "Downloading page http://xkcd.com/1021...\n",
      "Downloading image http://imgs.xkcd.com/comics/polar_cartesian.png...\n",
      "Downloading image http://imgs.xkcd.com/comics/engineering_hubris.png...\n",
      "Downloading image http://imgs.xkcd.com/comics/automation.png...\n",
      "Downloading page http://xkcd.com/821...\n",
      "Downloading page http://xkcd.com/1136...\n",
      "Downloading page http://xkcd.com/631...\n",
      "Downloading image http://imgs.xkcd.com/comics/random_number.png...\n",
      "Downloading page http://xkcd.com/620...\n",
      "Downloading page http://xkcd.com/222...\n",
      "Downloading page http://xkcd.com/1320...\n",
      "Downloading page http://xkcd.com/1231...\n",
      "Downloading image http://imgs.xkcd.com/comics/cells.png...\n",
      "Downloading image http://imgs.xkcd.com/comics/five_minute_comics_part_3.png...\n",
      "Downloading page http://xkcd.com/320...\n",
      "Downloading page http://xkcd.com/1218...\n",
      "Downloading image http://imgs.xkcd.com/comics/base_system.png...\n",
      "Downloading image http://imgs.xkcd.com/comics/formal_logic.png...\n",
      "Downloading image http://imgs.xkcd.com/comics/floor.png...\n",
      "Downloading page http://xkcd.com/1034...\n",
      "Downloading image http://imgs.xkcd.com/comics/anatomy_text.png...\n",
      "Downloading image http://imgs.xkcd.com/comics/business_plan.png...\n",
      "Downloading image http://imgs.xkcd.com/comics/brain_worms.png...\n",
      "Downloading page http://xkcd.com/736...\n",
      "Downloading page http://xkcd.com/541...\n",
      "Downloading image http://imgs.xkcd.com/comics/delivery_notification.png...\n",
      "Downloading image http://imgs.xkcd.com/comics/dating_service.png...\n",
      "Downloading page http://xkcd.com/822...\n",
      "Downloading image http://imgs.xkcd.com/comics/broken_mirror.png...\n",
      "Downloading image http://imgs.xkcd.com/comics/small_talk.png...\n",
      "Downloading image http://imgs.xkcd.com/comics/cia.png...\n",
      "Downloading image http://imgs.xkcd.com/comics/music_knowledge.png...\n",
      "Downloading page http://xkcd.com/720...\n",
      "Downloading page http://xkcd.com/632...\n",
      "Downloading page http://xkcd.com/121...\n",
      "Downloading page http://xkcd.com/1022...\n",
      "Downloading page http://xkcd.com/922...\n",
      "Downloading page http://xkcd.com/933...\n",
      "Downloading page http://xkcd.com/1137...\n",
      "Downloading image http://imgs.xkcd.com/comics/doors_of_durin.png...\n",
      "Downloading page http://xkcd.com/223...\n",
      "Downloading image http://imgs.xkcd.com/comics/party.png...\n",
      "Downloading page http://xkcd.com/133...\n",
      "Downloading page http://xkcd.com/1219...\n",
      "Downloading image http://imgs.xkcd.com/comics/five_minute_comics_part_3.png...\n",
      "Downloading page http://xkcd.com/525...\n",
      "Downloading image http://imgs.xkcd.com/comics/small_talk.png...\n",
      "Downloading image http://imgs.xkcd.com/comics/share_buttons.png...\n",
      "Downloading image http://imgs.xkcd.com/comics/cemetery.png...\n",
      "Downloading image http://imgs.xkcd.com/comics/walmart.png...\n",
      "Downloading page http://xkcd.com/223...\n",
      "Downloading page http://xkcd.com/822...\n",
      "Downloading image http://imgs.xkcd.com/comics/habitable_zone.png...\n",
      "Downloading image http://imgs.xkcd.com/comics/wings.png...\n",
      "Downloading page http://xkcd.com/737...\n",
      "Downloading page http://xkcd.com/1035...\n",
      "Downloading image http://imgs.xkcd.com/comics/ted_talk.png...\n",
      "Downloading page http://xkcd.com/1232...\n",
      "Downloading page http://xkcd.com/621...\n",
      "Downloading page http://xkcd.com/1321...\n",
      "Downloading image http://imgs.xkcd.com/comics/balloon.png...\n",
      "Downloading image http://imgs.xkcd.com/comics/guest_week_jeph_jacques_questionable_content.png...\n",
      "Downloading page http://xkcd.com/122...\n",
      "Downloading page http://xkcd.com/542...\n",
      "Downloading image http://imgs.xkcd.com/comics/fight_club.png...\n",
      "Downloading page http://xkcd.com/823...\n",
      "Downloading image http://imgs.xkcd.com/comics/rtl.png...\n",
      "Downloading image http://imgs.xkcd.com/comics/28_hour_day.png...\n",
      "Downloading page http://xkcd.com/923...\n",
      "Downloading page http://xkcd.com/1138...\n",
      "Downloading image http://imgs.xkcd.com/comics/cold.png...\n",
      "Downloading image http://imgs.xkcd.com/comics/i_know_youre_listening.png...\n",
      "Downloading page http://xkcd.com/321...\n",
      "Downloading page http://xkcd.com/526...\n",
      "Downloading image http://imgs.xkcd.com/comics/superlative.png...\n",
      "Downloading page http://xkcd.com/1322...\n",
      "Downloading page http://xkcd.com/622...\n",
      "Downloading image http://imgs.xkcd.com/comics/valentines_day.jpg...\n",
      "Downloading image http://imgs.xkcd.com/comics/guest_week_jeph_jacques_questionable_content.png...\n",
      "Downloading image http://imgs.xkcd.com/comics/tattoo.png...\n",
      "Downloading image http://imgs.xkcd.com/comics/valentines_day.jpg...\n",
      "Downloading image http://imgs.xkcd.com/comics/yogurt.png...\n",
      "Downloading page http://xkcd.com/823...\n",
      "Downloading image http://imgs.xkcd.com/comics/cadbury_eggs.png...\n",
      "Downloading image http://imgs.xkcd.com/comics/blurring_the_line.png...\n",
      "Downloading page http://xkcd.com/224...\n",
      "Downloading page http://xkcd.com/224...\n",
      "Downloading image http://imgs.xkcd.com/comics/the_raven.jpg...\n",
      "Downloading image http://imgs.xkcd.com/comics/quirky_girls.png...\n",
      "Downloading page http://xkcd.com/738...\n",
      "Downloading image http://imgs.xkcd.com/comics/cover_up.png...\n",
      "Downloading page http://xkcd.com/123...\n",
      "Downloading page http://xkcd.com/1121...\n",
      "Downloading image http://imgs.xkcd.com/comics/realistic_criteria.png...\n",
      "Downloading image http://imgs.xkcd.com/comics/strunk_and_white.png...\n",
      "Downloading page http://xkcd.com/134...\n",
      "Downloading page http://xkcd.com/934...\n",
      "Downloading page http://xkcd.com/1233...\n",
      "Downloading page http://xkcd.com/924...\n",
      "Downloading page http://xkcd.com/543...\n",
      "Downloading page http://xkcd.com/1036...\n",
      "Downloading image http://imgs.xkcd.com/comics/suspicion.png...\n"
     ]
    },
    {
     "name": "stdout",
     "output_type": "stream",
     "text": [
      "Downloading image http://imgs.xkcd.com/comics/thighs.png...\n",
      "Downloading image http://imgs.xkcd.com/comics/recipes.png...\n",
      "Downloading image http://imgs.xkcd.com/comics/guest_week_david_troupes_buttercup_festival.png...\n",
      "Downloading page http://xkcd.com/721...\n",
      "Downloading image http://imgs.xkcd.com/comics/reports.png...\n",
      "Downloading page http://xkcd.com/633...\n",
      "Downloading page http://xkcd.com/322...\n",
      "Downloading image http://imgs.xkcd.com/comics/lisp.jpg...\n",
      "Downloading image http://imgs.xkcd.com/comics/so_it_has_come_to_this.png...\n",
      "Downloading page http://xkcd.com/1220...\n",
      "Downloading image http://imgs.xkcd.com/comics/haiku_proof.png...\n",
      "Downloading page http://xkcd.com/824...\n",
      "Downloading image http://imgs.xkcd.com/comics/mac_pc.png...\n",
      "Downloading page http://xkcd.com/1023...\n",
      "Downloading page http://xkcd.com/623...\n",
      "Downloading image http://imgs.xkcd.com/comics/converting_to_metric.png...\n",
      "Downloading page http://xkcd.com/225...\n",
      "Downloading image http://imgs.xkcd.com/comics/heatmap.png...\n",
      "Downloading page http://xkcd.com/935...\n",
      "Downloading image http://imgs.xkcd.com/comics/lisp.jpg...\n",
      "Downloading page http://xkcd.com/527...\n",
      "Downloading image http://imgs.xkcd.com/comics/sierpinski_valentine.png...\n",
      "Downloading image http://imgs.xkcd.com/comics/centrifugal_force.png...\n",
      "Downloading page http://xkcd.com/225...\n",
      "Downloading image http://imgs.xkcd.com/comics/guest_week_david_troupes_buttercup_festival.png...\n",
      "Downloading page http://xkcd.com/124...\n",
      "Downloading image http://imgs.xkcd.com/comics/identity.png...\n",
      "Downloading image http://imgs.xkcd.com/comics/relativity.png...\n",
      "Downloading page http://xkcd.com/1139...\n",
      "Downloading page http://xkcd.com/824...\n",
      "Downloading image http://imgs.xkcd.com/comics/3d_printer.png...\n",
      "Downloading page http://xkcd.com/544...\n",
      "Downloading page http://xkcd.com/1122...\n",
      "Downloading page http://xkcd.com/925...\n",
      "Downloading image http://imgs.xkcd.com/comics/winter.png...\n",
      "Downloading image http://imgs.xkcd.com/comics/incision.png...\n",
      "Downloading image http://imgs.xkcd.com/comics/hipsters.png...\n",
      "Downloading page http://xkcd.com/1234...\n",
      "Downloading image http://imgs.xkcd.com/comics/pix_plz.png...\n",
      "Downloading image http://imgs.xkcd.com/comics/oregon.png...\n",
      "Downloading image http://imgs.xkcd.com/comics/guest_week_bill_amend_foxtrot.png...\n",
      "Downloading page http://xkcd.com/1323...\n",
      "Downloading image http://imgs.xkcd.com/comics/keynote.png...\n",
      "Downloading image http://imgs.xkcd.com/comics/myspace.png...\n",
      "Downloading image http://imgs.xkcd.com/comics/reviews.png...\n",
      "Downloading page http://xkcd.com/739...\n",
      "Downloading page http://xkcd.com/1221...\n",
      "Downloading image http://imgs.xkcd.com/comics/open_source.png...\n",
      "Downloading page http://xkcd.com/528...\n",
      "Downloading page http://xkcd.com/624...\n",
      "Downloading page http://xkcd.com/323...\n",
      "Downloading page http://xkcd.com/1037...\n",
      "Downloading image http://imgs.xkcd.com/comics/missed_connections.png...\n",
      "Downloading page http://xkcd.com/825...\n",
      "Downloading image http://imgs.xkcd.com/comics/blogofractal.png...\n",
      "Downloading image http://imgs.xkcd.com/comics/flatland.png...\n",
      "Downloading page http://xkcd.com/226...\n",
      "Downloading page http://xkcd.com/936...\n",
      "Downloading page http://xkcd.com/722...\n",
      "Downloading page http://xkcd.com/135...\n",
      "Downloading page http://xkcd.com/125...\n",
      "Downloading image http://imgs.xkcd.com/comics/open_source.png...\n",
      "Downloading image http://imgs.xkcd.com/comics/electoral_precedent.png...\n",
      "Downloading page http://xkcd.com/226...\n",
      "Downloading image http://imgs.xkcd.com/comics/rubber_and_glue.png...\n",
      "Downloading image http://imgs.xkcd.com/comics/pep_talk.png...\n",
      "Downloading image http://imgs.xkcd.com/comics/guest_week_bill_amend_foxtrot.png...\n",
      "Downloading image http://imgs.xkcd.com/comics/windows_7.png...\n",
      "Downloading page http://xkcd.com/545...\n",
      "Downloading page http://xkcd.com/1123...\n",
      "Downloading image http://imgs.xkcd.com/comics/marketing_interview.png...\n",
      "Downloading page http://xkcd.com/1140...\n",
      "Downloading page http://xkcd.com/825...\n",
      "Downloading page http://xkcd.com/529...\n",
      "Downloading page http://xkcd.com/126...\n",
      "Downloading image http://imgs.xkcd.com/comics/guest_week_jeffrey_rowland_overcompensating.png...\n",
      "Downloading image http://imgs.xkcd.com/comics/blockbuster_mining.png...\n",
      "Downloading image http://imgs.xkcd.com/comics/ballmer_peak.png...\n",
      "Downloading image http://imgs.xkcd.com/comics/protocol.png...\n",
      "Downloading image http://imgs.xkcd.com/comics/substitute.png...\n",
      "Downloading page http://xkcd.com/826...\n",
      "Downloading image http://imgs.xkcd.com/comics/swingset.png...\n",
      "Downloading page http://xkcd.com/634...\n",
      "Downloading page http://xkcd.com/1324...\n",
      "Downloading image http://imgs.xkcd.com/comics/malamanteau.png...\n",
      "Downloading image http://imgs.xkcd.com/comics/computer_problems.png...\n",
      "Downloading page http://xkcd.com/227...\n",
      "Downloading page http://xkcd.com/136...\n",
      "Downloading image http://imgs.xkcd.com/comics/late_night_pbs.png...\n",
      "Downloading page http://xkcd.com/723...\n",
      "Downloading image http://imgs.xkcd.com/comics/swingset.png...\n",
      "Downloading page http://xkcd.com/324...\n",
      "Downloading page http://xkcd.com/740...\n",
      "Downloading image http://imgs.xkcd.com/comics/neutrality_shmeutrality.png...\n",
      "Downloading page http://xkcd.com/1024...\n",
      "Downloading page http://xkcd.com/227...\n",
      "Downloading image http://imgs.xkcd.com/comics/branding.png...\n",
      "Downloading page http://xkcd.com/546...\n",
      "Downloading page http://xkcd.com/625...\n",
      "Downloading image http://imgs.xkcd.com/comics/sledding_discussion.png...\n",
      "Downloading image http://imgs.xkcd.com/comics/color_codes.png...\n",
      "Downloading image http://imgs.xkcd.com/comics/douglas_engelbart_1925_2013.png...\n",
      "Downloading image http://imgs.xkcd.com/comics/red_spiders_cometh.jpg...\n",
      "Downloading image http://imgs.xkcd.com/comics/guest_week_zach_weiner_smbc.png...\n",
      "Downloading image http://imgs.xkcd.com/comics/color_codes.png...\n",
      "Downloading image http://imgs.xkcd.com/comics/collections.png...\n",
      "Downloading image http://imgs.xkcd.com/comics/calendar_of_meaningful_dates.png...\n",
      "Downloading image http://imgs.xkcd.com/comics/date.png...\n",
      "Downloading image http://imgs.xkcd.com/comics/reviews.png...\n",
      "Downloading image http://imgs.xkcd.com/comics/the_universal_label.png...\n",
      "Downloading image http://imgs.xkcd.com/comics/tapping.png...\n",
      "Downloading image http://imgs.xkcd.com/comics/guest_week_jeffrey_rowland_overcompensating.png...\n",
      "Downloading page http://xkcd.com/228...\n",
      "Downloading image http://imgs.xkcd.com/comics/science_fair.png...\n",
      "Downloading image http://imgs.xkcd.com/comics/seismic_waves.png...\n",
      "Downloading page http://xkcd.com/228...\n",
      "Downloading page http://xkcd.com/1124...\n",
      "Downloading image http://imgs.xkcd.com/comics/the_tell_tale_beat.png...\n",
      "Downloading image http://imgs.xkcd.com/comics/password_strength.png...\n",
      "Downloading image http://imgs.xkcd.com/comics/error_code.png...\n",
      "Downloading page http://xkcd.com/325...\n",
      "Downloading image http://imgs.xkcd.com/comics/music_drm.png...\n",
      "Downloading page http://xkcd.com/1235...\n",
      "Downloading page http://xkcd.com/1038...\n",
      "Downloading image http://imgs.xkcd.com/comics/nomenclature.png...\n",
      "Downloading page http://xkcd.com/826...\n",
      "Downloading page http://xkcd.com/127...\n",
      "Downloading page http://xkcd.com/530...\n",
      "Downloading image http://imgs.xkcd.com/comics/a-minus-minus.png...\n",
      "Downloading image http://imgs.xkcd.com/comics/law_of_drama.png...\n",
      "Downloading image http://imgs.xkcd.com/comics/weather.png...\n",
      "Downloading image http://imgs.xkcd.com/comics/fountain.png...\n",
      "Downloading image http://imgs.xkcd.com/comics/the_fast_and_the_furious.jpg...\n",
      "Downloading image http://imgs.xkcd.com/comics/settled.png...\n",
      "Downloading page http://xkcd.com/1222...\n",
      "Downloading image http://imgs.xkcd.com/comics/im_an_idiot.png...\n",
      "Downloading image http://imgs.xkcd.com/comics/cell_phones.png...\n",
      "Downloading page http://xkcd.com/547...\n",
      "Downloading page http://xkcd.com/1325...\n",
      "Downloading page http://xkcd.com/635...\n",
      "Downloading image http://imgs.xkcd.com/comics/resonance.png...\n",
      "Downloading page http://xkcd.com/1236...\n",
      "Downloading image http://imgs.xkcd.com/comics/resonance.png...\n",
      "Downloading page http://xkcd.com/626...\n",
      "Downloading image http://imgs.xkcd.com/comics/guest_week_zach_weiner_smbc.png...\n",
      "Downloading image http://imgs.xkcd.com/comics/locke_and_demosthenes.png...\n",
      "Downloading page http://xkcd.com/724...\n",
      "Downloading image http://imgs.xkcd.com/comics/simple.png...\n"
     ]
    },
    {
     "name": "stdout",
     "output_type": "stream",
     "text": [
      "Downloading image http://imgs.xkcd.com/comics/seashell.png...\n",
      "Downloading page http://xkcd.com/229...\n",
      "Downloading page http://xkcd.com/1039...\n",
      "Downloading image http://imgs.xkcd.com/comics/newton_and_leibniz.png...\n",
      "Downloading page http://xkcd.com/326...\n",
      "Downloading image http://imgs.xkcd.com/comics/pastime.png...\n",
      "Downloading page http://xkcd.com/1125...\n",
      "Downloading image http://imgs.xkcd.com/comics/graffiti.png...\n",
      "Downloading page http://xkcd.com/137...\n",
      "Downloading page http://xkcd.com/636...\n",
      "Downloading image http://imgs.xkcd.com/comics/rejection.png...\n",
      "Downloading image http://imgs.xkcd.com/comics/rubisco.png...\n",
      "Downloading image http://imgs.xkcd.com/comics/effect_an_effect.png...\n",
      "Downloading page http://xkcd.com/531...\n",
      "Downloading page http://xkcd.com/229...\n",
      "Downloading image http://imgs.xkcd.com/comics/brontosaurus.png...\n",
      "Downloading page http://xkcd.com/1326...\n",
      "Downloading page http://xkcd.com/1040...\n",
      "Downloading page http://xkcd.com/926...\n",
      "Downloading page http://xkcd.com/548...\n",
      "Downloading image http://imgs.xkcd.com/comics/contingency_plan.png...\n",
      "Downloading image http://imgs.xkcd.com/comics/dreams.png...\n",
      "Downloading image http://imgs.xkcd.com/comics/objects_in_mirror.png...\n",
      "Downloading page http://xkcd.com/327...\n",
      "Downloading image http://imgs.xkcd.com/comics/hell.png...\n",
      "Downloading page http://xkcd.com/1223...\n",
      "Downloading page http://xkcd.com/532...\n",
      "Downloading page http://xkcd.com/637...\n",
      "Downloading image http://imgs.xkcd.com/comics/graffiti.png...\n",
      "Downloading page http://xkcd.com/741...\n",
      "Downloading page http://xkcd.com/1126...\n",
      "Downloading page http://xkcd.com/627...\n",
      "Downloading image http://imgs.xkcd.com/comics/dwarf_fortress.png...\n",
      "Downloading image http://imgs.xkcd.com/comics/piano.png...\n",
      "Downloading image http://imgs.xkcd.com/comics/time_vulture.png...\n",
      "Downloading image http://imgs.xkcd.com/comics/kindle.png...\n",
      "Downloading image http://imgs.xkcd.com/comics/lakes_and_oceans.png...\n",
      "Downloading image http://imgs.xkcd.com/comics/blogging.png...\n",
      "Downloading page http://xkcd.com/533...\n",
      "Downloading image http://imgs.xkcd.com/comics/tech_support_cheat_sheet.png...\n",
      "Downloading page http://xkcd.com/742...\n",
      "Downloading image http://imgs.xkcd.com/comics/epsilon_and_zeta.png...\n",
      "Downloading image http://imgs.xkcd.com/comics/sharks.png...\n",
      "Downloading image http://imgs.xkcd.com/comics/scribblenauts.png...\n",
      "Downloading page http://xkcd.com/128...\n",
      "Downloading page http://xkcd.com/937...\n",
      "Downloading page http://xkcd.com/628...\n",
      "Downloading page http://xkcd.com/725...\n",
      "Downloading image http://imgs.xkcd.com/comics/exploits_of_a_mom.png...\n",
      "Downloading page http://xkcd.com/230...\n",
      "Downloading page http://xkcd.com/1327...\n",
      "Downloading page http://xkcd.com/1127...\n",
      "Downloading page http://xkcd.com/549...\n",
      "Downloading page http://xkcd.com/638...\n",
      "Downloading page http://xkcd.com/328...\n",
      "Downloading page http://xkcd.com/1141...\n",
      "Downloading page http://xkcd.com/927...\n",
      "Downloading image http://imgs.xkcd.com/comics/laptop_hell.png...\n",
      "Downloading page http://xkcd.com/1224...\n",
      "Downloading page http://xkcd.com/534...\n",
      "Downloading image http://imgs.xkcd.com/comics/psychic.png...\n",
      "Downloading page http://xkcd.com/629...\n",
      "Downloading image http://imgs.xkcd.com/comics/standards.png...\n",
      "Downloading image http://imgs.xkcd.com/comics/tornadoguard.png...\n",
      "Downloading page http://xkcd.com/928...\n",
      "Downloading image http://imgs.xkcd.com/comics/literally.png...\n",
      "Downloading image http://imgs.xkcd.com/comics/westleys_a_dick.png...\n",
      "Downloading page http://xkcd.com/726...\n",
      "Downloading page http://xkcd.com/938...\n",
      "Downloading image http://imgs.xkcd.com/comics/hamiltonian.png...\n",
      "Downloading image http://imgs.xkcd.com/comics/dPain_over_dt.png...\n",
      "Downloading image http://imgs.xkcd.com/comics/congress.png...\n",
      "Downloading image http://imgs.xkcd.com/comics/campfire.png...\n",
      "Downloading page http://xkcd.com/550...\n",
      "Downloading image http://imgs.xkcd.com/comics/two_years.png...\n",
      "Downloading page http://xkcd.com/743...\n",
      "Downloading page http://xkcd.com/129...\n",
      "Downloading image http://imgs.xkcd.com/comics/seat_selection.png...\n",
      "Downloading image http://imgs.xkcd.com/comics/council_of_300.png...\n",
      "Downloading page http://xkcd.com/1142...\n",
      "Downloading image http://imgs.xkcd.com/comics/eggs.png...\n",
      "Downloading page http://xkcd.com/727...\n",
      "Downloading page http://xkcd.com/1225...\n",
      "Downloading image http://imgs.xkcd.com/comics/genetic_algorithms.png...\n",
      "Downloading page http://xkcd.com/231...\n",
      "Downloading image http://imgs.xkcd.com/comics/the_search.png...\n",
      "Downloading image http://imgs.xkcd.com/comics/mobile_marketing.png...\n",
      "Downloading page http://xkcd.com/230...\n",
      "Downloading page http://xkcd.com/329...\n",
      "Downloading page http://xkcd.com/639...\n",
      "Downloading page http://xkcd.com/535...\n",
      "Downloading page http://xkcd.com/1128...\n",
      "Downloading page http://xkcd.com/1328...\n",
      "Downloading image http://imgs.xkcd.com/comics/trade_expert.png...\n",
      "Downloading image http://imgs.xkcd.com/comics/infrastructures.png...\n",
      "Downloading image http://imgs.xkcd.com/comics/coverage.png...\n",
      "Downloading page http://xkcd.com/728...\n",
      "Downloading page http://xkcd.com/1143...\n",
      "Downloading page http://xkcd.com/744...\n",
      "Downloading page http://xkcd.com/827...\n",
      "Downloading image http://imgs.xkcd.com/comics/lincoln_douglas.png...\n",
      "Downloading image http://imgs.xkcd.com/comics/skins.png...\n",
      "Downloading image http://imgs.xkcd.com/comics/mimic_octopus.png...\n",
      "Downloading image http://imgs.xkcd.com/comics/cat_proximity.png...\n",
      "Downloading page http://xkcd.com/640...\n",
      "Downloading page http://xkcd.com/630...\n",
      "Downloading page http://xkcd.com/929...\n",
      "Downloading page http://xkcd.com/232...\n",
      "Downloading image http://imgs.xkcd.com/comics/ice_sheets.png...\n",
      "Downloading image http://imgs.xkcd.com/comics/turing_test.png...\n",
      "Downloading image http://imgs.xkcd.com/comics/fifty_shades.png...\n",
      "Downloading image http://imgs.xkcd.com/comics/it_might_be_cool.png...\n",
      "Downloading image http://imgs.xkcd.com/comics/my_business_idea.png...\n",
      "Downloading image http://imgs.xkcd.com/comics/hamiltonian.png...\n",
      "Downloading page http://xkcd.com/330...\n",
      "Downloading image http://imgs.xkcd.com/comics/density.png...\n",
      "Downloading image http://imgs.xkcd.com/comics/walkthrough.png...\n",
      "Downloading image http://imgs.xkcd.com/comics/content_protection.png...\n",
      "Downloading page http://xkcd.com/1226...\n",
      "Downloading image http://imgs.xkcd.com/comics/ipad.png...\n",
      "Downloading image http://imgs.xkcd.com/comics/speculation.png...\n",
      "Downloading page http://xkcd.com/130...\n",
      "Downloading image http://imgs.xkcd.com/comics/update.png...\n",
      "Downloading page http://xkcd.com/1129...\n",
      "Downloading image http://imgs.xkcd.com/comics/tornado_hunter.png...\n",
      "Downloading image http://imgs.xkcd.com/comics/chess_enlightenment.png...\n",
      "Downloading image http://imgs.xkcd.com/comics/indecision.png...\n",
      "Downloading page http://xkcd.com/828...\n",
      "Downloading image http://imgs.xkcd.com/comics/location.png...\n",
      "Downloading image http://imgs.xkcd.com/comics/time_travel.png...\n",
      "Downloading page http://xkcd.com/745...\n",
      "Downloading page http://xkcd.com/1237...\n",
      "Downloading page http://xkcd.com/1329...\n",
      "Downloading page http://xkcd.com/551...\n",
      "Downloading image http://imgs.xkcd.com/comics/balloon_internet.png...\n",
      "Downloading page http://xkcd.com/930...\n",
      "Downloading page http://xkcd.com/631...\n",
      "Downloading image http://imgs.xkcd.com/comics/positive_attitude.png...\n",
      "Downloading page http://xkcd.com/1227...\n",
      "Downloading image http://imgs.xkcd.com/comics/days_of_the_week.png...\n",
      "Downloading page http://xkcd.com/1041...\n",
      "Downloading image http://imgs.xkcd.com/comics/anatomy_text.png...\n",
      "Downloading image http://imgs.xkcd.com/comics/julia_stiles.jpg...\n",
      "Downloading image http://imgs.xkcd.com/comics/dyslexics.png...\n",
      "Downloading image http://imgs.xkcd.com/comics/cell_number.png...\n",
      "Downloading page http://xkcd.com/536...\n",
      "Downloading page http://xkcd.com/131...\n",
      "Downloading image http://imgs.xkcd.com/comics/qr_code.png...\n",
      "Downloading page http://xkcd.com/827...\n",
      "Downloading image http://imgs.xkcd.com/comics/standing.png...\n",
      "Downloading page http://xkcd.com/1130...\n",
      "Downloading image http://imgs.xkcd.com/comics/etch-a-sketch.png...\n",
      "Downloading page http://xkcd.com/331...\n",
      "Downloading page http://xkcd.com/1330...\n",
      "Downloading page http://xkcd.com/746...\n",
      "Downloading image http://imgs.xkcd.com/comics/fans.png...\n",
      "Downloading image http://imgs.xkcd.com/comics/my_business_idea.png...\n",
      "Downloading page http://xkcd.com/138...\n"
     ]
    },
    {
     "name": "stdout",
     "output_type": "stream",
     "text": [
      "Downloading image http://imgs.xkcd.com/comics/the_pace_of_modern_life.png...\n",
      "Downloading image http://imgs.xkcd.com/comics/poll_watching.png...\n",
      "Downloading image http://imgs.xkcd.com/comics/kola_borehole.png...\n",
      "Downloading image http://imgs.xkcd.com/comics/photoshops.png...\n",
      "Downloading image http://imgs.xkcd.com/comics/whites_of_their_eyes.png...\n",
      "Downloading image http://imgs.xkcd.com/comics/birth.png...\n",
      "Downloading page http://xkcd.com/1331...\n",
      "Downloading page http://xkcd.com/729...\n",
      "Downloading image http://imgs.xkcd.com/comics/pointers.png...\n",
      "Downloading page http://xkcd.com/233...\n",
      "Downloading page http://xkcd.com/1131...\n",
      "Downloading page http://xkcd.com/632...\n",
      "Downloading page http://xkcd.com/747...\n",
      "Downloading page http://xkcd.com/139...\n",
      "Downloading page http://xkcd.com/132...\n",
      "Downloading page http://xkcd.com/1042...\n",
      "Downloading image http://imgs.xkcd.com/comics/laser_pointer.png...\n",
      "Downloading page http://xkcd.com/1144...\n",
      "Downloading page http://xkcd.com/1238...\n",
      "Downloading image http://imgs.xkcd.com/comics/music_knowledge.png...\n",
      "Downloading image http://imgs.xkcd.com/comics/math.png...\n",
      "Downloading image http://imgs.xkcd.com/comics/space_elevators.png...\n",
      "Downloading image http://imgs.xkcd.com/comics/geeks_and_nerds.png...\n",
      "Downloading image http://imgs.xkcd.com/comics/never.png...\n",
      "Downloading page http://xkcd.com/829...\n",
      "Downloading page http://xkcd.com/1132...\n",
      "Downloading image http://imgs.xkcd.com/comics/electric_skateboards.png...\n",
      "Downloading page http://xkcd.com/748...\n",
      "Downloading page http://xkcd.com/133...\n",
      "Downloading image http://imgs.xkcd.com/comics/frequency/heartbeat.gif...\n",
      "Downloading image http://imgs.xkcd.com/comics/arsenic_based_life.png...\n",
      "Downloading page http://xkcd.com/140...\n",
      "Downloading image http://imgs.xkcd.com/comics/enlightenment.png...\n",
      "Downloading image http://imgs.xkcd.com/comics/tags.png...\n",
      "Downloading page http://xkcd.com/1145...\n",
      "Downloading image http://imgs.xkcd.com/comics/frequentists_vs_bayesians.png...\n",
      "Downloading page http://xkcd.com/730...\n",
      "Downloading image http://imgs.xkcd.com/comics/worst_case_scenario.png...\n",
      "Downloading image http://imgs.xkcd.com/comics/suspicion.png...\n",
      "Downloading page http://xkcd.com/1043...\n",
      "Downloading page http://xkcd.com/332...\n",
      "Downloading page http://xkcd.com/1332...\n",
      "Downloading page http://xkcd.com/537...\n",
      "Downloading page http://xkcd.com/552...\n",
      "Downloading page http://xkcd.com/641...\n",
      "Downloading image http://imgs.xkcd.com/comics/circuit_diagram.png...\n",
      "Downloading image http://imgs.xkcd.com/comics/the_raven.jpg...\n",
      "Downloading image http://imgs.xkcd.com/comics/delicious.png...\n",
      "Downloading image http://imgs.xkcd.com/comics/ablogalypse.png...\n",
      "Downloading image http://imgs.xkcd.com/comics/gyroscopes.png...\n",
      "Downloading page http://xkcd.com/134...\n",
      "Downloading page http://xkcd.com/1239...\n",
      "Downloading image http://imgs.xkcd.com/comics/free.png...\n",
      "Downloading page http://xkcd.com/141...\n",
      "Downloading image http://imgs.xkcd.com/comics/slippery_slope.png...\n",
      "Downloading page http://xkcd.com/830...\n",
      "Downloading page http://xkcd.com/333...\n",
      "Downloading image http://imgs.xkcd.com/comics/sky_color.png...\n",
      "Downloading page http://xkcd.com/1333...\n",
      "Downloading image http://imgs.xkcd.com/comics/ducklings.png...\n",
      "Downloading image http://imgs.xkcd.com/comics/social_media.png...\n",
      "Downloading image http://imgs.xkcd.com/comics/getting_out_of_hand.png...\n",
      "Downloading page http://xkcd.com/642...\n",
      "Downloading image http://imgs.xkcd.com/comics/genetic_analysis.png...\n",
      "Downloading image http://imgs.xkcd.com/comics/correlation.png...\n",
      "Downloading page http://xkcd.com/1146...\n",
      "Downloading page http://xkcd.com/538...\n",
      "Downloading page http://xkcd.com/1044...\n",
      "Downloading image http://imgs.xkcd.com/comics/myspace.png...\n",
      "Downloading page http://xkcd.com/334...\n",
      "Downloading page http://xkcd.com/828...\n",
      "Downloading page http://xkcd.com/1133...\n",
      "Downloading page http://xkcd.com/831...\n",
      "Downloading image http://imgs.xkcd.com/comics/a_new_captcha_approach.png...\n",
      "Downloading page http://xkcd.com/1240...\n",
      "Downloading page http://xkcd.com/633...\n",
      "Downloading image http://imgs.xkcd.com/comics/creepy.png...\n",
      "Downloading image http://imgs.xkcd.com/comics/achewood.png...\n",
      "Downloading image http://imgs.xkcd.com/comics/security.png...\n",
      "Downloading image http://imgs.xkcd.com/comics/positive_attitude.png...\n",
      "Downloading image http://imgs.xkcd.com/comics/weather_radar.png...\n",
      "Downloading page http://xkcd.com/643...\n",
      "Downloading page http://xkcd.com/539...\n",
      "Downloading image http://imgs.xkcd.com/comics/first_date.png...\n",
      "Downloading image http://imgs.xkcd.com/comics/honest.png...\n",
      "Downloading image http://imgs.xkcd.com/comics/wasteland.png...\n",
      "Downloading page http://xkcd.com/234...\n",
      "Downloading image http://imgs.xkcd.com/comics/blockbuster_mining.png...\n",
      "Downloading page http://xkcd.com/553...\n",
      "Downloading image http://imgs.xkcd.com/comics/quantum_mechanics.png...\n",
      "Downloading image http://imgs.xkcd.com/comics/ohm.png...\n",
      "Downloading image http://imgs.xkcd.com/comics/romney_quiz.png...\n",
      "Downloading page http://xkcd.com/731...\n",
      "Downloading page http://xkcd.com/1334...\n",
      "Downloading page http://xkcd.com/1241...\n",
      "Downloading image http://imgs.xkcd.com/comics/up_goer_five.png...\n",
      "Downloading image http://imgs.xkcd.com/comics/boyfriend.png...\n",
      "Downloading page http://xkcd.com/644...\n",
      "Downloading image http://imgs.xkcd.com/comics/pirate_bay.png...\n",
      "Downloading image http://imgs.xkcd.com/comics/escape_artist.png...\n",
      "Downloading page http://xkcd.com/231...\n",
      "Downloading image http://imgs.xkcd.com/comics/desert_island.png...\n",
      "Downloading page http://xkcd.com/554...\n",
      "Downloading image http://imgs.xkcd.com/comics/annoying_ringtone_champion.png...\n",
      "Downloading image http://imgs.xkcd.com/comics/surgery.png...\n",
      "Downloading page http://xkcd.com/540...\n",
      "Downloading page http://xkcd.com/1242...\n",
      "Downloading page http://xkcd.com/235...\n",
      "Downloading image http://imgs.xkcd.com/comics/cat_proximity.png...\n",
      "Downloading page http://xkcd.com/832...\n",
      "Downloading image http://imgs.xkcd.com/comics/scary_names.png...\n",
      "Downloading image http://imgs.xkcd.com/comics/not_enough_work.png...\n",
      "Downloading page http://xkcd.com/1243...\n",
      "Downloading page http://xkcd.com/1147...\n",
      "Downloading image http://imgs.xkcd.com/comics/kite.jpg...\n",
      "Downloading page http://xkcd.com/634...\n",
      "Downloading image http://imgs.xkcd.com/comics/second.png...\n",
      "Downloading page http://xkcd.com/232...\n",
      "Downloading image http://imgs.xkcd.com/comics/tic_tac_toe.png...\n",
      "Downloading page http://xkcd.com/555...\n",
      "Downloading page http://xkcd.com/1335...\n",
      "Downloading image http://imgs.xkcd.com/comics/two_mirrors.png...\n",
      "Downloading image http://imgs.xkcd.com/comics/snare.png...\n",
      "Downloading image http://imgs.xkcd.com/comics/date.png...\n",
      "Downloading page http://xkcd.com/556...\n",
      "Downloading image http://imgs.xkcd.com/comics/chess_enlightenment.png...\n",
      "Downloading image http://imgs.xkcd.com/comics/now.png...\n",
      "Downloading page http://xkcd.com/236...\n",
      "Downloading page http://xkcd.com/233...\n",
      "Downloading page http://xkcd.com/635...\n",
      "Downloading image http://imgs.xkcd.com/comics/alternative_energy_revolution.jpg...\n",
      "Downloading page http://xkcd.com/1244...\n",
      "Downloading image http://imgs.xkcd.com/comics/base_system.png...\n",
      "Downloading page http://xkcd.com/1045...\n",
      "Downloading image http://imgs.xkcd.com/comics/collecting_double_takes.png...\n",
      "Downloading image http://imgs.xkcd.com/comics/locke_and_demosthenes.png...\n",
      "Downloading image http://imgs.xkcd.com/comics/a_new_captcha_approach.png...\n",
      "Downloading image http://imgs.xkcd.com/comics/six_words.png...\n",
      "Downloading page http://xkcd.com/234...\n",
      "Downloading image http://imgs.xkcd.com/comics/evolving.png...\n",
      "Downloading image http://imgs.xkcd.com/comics/escape_artist.png...\n",
      "Downloading page http://xkcd.com/1148...\n",
      "Downloading page http://xkcd.com/1245...\n",
      "Downloading image http://imgs.xkcd.com/comics/nothing_to_offer.png...\n",
      "Downloading image http://imgs.xkcd.com/comics/constraints.png...\n",
      "Downloading page http://xkcd.com/636...\n",
      "Downloading page http://xkcd.com/142...\n",
      "Downloading page http://xkcd.com/1046...\n",
      "Downloading image http://imgs.xkcd.com/comics/brontosaurus.png...\n",
      "Downloading page http://xkcd.com/1149...\n",
      "Downloading page http://xkcd.com/645...\n",
      "Downloading page http://xkcd.com/335...\n",
      "Downloading page http://xkcd.com/637...\n",
      "Downloading page http://xkcd.com/237...\n"
     ]
    },
    {
     "name": "stdout",
     "output_type": "stream",
     "text": [
      "Downloading page http://xkcd.com/1025...\n",
      "Downloading page http://xkcd.com/732...\n",
      "Downloading image http://imgs.xkcd.com/comics/megaxkcd.png...\n",
      "Downloading image http://imgs.xkcd.com/comics/mattress.png...\n",
      "Downloading page http://xkcd.com/143...\n",
      "Downloading page http://xkcd.com/235...\n",
      "Downloading page http://xkcd.com/541...\n",
      "Downloading image http://imgs.xkcd.com/comics/broomstick.png...\n",
      "Downloading page http://xkcd.com/336...\n",
      "Downloading image http://imgs.xkcd.com/comics/rps.png...\n",
      "Downloading image http://imgs.xkcd.com/comics/skynet.png...\n",
      "Downloading page http://xkcd.com/1150...\n",
      "Downloading page http://xkcd.com/646...\n",
      "Downloading image http://imgs.xkcd.com/comics/scribblenauts.png...\n",
      "Downloading page http://xkcd.com/1047...\n",
      "Downloading image http://imgs.xkcd.com/comics/keyboards_are_disgusting.png...\n",
      "Downloading image http://imgs.xkcd.com/comics/10_day_forecast.png...\n",
      "Downloading image http://imgs.xkcd.com/comics/kite.jpg...\n",
      "Downloading image http://imgs.xkcd.com/comics/ted_talk.png...\n",
      "Downloading page http://xkcd.com/135...\n",
      "Downloading image http://imgs.xkcd.com/comics/conversations.png...\n",
      "Downloading image http://imgs.xkcd.com/comics/hdtv.png...\n",
      "Downloading page http://xkcd.com/638...\n",
      "Downloading page http://xkcd.com/238...\n",
      "Downloading image http://imgs.xkcd.com/comics/priorities.png...\n",
      "Downloading page http://xkcd.com/1246...\n",
      "Downloading image http://imgs.xkcd.com/comics/tfd_nataliedee.png...\n",
      "Downloading image http://imgs.xkcd.com/comics/instagram.png...\n",
      "Downloading page http://xkcd.com/733...Downloading page http://xkcd.com/542...\n",
      "\n"
     ]
    },
    {
     "ename": "KeyboardInterrupt",
     "evalue": "",
     "output_type": "error",
     "traceback": [
      "\u001b[0;31m---------------------------------------------------------------------------\u001b[0m",
      "\u001b[0;31mKeyboardInterrupt\u001b[0m                         Traceback (most recent call last)",
      "\u001b[0;32m<ipython-input-61-87c9bcb789df>\u001b[0m in \u001b[0;36m<module>\u001b[0;34m\u001b[0m\n\u001b[1;32m     37\u001b[0m \u001b[0;31m# Wait for all threads to end.\u001b[0m\u001b[0;34m\u001b[0m\u001b[0;34m\u001b[0m\u001b[0;34m\u001b[0m\u001b[0m\n\u001b[1;32m     38\u001b[0m \u001b[0;32mfor\u001b[0m \u001b[0mdownloadThread\u001b[0m \u001b[0;32min\u001b[0m \u001b[0mdownloadThreads\u001b[0m\u001b[0;34m:\u001b[0m\u001b[0;34m\u001b[0m\u001b[0;34m\u001b[0m\u001b[0m\n\u001b[0;32m---> 39\u001b[0;31m     \u001b[0mdownloadThread\u001b[0m\u001b[0;34m.\u001b[0m\u001b[0mjoin\u001b[0m\u001b[0;34m(\u001b[0m\u001b[0;34m)\u001b[0m\u001b[0;34m\u001b[0m\u001b[0;34m\u001b[0m\u001b[0m\n\u001b[0m\u001b[1;32m     40\u001b[0m \u001b[0mprint\u001b[0m\u001b[0;34m(\u001b[0m\u001b[0;34m'Done'\u001b[0m\u001b[0;34m)\u001b[0m\u001b[0;34m\u001b[0m\u001b[0;34m\u001b[0m\u001b[0m\n",
      "\u001b[0;32m/Library/Frameworks/Python.framework/Versions/3.7/lib/python3.7/threading.py\u001b[0m in \u001b[0;36mjoin\u001b[0;34m(self, timeout)\u001b[0m\n\u001b[1;32m   1030\u001b[0m \u001b[0;34m\u001b[0m\u001b[0m\n\u001b[1;32m   1031\u001b[0m         \u001b[0;32mif\u001b[0m \u001b[0mtimeout\u001b[0m \u001b[0;32mis\u001b[0m \u001b[0;32mNone\u001b[0m\u001b[0;34m:\u001b[0m\u001b[0;34m\u001b[0m\u001b[0;34m\u001b[0m\u001b[0m\n\u001b[0;32m-> 1032\u001b[0;31m             \u001b[0mself\u001b[0m\u001b[0;34m.\u001b[0m\u001b[0m_wait_for_tstate_lock\u001b[0m\u001b[0;34m(\u001b[0m\u001b[0;34m)\u001b[0m\u001b[0;34m\u001b[0m\u001b[0;34m\u001b[0m\u001b[0m\n\u001b[0m\u001b[1;32m   1033\u001b[0m         \u001b[0;32melse\u001b[0m\u001b[0;34m:\u001b[0m\u001b[0;34m\u001b[0m\u001b[0;34m\u001b[0m\u001b[0m\n\u001b[1;32m   1034\u001b[0m             \u001b[0;31m# the behavior of a negative timeout isn't documented, but\u001b[0m\u001b[0;34m\u001b[0m\u001b[0;34m\u001b[0m\u001b[0;34m\u001b[0m\u001b[0m\n",
      "\u001b[0;32m/Library/Frameworks/Python.framework/Versions/3.7/lib/python3.7/threading.py\u001b[0m in \u001b[0;36m_wait_for_tstate_lock\u001b[0;34m(self, block, timeout)\u001b[0m\n\u001b[1;32m   1046\u001b[0m         \u001b[0;32mif\u001b[0m \u001b[0mlock\u001b[0m \u001b[0;32mis\u001b[0m \u001b[0;32mNone\u001b[0m\u001b[0;34m:\u001b[0m  \u001b[0;31m# already determined that the C code is done\u001b[0m\u001b[0;34m\u001b[0m\u001b[0;34m\u001b[0m\u001b[0m\n\u001b[1;32m   1047\u001b[0m             \u001b[0;32massert\u001b[0m \u001b[0mself\u001b[0m\u001b[0;34m.\u001b[0m\u001b[0m_is_stopped\u001b[0m\u001b[0;34m\u001b[0m\u001b[0;34m\u001b[0m\u001b[0m\n\u001b[0;32m-> 1048\u001b[0;31m         \u001b[0;32melif\u001b[0m \u001b[0mlock\u001b[0m\u001b[0;34m.\u001b[0m\u001b[0macquire\u001b[0m\u001b[0;34m(\u001b[0m\u001b[0mblock\u001b[0m\u001b[0;34m,\u001b[0m \u001b[0mtimeout\u001b[0m\u001b[0;34m)\u001b[0m\u001b[0;34m:\u001b[0m\u001b[0;34m\u001b[0m\u001b[0;34m\u001b[0m\u001b[0m\n\u001b[0m\u001b[1;32m   1049\u001b[0m             \u001b[0mlock\u001b[0m\u001b[0;34m.\u001b[0m\u001b[0mrelease\u001b[0m\u001b[0;34m(\u001b[0m\u001b[0;34m)\u001b[0m\u001b[0;34m\u001b[0m\u001b[0;34m\u001b[0m\u001b[0m\n\u001b[1;32m   1050\u001b[0m             \u001b[0mself\u001b[0m\u001b[0;34m.\u001b[0m\u001b[0m_stop\u001b[0m\u001b[0;34m(\u001b[0m\u001b[0;34m)\u001b[0m\u001b[0;34m\u001b[0m\u001b[0;34m\u001b[0m\u001b[0m\n",
      "\u001b[0;31mKeyboardInterrupt\u001b[0m: "
     ]
    }
   ],
   "source": [
    "import requests, os, bs4, threading\n",
    "os.makedirs('xkcd',exist_ok=True)    #store comics in ./xkcd\n",
    "\n",
    "def downloadXkcd(startComic, endComic):\n",
    "    for urlNumber in range(startComic, endComic):\n",
    "        #Download the page.\n",
    "        print(\"Downloading page http://xkcd.com/%s...\" %(urlNumber))\n",
    "        res=requests.get('http://xkcd.com/%s' %(urlNumber))\n",
    "        res.raise_for_status()\n",
    "        \n",
    "        soup=bs4.BeautifulSoup(res.text)\n",
    "        \n",
    "        #Find the URL of the comic image.\n",
    "        comicElem=soup.select('#comic img')\n",
    "        if comicElem==[]:\n",
    "            print('Could not find comic image.')\n",
    "        else:\n",
    "            comicUrl='http:'+comicElem[0].get('src')\n",
    "            #Download the image.\n",
    "            print(\"Downloading image %s...\" %(comicUrl))\n",
    "            res=requests.get(comicUrl)\n",
    "            res.raise_for_status()\n",
    "            \n",
    "            #Save the image to ./xkcd.\n",
    "            imageFile=open(os.path.join('xkcd', os.path.basename(comicUrl)),'wb')\n",
    "            for chunk in res.iter_content(100000):\n",
    "                imageFile.write(chunk)\n",
    "            imageFile.close()\n",
    "\n",
    "# Create and start the Thread Objects.\n",
    "downloadThreads=[]     # a list of all the Thread objects\n",
    "for i in range(0, 1400, 100):    #loops 14 times, creates 14 threads\n",
    "    downloadThread=threading.Thread(target=downloadXkcd, args=(i, i+99))\n",
    "    downloadThreads.append(downloadThread)\n",
    "    downloadThread.start()\n",
    "    \n",
    "# Wait for all threads to end.\n",
    "for downloadThread in downloadThreads:\n",
    "    downloadThread.join()\n",
    "print('Done')"
   ]
  },
  {
   "cell_type": "markdown",
   "metadata": {},
   "source": [
    "## 15.8 从Python启动其他程序"
   ]
  },
  {
   "cell_type": "markdown",
   "metadata": {},
   "source": [
    "### 15.8.1 向Popen()传递命令行参数"
   ]
  },
  {
   "cell_type": "markdown",
   "metadata": {},
   "source": [
    "### 15.8.2 Task Scheduler. launchd 和 cron"
   ]
  },
  {
   "cell_type": "markdown",
   "metadata": {},
   "source": [
    "### 15.8.3 用Python打开网站"
   ]
  },
  {
   "cell_type": "markdown",
   "metadata": {},
   "source": [
    "### 15.8.4 运行其他Python脚本"
   ]
  },
  {
   "cell_type": "markdown",
   "metadata": {},
   "source": [
    "### 15.8.5 用默认的应用程序打开文件"
   ]
  },
  {
   "cell_type": "code",
   "execution_count": 62,
   "metadata": {},
   "outputs": [
    {
     "name": "stdout",
     "output_type": "stream",
     "text": [
      "Downloading page http://xkcd.com/736...\n"
     ]
    },
    {
     "data": {
      "text/plain": [
       "<subprocess.Popen at 0x10b2da390>"
      ]
     },
     "execution_count": 62,
     "metadata": {},
     "output_type": "execute_result"
    },
    {
     "name": "stdout",
     "output_type": "stream",
     "text": [
      "Downloading image http://imgs.xkcd.com/comics/book_burning.png...\n",
      "Downloading image http://imgs.xkcd.com/comics/resolution.png...\n",
      "Downloading page http://xkcd.com/145...\n",
      "Downloading page http://xkcd.com/751...\n",
      "Downloading image http://imgs.xkcd.com/comics/dream_girl.png...\n",
      "Downloading image http://imgs.xkcd.com/comics/students.png...\n",
      "Downloading page http://xkcd.com/1155...\n",
      "Downloading image http://imgs.xkcd.com/comics/depth_perception.png...\n",
      "Downloading page http://xkcd.com/241...\n",
      "Downloading image http://imgs.xkcd.com/comics/fight.png...\n",
      "Downloading image http://imgs.xkcd.com/comics/communication.png...\n",
      "Downloading page http://xkcd.com/558...\n",
      "Downloading page http://xkcd.com/341...\n",
      "Downloading page http://xkcd.com/1029...\n",
      "Downloading image http://imgs.xkcd.com/comics/tattoo.png...\n",
      "Downloading image http://imgs.xkcd.com/comics/cemetery.png...\n",
      "Downloading page http://xkcd.com/1336...\n",
      "Downloading page http://xkcd.com/737...\n",
      "Downloading page http://xkcd.com/934...\n",
      "Downloading image http://imgs.xkcd.com/comics/forgot_algebra.png...Downloading image http://imgs.xkcd.com/comics/dreams.png...\n",
      "\n",
      "Downloading page http://xkcd.com/942...\n",
      "Downloading page http://xkcd.com/1051...\n",
      "Downloading page http://xkcd.com/544...\n",
      "Downloading page http://xkcd.com/138...\n",
      "Downloading image http://imgs.xkcd.com/comics/swimsuit_issue.png...\n"
     ]
    }
   ],
   "source": [
    "import subprocess\n",
    "subprocess.Popen(['open','/Applications/Calculator.app/'])"
   ]
  },
  {
   "cell_type": "markdown",
   "metadata": {},
   "source": [
    "## 15.9 项目：简单的倒计时程序"
   ]
  },
  {
   "cell_type": "markdown",
   "metadata": {},
   "source": [
    "### 15.9.1 倒计时"
   ]
  },
  {
   "cell_type": "code",
   "execution_count": 63,
   "metadata": {},
   "outputs": [
    {
     "name": "stdout",
     "output_type": "stream",
     "text": [
      "60Downloading image http://imgs.xkcd.com/comics/climbing.png...\n",
      "Downloading image http://imgs.xkcd.com/comics/manuals.png...\n",
      "Downloading page http://xkcd.com/1253...\n",
      "59Downloading image http://imgs.xkcd.com/comics/reviews.png...\n",
      "Downloading page http://xkcd.com/656...\n",
      "Downloading page http://xkcd.com/1344...\n",
      "Downloading image http://imgs.xkcd.com/comics/well_2.png...\n",
      "Downloading page http://xkcd.com/1038...\n",
      "58Downloading page http://xkcd.com/569...\n",
      "5756Downloading page http://xkcd.com/346...\n",
      "55"
     ]
    },
    {
     "ename": "KeyboardInterrupt",
     "evalue": "",
     "output_type": "error",
     "traceback": [
      "\u001b[0;31m---------------------------------------------------------------------------\u001b[0m",
      "\u001b[0;31mKeyboardInterrupt\u001b[0m                         Traceback (most recent call last)",
      "\u001b[0;32m<ipython-input-63-acdd9b72b705>\u001b[0m in \u001b[0;36m<module>\u001b[0;34m\u001b[0m\n\u001b[1;32m      4\u001b[0m \u001b[0;32mwhile\u001b[0m \u001b[0mtimeLeft\u001b[0m\u001b[0;34m>\u001b[0m\u001b[0;36m0\u001b[0m\u001b[0;34m:\u001b[0m\u001b[0;34m\u001b[0m\u001b[0;34m\u001b[0m\u001b[0m\n\u001b[1;32m      5\u001b[0m     \u001b[0mprint\u001b[0m\u001b[0;34m(\u001b[0m\u001b[0mtimeLeft\u001b[0m\u001b[0;34m,\u001b[0m \u001b[0mend\u001b[0m\u001b[0;34m=\u001b[0m\u001b[0;34m''\u001b[0m\u001b[0;34m)\u001b[0m\u001b[0;34m\u001b[0m\u001b[0;34m\u001b[0m\u001b[0m\n\u001b[0;32m----> 6\u001b[0;31m     \u001b[0mtime\u001b[0m\u001b[0;34m.\u001b[0m\u001b[0msleep\u001b[0m\u001b[0;34m(\u001b[0m\u001b[0;36m1\u001b[0m\u001b[0;34m)\u001b[0m\u001b[0;34m\u001b[0m\u001b[0;34m\u001b[0m\u001b[0m\n\u001b[0m\u001b[1;32m      7\u001b[0m     \u001b[0mtimeLeft\u001b[0m\u001b[0;34m=\u001b[0m\u001b[0mtimeLeft\u001b[0m\u001b[0;34m-\u001b[0m\u001b[0;36m1\u001b[0m\u001b[0;34m\u001b[0m\u001b[0;34m\u001b[0m\u001b[0m\n\u001b[1;32m      8\u001b[0m \u001b[0;34m\u001b[0m\u001b[0m\n",
      "\u001b[0;31mKeyboardInterrupt\u001b[0m: "
     ]
    }
   ],
   "source": [
    "import time, subprocess\n",
    "\n",
    "timeLeft=60\n",
    "while timeLeft>0:\n",
    "    print(timeLeft, end='')\n",
    "    time.sleep(1)\n",
    "    timeLeft=timeLeft-1\n",
    "    \n",
    "# TODO: At the end of the countdown, play a sound file."
   ]
  },
  {
   "cell_type": "markdown",
   "metadata": {},
   "source": [
    "### 15.9.2 播放声音文件"
   ]
  },
  {
   "cell_type": "code",
   "execution_count": 64,
   "metadata": {},
   "outputs": [
    {
     "name": "stdout",
     "output_type": "stream",
     "text": [
      "60Downloading image http://imgs.xkcd.com/comics/subliminal.png...\n",
      "Downloading image http://imgs.xkcd.com/comics/pandora.png...\n",
      "Downloading image http://imgs.xkcd.com/comics/front_door.png...\n",
      "Downloading page http://xkcd.com/166...\n",
      "59Downloading image http://imgs.xkcd.com/comics/coupon_code.png...\n",
      "Downloading page http://xkcd.com/1352...\n",
      "58Downloading image http://imgs.xkcd.com/comics/the_race_part_4.png...\n",
      "Downloading page http://xkcd.com/669...\n",
      "57Downloading image http://imgs.xkcd.com/comics/nerd_sniping.png...\n",
      "Downloading page http://xkcd.com/1137...\n",
      "Downloading image http://imgs.xkcd.com/comics/anti_glass.png...\n",
      "56Downloading image http://imgs.xkcd.com/comics/cosmologist_on_a_tire_swing.png...\n",
      "Downloading page http://xkcd.com/754...\n",
      "Downloading image http://imgs.xkcd.com/comics/boombox.png...\n",
      "Downloading image http://imgs.xkcd.com/comics/parking.png...\n",
      "55Downloading page http://xkcd.com/773...\n",
      "Downloading page http://xkcd.com/1171...\n",
      "54Downloading page http://xkcd.com/1252...\n",
      "Downloading page http://xkcd.com/259...\n",
      "Downloading image http://imgs.xkcd.com/comics/misusing_slang.png...\n",
      "Downloading page http://xkcd.com/838...\n",
      "53Downloading page http://xkcd.com/259...\n",
      "Downloading page http://xkcd.com/844...\n",
      "Downloading image http://imgs.xkcd.com/comics/dependencies.png...\n",
      "Downloading page http://xkcd.com/1065...\n",
      "Downloading page http://xkcd.com/755...\n",
      "52Downloading image http://imgs.xkcd.com/comics/rtl.png...\n",
      "Downloading page http://xkcd.com/1353...\n",
      "51Downloading page http://xkcd.com/1138...\n",
      "Downloading image http://imgs.xkcd.com/comics/shoes.png...\n"
     ]
    },
    {
     "ename": "KeyboardInterrupt",
     "evalue": "",
     "output_type": "error",
     "traceback": [
      "\u001b[0;31m---------------------------------------------------------------------------\u001b[0m",
      "\u001b[0;31mKeyboardInterrupt\u001b[0m                         Traceback (most recent call last)",
      "\u001b[0;32m<ipython-input-64-928e03aaa460>\u001b[0m in \u001b[0;36m<module>\u001b[0;34m\u001b[0m\n\u001b[1;32m      4\u001b[0m \u001b[0;32mwhile\u001b[0m \u001b[0mtimeLeft\u001b[0m\u001b[0;34m>\u001b[0m\u001b[0;36m0\u001b[0m\u001b[0;34m:\u001b[0m\u001b[0;34m\u001b[0m\u001b[0;34m\u001b[0m\u001b[0m\n\u001b[1;32m      5\u001b[0m     \u001b[0mprint\u001b[0m\u001b[0;34m(\u001b[0m\u001b[0mtimeLeft\u001b[0m\u001b[0;34m,\u001b[0m \u001b[0mend\u001b[0m\u001b[0;34m=\u001b[0m\u001b[0;34m''\u001b[0m\u001b[0;34m)\u001b[0m\u001b[0;34m\u001b[0m\u001b[0;34m\u001b[0m\u001b[0m\n\u001b[0;32m----> 6\u001b[0;31m     \u001b[0mtime\u001b[0m\u001b[0;34m.\u001b[0m\u001b[0msleep\u001b[0m\u001b[0;34m(\u001b[0m\u001b[0;36m1\u001b[0m\u001b[0;34m)\u001b[0m\u001b[0;34m\u001b[0m\u001b[0;34m\u001b[0m\u001b[0m\n\u001b[0m\u001b[1;32m      7\u001b[0m     \u001b[0mtimeLeft\u001b[0m\u001b[0;34m=\u001b[0m\u001b[0mtimeLeft\u001b[0m\u001b[0;34m-\u001b[0m\u001b[0;36m1\u001b[0m\u001b[0;34m\u001b[0m\u001b[0;34m\u001b[0m\u001b[0m\n\u001b[1;32m      8\u001b[0m \u001b[0;34m\u001b[0m\u001b[0m\n",
      "\u001b[0;31mKeyboardInterrupt\u001b[0m: "
     ]
    },
    {
     "name": "stdout",
     "output_type": "stream",
     "text": [
      "Downloading page http://xkcd.com/167...\n"
     ]
    }
   ],
   "source": [
    "import time, subprocess\n",
    "\n",
    "timeLeft=60\n",
    "while timeLeft>0:\n",
    "    print(timeLeft, end='')\n",
    "    time.sleep(1)\n",
    "    timeLeft=timeLeft-1\n",
    "    \n",
    "# At the end of the countdown, play a sound file.\n",
    "subprocess.Popen(['start','alarm.wav'], shell=True)"
   ]
  }
 ],
 "metadata": {
  "kernelspec": {
   "display_name": "Python 3",
   "language": "python",
   "name": "python3"
  },
  "language_info": {
   "codemirror_mode": {
    "name": "ipython",
    "version": 3
   },
   "file_extension": ".py",
   "mimetype": "text/x-python",
   "name": "python",
   "nbconvert_exporter": "python",
   "pygments_lexer": "ipython3",
   "version": "3.7.3"
  }
 },
 "nbformat": 4,
 "nbformat_minor": 2
}
