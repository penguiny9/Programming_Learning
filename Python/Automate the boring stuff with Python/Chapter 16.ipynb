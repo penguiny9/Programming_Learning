{
 "cells": [
  {
   "cell_type": "markdown",
   "metadata": {},
   "source": [
    "# Chapter 16 发送电子邮件和短信"
   ]
  },
  {
   "cell_type": "markdown",
   "metadata": {},
   "source": [
    "## 16.1 SMTP"
   ]
  },
  {
   "cell_type": "markdown",
   "metadata": {},
   "source": [
    "## 16.3 发送电子邮件"
   ]
  },
  {
   "cell_type": "markdown",
   "metadata": {},
   "source": [
    "### 16.2.1 连接到SMTP服务器"
   ]
  },
  {
   "cell_type": "code",
   "execution_count": 96,
   "metadata": {},
   "outputs": [
    {
     "data": {
      "text/plain": [
       "smtplib.SMTP_SSL"
      ]
     },
     "execution_count": 96,
     "metadata": {},
     "output_type": "execute_result"
    }
   ],
   "source": [
    "import smtplib\n",
    "smtpObj=smtplib.SMTP_SSL('smtp.163.com',465)\n",
    "type(smtpObj)"
   ]
  },
  {
   "cell_type": "markdown",
   "metadata": {},
   "source": [
    "### 16.2.2 发送SMTP的“Hello”消息"
   ]
  },
  {
   "cell_type": "code",
   "execution_count": 97,
   "metadata": {},
   "outputs": [
    {
     "data": {
      "text/plain": [
       "(250,\n",
       " b'mail\\nPIPELINING\\nAUTH LOGIN PLAIN\\nAUTH=LOGIN PLAIN\\ncoremail 1Uxr2xKj7kG0xkI17xGrU7I0s8FY2U3Uj8Cz28x1UUUUU7Ic2I0Y2UrRIIMKUCa0xDrUUUUj\\nSTARTTLS\\n8BITMIME')"
      ]
     },
     "execution_count": 97,
     "metadata": {},
     "output_type": "execute_result"
    }
   ],
   "source": [
    "smtpObj.ehlo()"
   ]
  },
  {
   "cell_type": "markdown",
   "metadata": {},
   "source": [
    "### 16.2.3 开始TLS加密"
   ]
  },
  {
   "cell_type": "markdown",
   "metadata": {},
   "source": [
    "### 16.2.4 登录到SMTP服务器"
   ]
  },
  {
   "cell_type": "code",
   "execution_count": 98,
   "metadata": {},
   "outputs": [
    {
     "data": {
      "text/plain": [
       "(235, b'Authentication successful')"
      ]
     },
     "execution_count": 98,
     "metadata": {},
     "output_type": "execute_result"
    }
   ],
   "source": [
    "smtpObj.login('penguiny9@163.com','122129Penny')"
   ]
  },
  {
   "cell_type": "markdown",
   "metadata": {},
   "source": [
    "### 16.2.5 发送电子邮件"
   ]
  },
  {
   "cell_type": "code",
   "execution_count": 138,
   "metadata": {},
   "outputs": [
    {
     "ename": "SMTPDataError",
     "evalue": "(554, b'DT:SPM 163 smtp4,HNxpCgAHYOGNZD1doVfFAg--.718S2 1564304531,please see http://mail.163.com/help/help_spam_16.htm?ip=117.12.133.186&hostid=smtp4&time=1564304531')",
     "output_type": "error",
     "traceback": [
      "\u001b[0;31m---------------------------------------------------------------------------\u001b[0m",
      "\u001b[0;31mSMTPDataError\u001b[0m                             Traceback (most recent call last)",
      "\u001b[0;32m<ipython-input-138-cd4d9a6e8a10>\u001b[0m in \u001b[0;36m<module>\u001b[0;34m\u001b[0m\n\u001b[1;32m      4\u001b[0m \u001b[0msmtpObj\u001b[0m\u001b[0;34m.\u001b[0m\u001b[0mehlo\u001b[0m\u001b[0;34m(\u001b[0m\u001b[0;34m)\u001b[0m\u001b[0;34m\u001b[0m\u001b[0;34m\u001b[0m\u001b[0m\n\u001b[1;32m      5\u001b[0m \u001b[0msmtpObj\u001b[0m\u001b[0;34m.\u001b[0m\u001b[0mlogin\u001b[0m\u001b[0;34m(\u001b[0m\u001b[0;34m'penguiny9@163.com'\u001b[0m\u001b[0;34m,\u001b[0m\u001b[0;34m'122129Penny'\u001b[0m\u001b[0;34m)\u001b[0m\u001b[0;34m\u001b[0m\u001b[0;34m\u001b[0m\u001b[0m\n\u001b[0;32m----> 6\u001b[0;31m \u001b[0msmtpObj\u001b[0m\u001b[0;34m.\u001b[0m\u001b[0msendmail\u001b[0m\u001b[0;34m(\u001b[0m\u001b[0;34m'penguiny9@163.com'\u001b[0m\u001b[0;34m,\u001b[0m\u001b[0;34m[\u001b[0m\u001b[0;34m'happytanpei@163.com'\u001b[0m\u001b[0;34m]\u001b[0m\u001b[0;34m,\u001b[0m\u001b[0;34m'Subject:So long.\\n Dear Alice, so long and thanks for all the fish. Sincerely, Bob'\u001b[0m\u001b[0;34m)\u001b[0m\u001b[0;34m\u001b[0m\u001b[0;34m\u001b[0m\u001b[0m\n\u001b[0m",
      "\u001b[0;32m/Library/Frameworks/Python.framework/Versions/3.7/lib/python3.7/smtplib.py\u001b[0m in \u001b[0;36msendmail\u001b[0;34m(self, from_addr, to_addrs, msg, mail_options, rcpt_options)\u001b[0m\n\u001b[1;32m    886\u001b[0m             \u001b[0;32melse\u001b[0m\u001b[0;34m:\u001b[0m\u001b[0;34m\u001b[0m\u001b[0;34m\u001b[0m\u001b[0m\n\u001b[1;32m    887\u001b[0m                 \u001b[0mself\u001b[0m\u001b[0;34m.\u001b[0m\u001b[0m_rset\u001b[0m\u001b[0;34m(\u001b[0m\u001b[0;34m)\u001b[0m\u001b[0;34m\u001b[0m\u001b[0;34m\u001b[0m\u001b[0m\n\u001b[0;32m--> 888\u001b[0;31m             \u001b[0;32mraise\u001b[0m \u001b[0mSMTPDataError\u001b[0m\u001b[0;34m(\u001b[0m\u001b[0mcode\u001b[0m\u001b[0;34m,\u001b[0m \u001b[0mresp\u001b[0m\u001b[0;34m)\u001b[0m\u001b[0;34m\u001b[0m\u001b[0;34m\u001b[0m\u001b[0m\n\u001b[0m\u001b[1;32m    889\u001b[0m         \u001b[0;31m#if we got here then somebody got our mail\u001b[0m\u001b[0;34m\u001b[0m\u001b[0;34m\u001b[0m\u001b[0;34m\u001b[0m\u001b[0m\n\u001b[1;32m    890\u001b[0m         \u001b[0;32mreturn\u001b[0m \u001b[0msenderrs\u001b[0m\u001b[0;34m\u001b[0m\u001b[0;34m\u001b[0m\u001b[0m\n",
      "\u001b[0;31mSMTPDataError\u001b[0m: (554, b'DT:SPM 163 smtp4,HNxpCgAHYOGNZD1doVfFAg--.718S2 1564304531,please see http://mail.163.com/help/help_spam_16.htm?ip=117.12.133.186&hostid=smtp4&time=1564304531')"
     ]
    }
   ],
   "source": [
    "import smtplib\n",
    "smtpObj=smtplib.SMTP('smtp.163.com',25)\n",
    "type(smtpObj)\n",
    "smtpObj.ehlo()\n",
    "smtpObj.login('penguiny9@163.com','122129Penny')\n",
    "smtpObj.sendmail('penguiny9@163.com',['happytanpei@163.com'],'Subject:So long.\\n Dear Alice, so long and thanks for all the fish. Sincerely, Bob')"
   ]
  },
  {
   "cell_type": "code",
   "execution_count": 158,
   "metadata": {},
   "outputs": [
    {
     "name": "stdout",
     "output_type": "stream",
     "text": [
      "发送成功\n"
     ]
    }
   ],
   "source": [
    "import smtplib  \n",
    "from email.mime.text import MIMEText  \n",
    "mailto_list=['peitan1989@163.com'] \n",
    "mail_host=\"smtp.163.com\"  #设置服务器\n",
    "mail_user=\"penguiny9\"    #用户名\n",
    "mail_pass=\"122129Penny\"   #口令 \n",
    "mail_postfix=\"163.com\"  #发件箱的后缀\n",
    "  \n",
    "def send_mail(to_list,sub,content):  \n",
    "    me=\"hello\"+\"<\"+mail_user+\"@\"+mail_postfix+\">\"  \n",
    "    msg = MIMEText(content,_subtype='plain',_charset='gb2312')  \n",
    "    msg['Subject'] = sub  \n",
    "    msg['From'] = me  \n",
    "    msg['To'] = \";\".join(to_list)  \n",
    "    try:  \n",
    "        server = smtplib.SMTP()  \n",
    "        server.connect(mail_host)  \n",
    "        server.login(mail_user,mail_pass)  \n",
    "        server.sendmail(me, to_list, msg.as_string())  \n",
    "        server.close()  \n",
    "        return True  \n",
    "    except Exception as e:  \n",
    "        print(str(e))  \n",
    "        return False  \n",
    "if __name__ == '__main__':  \n",
    "    if send_mail(mailto_list,\"hello\",\"hello world！\"):  \n",
    "        print('发送成功')  \n",
    "    else:  \n",
    "        print('发送失败')  "
   ]
  },
  {
   "cell_type": "markdown",
   "metadata": {},
   "source": [
    "### html 邮件发送"
   ]
  },
  {
   "cell_type": "code",
   "execution_count": 161,
   "metadata": {},
   "outputs": [
    {
     "name": "stdout",
     "output_type": "stream",
     "text": [
      "(554, b'DT:SPM 163 smtp4,HNxpCgB3oOadaj1dWaLJAg--.534S2 1564306088,please see http://mail.163.com/help/help_spam_16.htm?ip=117.12.133.186&hostid=smtp4&time=1564306088')\n",
      "发送失败\n"
     ]
    }
   ],
   "source": [
    "# -*- coding: utf-8 -*-\n",
    "\n",
    "import smtplib  \n",
    "from email.mime.text import MIMEText  \n",
    "\n",
    "\n",
    "mailto_list=['peitan1989@163.com'] \n",
    "mail_host=\"smtp.163.com\"  #设置服务器\n",
    "mail_user=\"penguiny9\"    #用户名\n",
    "mail_pass=\"122129Penny\"   #口令 \n",
    "mail_postfix=\"163.com\"  #发件箱的后缀\n",
    "  \n",
    "def send_mail(to_list,sub,content):  #to_list：收件人；sub：主题；content：邮件内容\n",
    "    me=\"hello\"+\"<\"+mail_user+\"@\"+mail_postfix+\">\"   #这里的hello可以任意设置，收到信后，将按照设置显示\n",
    "    msg = MIMEText(content,_subtype='html',_charset='gb2312')    #创建一个实例，这里设置为html格式邮件\n",
    "    msg['Subject'] = sub    #设置主题\n",
    "    msg['From'] = me  \n",
    "    msg['To'] = \";\".join(to_list)  \n",
    "    try:  \n",
    "        s = smtplib.SMTP()  \n",
    "        s.connect(mail_host)  #连接smtp服务器\n",
    "        s.login(mail_user,mail_pass)  #登陆服务器\n",
    "        s.sendmail(me, to_list, msg.as_string())  #发送邮件\n",
    "        s.close()  \n",
    "        return True  \n",
    "    except Exception as e:  \n",
    "        print(str(e))  \n",
    "        return False  \n",
    "if __name__ == '__main__':  \n",
    "    if send_mail(mailto_list,\"hello\",\"<a href='http://www.cnblogs.com/xiaowuyi'>链接</a>\"):  \n",
    "        print(\"发送成功\")  \n",
    "    else:  \n",
    "        print(\"发送失败\")  \n"
   ]
  },
  {
   "cell_type": "markdown",
   "metadata": {},
   "source": [
    "### 发送带附件的邮件"
   ]
  },
  {
   "cell_type": "code",
   "execution_count": 162,
   "metadata": {},
   "outputs": [
    {
     "name": "stdout",
     "output_type": "stream",
     "text": [
      "发送成功\n"
     ]
    }
   ],
   "source": [
    "# -*- coding: cp936 -*-\n",
    "\n",
    "\n",
    "from email.mime.text import MIMEText\n",
    "from email.mime.multipart import MIMEMultipart\n",
    "import smtplib\n",
    "\n",
    "#创建一个带附件的实例\n",
    "msg = MIMEMultipart()\n",
    "\n",
    "#构造附件1\n",
    "att1 = MIMEText(open('twoPage.docx', 'rb').read(), 'base64', 'gb2312')\n",
    "att1[\"Content-Type\"] = 'application/octet-stream'\n",
    "att1[\"Content-Disposition\"] = 'attachment; filename=\"123.doc\"'#这里的filename可以任意写，写什么名字，邮件中显示什么名字\n",
    "msg.attach(att1)\n",
    "\n",
    "#构造附件2\n",
    "att2 = MIMEText(open('zophie.jpg', 'rb').read(), 'base64', 'gb2312')\n",
    "att2[\"Content-Type\"] = 'application/octet-stream'\n",
    "att2[\"Content-Disposition\"] = 'attachment; filename=\"123.txt\"'\n",
    "msg.attach(att2)\n",
    "\n",
    "#加邮件头\n",
    "msg['to'] = 'peitan1989@163.com'\n",
    "msg['from'] = 'penguiny9@163.com'\n",
    "msg['subject'] = 'hello world'\n",
    "\n",
    "\n",
    "\n",
    "#发送邮件\n",
    "try:\n",
    "    server = smtplib.SMTP()\n",
    "    server.connect('smtp.163.com')\n",
    "    server.login('penguiny9@163.com','122129Penny')#XXX为用户名，XXXXX为密码\n",
    "    server.sendmail(msg['from'], msg['to'],msg.as_string())\n",
    "    server.quit()\n",
    "    print('发送成功')\n",
    "except Exception as e:  \n",
    "    print(str(e)) "
   ]
  },
  {
   "cell_type": "markdown",
   "metadata": {},
   "source": [
    "### 利用MIMEimage发送图片"
   ]
  },
  {
   "cell_type": "code",
   "execution_count": 163,
   "metadata": {},
   "outputs": [
    {
     "ename": "SMTPDataError",
     "evalue": "(554, b'DT:SPM 163 smtp4,HNxpCgAnyvzNaj1darnJAg--.19S2 1564306128,please see http://mail.163.com/help/help_spam_16.htm?ip=117.12.133.186&hostid=smtp4&time=1564306128')",
     "output_type": "error",
     "traceback": [
      "\u001b[0;31m---------------------------------------------------------------------------\u001b[0m",
      "\u001b[0;31mSMTPDataError\u001b[0m                             Traceback (most recent call last)",
      "\u001b[0;32m<ipython-input-163-8cd490c25d1d>\u001b[0m in \u001b[0;36m<module>\u001b[0;34m\u001b[0m\n\u001b[1;32m     30\u001b[0m \u001b[0;34m\u001b[0m\u001b[0m\n\u001b[1;32m     31\u001b[0m \u001b[0;32mif\u001b[0m \u001b[0m__name__\u001b[0m \u001b[0;34m==\u001b[0m \u001b[0;34m\"__main__\"\u001b[0m\u001b[0;34m:\u001b[0m\u001b[0;34m\u001b[0m\u001b[0;34m\u001b[0m\u001b[0m\n\u001b[0;32m---> 32\u001b[0;31m     \u001b[0mAutoSendMail\u001b[0m\u001b[0;34m(\u001b[0m\u001b[0;34m)\u001b[0m\u001b[0;34m\u001b[0m\u001b[0;34m\u001b[0m\u001b[0m\n\u001b[0m",
      "\u001b[0;32m<ipython-input-163-8cd490c25d1d>\u001b[0m in \u001b[0;36mAutoSendMail\u001b[0;34m()\u001b[0m\n\u001b[1;32m     26\u001b[0m     \u001b[0mserver\u001b[0m\u001b[0;34m.\u001b[0m\u001b[0mconnect\u001b[0m\u001b[0;34m(\u001b[0m\u001b[0;34m'smtp.163.com'\u001b[0m\u001b[0;34m)\u001b[0m\u001b[0;34m\u001b[0m\u001b[0;34m\u001b[0m\u001b[0m\n\u001b[1;32m     27\u001b[0m     \u001b[0mserver\u001b[0m\u001b[0;34m.\u001b[0m\u001b[0mlogin\u001b[0m\u001b[0;34m(\u001b[0m\u001b[0;34m'penguiny9@163.com'\u001b[0m\u001b[0;34m,\u001b[0m\u001b[0;34m'122129Penny'\u001b[0m\u001b[0;34m)\u001b[0m\u001b[0;34m\u001b[0m\u001b[0;34m\u001b[0m\u001b[0m\n\u001b[0;32m---> 28\u001b[0;31m     \u001b[0mserver\u001b[0m\u001b[0;34m.\u001b[0m\u001b[0msendmail\u001b[0m\u001b[0;34m(\u001b[0m\u001b[0mmsg\u001b[0m\u001b[0;34m[\u001b[0m\u001b[0;34m'From'\u001b[0m\u001b[0;34m]\u001b[0m\u001b[0;34m,\u001b[0m\u001b[0mmsg\u001b[0m\u001b[0;34m[\u001b[0m\u001b[0;34m'To'\u001b[0m\u001b[0;34m]\u001b[0m\u001b[0;34m,\u001b[0m\u001b[0mmsg\u001b[0m\u001b[0;34m.\u001b[0m\u001b[0mas_string\u001b[0m\u001b[0;34m(\u001b[0m\u001b[0;34m)\u001b[0m\u001b[0;34m)\u001b[0m\u001b[0;34m\u001b[0m\u001b[0;34m\u001b[0m\u001b[0m\n\u001b[0m\u001b[1;32m     29\u001b[0m     \u001b[0mserver\u001b[0m\u001b[0;34m.\u001b[0m\u001b[0mquit\u001b[0m\u001b[0;34m(\u001b[0m\u001b[0;34m)\u001b[0m\u001b[0;34m\u001b[0m\u001b[0;34m\u001b[0m\u001b[0m\n\u001b[1;32m     30\u001b[0m \u001b[0;34m\u001b[0m\u001b[0m\n",
      "\u001b[0;32m/Library/Frameworks/Python.framework/Versions/3.7/lib/python3.7/smtplib.py\u001b[0m in \u001b[0;36msendmail\u001b[0;34m(self, from_addr, to_addrs, msg, mail_options, rcpt_options)\u001b[0m\n\u001b[1;32m    886\u001b[0m             \u001b[0;32melse\u001b[0m\u001b[0;34m:\u001b[0m\u001b[0;34m\u001b[0m\u001b[0;34m\u001b[0m\u001b[0m\n\u001b[1;32m    887\u001b[0m                 \u001b[0mself\u001b[0m\u001b[0;34m.\u001b[0m\u001b[0m_rset\u001b[0m\u001b[0;34m(\u001b[0m\u001b[0;34m)\u001b[0m\u001b[0;34m\u001b[0m\u001b[0;34m\u001b[0m\u001b[0m\n\u001b[0;32m--> 888\u001b[0;31m             \u001b[0;32mraise\u001b[0m \u001b[0mSMTPDataError\u001b[0m\u001b[0;34m(\u001b[0m\u001b[0mcode\u001b[0m\u001b[0;34m,\u001b[0m \u001b[0mresp\u001b[0m\u001b[0;34m)\u001b[0m\u001b[0;34m\u001b[0m\u001b[0;34m\u001b[0m\u001b[0m\n\u001b[0m\u001b[1;32m    889\u001b[0m         \u001b[0;31m#if we got here then somebody got our mail\u001b[0m\u001b[0;34m\u001b[0m\u001b[0;34m\u001b[0m\u001b[0;34m\u001b[0m\u001b[0m\n\u001b[1;32m    890\u001b[0m         \u001b[0;32mreturn\u001b[0m \u001b[0msenderrs\u001b[0m\u001b[0;34m\u001b[0m\u001b[0;34m\u001b[0m\u001b[0m\n",
      "\u001b[0;31mSMTPDataError\u001b[0m: (554, b'DT:SPM 163 smtp4,HNxpCgAnyvzNaj1darnJAg--.19S2 1564306128,please see http://mail.163.com/help/help_spam_16.htm?ip=117.12.133.186&hostid=smtp4&time=1564306128')"
     ]
    }
   ],
   "source": [
    "# -*- coding: cp936 -*-\n",
    "import smtplib\n",
    "import mimetypes\n",
    "from email.mime.text import MIMEText\n",
    "from email.mime.multipart import MIMEMultipart\n",
    "from email.mime.image import MIMEImage\n",
    "\n",
    "def AutoSendMail():\n",
    "    msg = MIMEMultipart()\n",
    "    msg['From'] = \"penguiny9@163.com\"\n",
    "    msg['To'] = \"peitan1989@163.com\"\n",
    "    msg['Subject'] = \"hello world\"\n",
    "\n",
    "\n",
    "    txt = MIMEText(\"<Img src='Zophie.jpg'>\",_subtype='html',_charset='gb2312')     \n",
    "    msg.attach(txt)\n",
    "    \n",
    "\n",
    "    file1 = \"zophie.jpg\"\n",
    "    image = MIMEImage(open(file1,'rb').read())\n",
    "    image.add_header('Content-ID','<image1>')\n",
    "    msg.attach(image)\n",
    "    \n",
    "    \n",
    "    server = smtplib.SMTP()\n",
    "    server.connect('smtp.163.com')\n",
    "    server.login('penguiny9@163.com','122129Penny')\n",
    "    server.sendmail(msg['From'],msg['To'],msg.as_string())\n",
    "    server.quit()\n",
    "    \n",
    "if __name__ == \"__main__\":\n",
    "    AutoSendMail()\n"
   ]
  },
  {
   "cell_type": "code",
   "execution_count": 152,
   "metadata": {},
   "outputs": [
    {
     "name": "stdout",
     "output_type": "stream",
     "text": [
      "(554, b'DT:SPM 163 smtp4,HNxpCgBX07zKaT1d_gbJAg--.17S2 1564305872,please see http://mail.163.com/help/help_spam_16.htm?ip=117.12.133.186&hostid=smtp4&time=1564305872')\n",
      "发送失败\n"
     ]
    }
   ],
   "source": [
    "# -*- coding: utf-8 -*-\n",
    "\n",
    "import smtplib  \n",
    "from email.mime.text import MIMEText  \n",
    "\n",
    "\n",
    "mailto_list=['peitan1989@163.com'] \n",
    "mail_host=\"smtp.163.com\"  #设置服务器\n",
    "mail_user=\"penguiny9\"    #用户名\n",
    "mail_pass=\"122129Penny\"   #口令 \n",
    "mail_postfix=\"163.com\"  #发件箱的后缀\n",
    "  \n",
    "def send_mail(to_list,sub,content):  #to_list：收件人；sub：主题；content：邮件内容\n",
    "    me=\"hello\"+\"<\"+mail_user+\"@\"+mail_postfix+\">\"   #这里的hello可以任意设置，收到信后，将按照设置显示\n",
    "    msg = MIMEText(content,_subtype='html',_charset='gb2312')    #创建一个实例，这里设置为html格式邮件\n",
    "    msg['Subject'] = sub    #设置主题\n",
    "    msg['From'] = me  \n",
    "    msg['To'] = \";\".join(to_list)  \n",
    "    try:  \n",
    "        s = smtplib.SMTP()  \n",
    "        s.connect(mail_host)  #连接smtp服务器\n",
    "        s.login(mail_user,mail_pass)  #登陆服务器\n",
    "        s.sendmail(me, to_list, msg.as_string())  #发送邮件\n",
    "        s.close()  \n",
    "        return True  \n",
    "    except Exception as e:  \n",
    "        print(str(e))  \n",
    "        return False  \n",
    "if __name__ == '__main__':  \n",
    "    if send_mail(mailto_list,\"hello\",\"<Img src='Zophie.jpg'>\"):  \n",
    "        print(\"发送成功\")  \n",
    "    else:  \n",
    "        print(\"发送失败\")  \n",
    "\n"
   ]
  },
  {
   "cell_type": "markdown",
   "metadata": {},
   "source": [
    "### 16.5 项目：向会员发送会费提醒电子邮件"
   ]
  },
  {
   "cell_type": "markdown",
   "metadata": {},
   "source": [
    "### 16.5.1 打开Excel文件"
   ]
  },
  {
   "cell_type": "code",
   "execution_count": null,
   "metadata": {},
   "outputs": [],
   "source": [
    "import openpyxl, smtplib, sys\n",
    "\n",
    "#Open the spreadsheet and get the latest dues status.\n",
    "wb=openpyxl.load_workbook('duesRecords.xlsx')\n",
    "sheet=wb.get_sheet_by_name('Sheet1')\n",
    "\n",
    "lastCol=sheet.max_column\n",
    "latestMonth=sheet.cell(row=1, column=lastCol).value\n",
    "\n",
    "# TODO: Check each member's payment status.\n",
    "\n",
    "# TODO: Log in to email account.\n",
    "\n",
    "# TODO: Send out reminder emails."
   ]
  },
  {
   "cell_type": "markdown",
   "metadata": {},
   "source": [
    "### 16.5.2 查找所有未付费会员"
   ]
  },
  {
   "cell_type": "code",
   "execution_count": 165,
   "metadata": {},
   "outputs": [
    {
     "name": "stderr",
     "output_type": "stream",
     "text": [
      "/Library/Frameworks/Python.framework/Versions/3.7/lib/python3.7/site-packages/ipykernel_launcher.py:5: DeprecationWarning: Call to deprecated function get_sheet_by_name (Use wb[sheetname]).\n",
      "  \"\"\"\n"
     ]
    }
   ],
   "source": [
    "import openpyxl, smtplib, sys\n",
    "\n",
    "#Open the spreadsheet and get the latest dues status.\n",
    "wb=openpyxl.load_workbook('duesRecords.xlsx')\n",
    "sheet=wb.get_sheet_by_name('Sheet1')\n",
    "\n",
    "lastCol=sheet.max_column\n",
    "latestMonth=sheet.cell(row=1, column=lastCol).value\n",
    "\n",
    "# Check each member's payment status.\n",
    "unpaidMembers={}\n",
    "\n",
    "for r in range(2, sheet.max_row+1):\n",
    "    payment=sheet.cell(row=r, column=lastCol).value\n",
    "    if payment != 'paid':\n",
    "        name=sheet.cell(row=r, column=1).value\n",
    "        email=sheet.cell(row=r, column=2).value\n",
    "        unpaidMembers[name]=email\n",
    "\n",
    "# TODO: Log in to email account.\n",
    "\n",
    "# TODO: Send out reminder emails."
   ]
  },
  {
   "cell_type": "code",
   "execution_count": 174,
   "metadata": {},
   "outputs": [
    {
     "name": "stderr",
     "output_type": "stream",
     "text": [
      "/Library/Frameworks/Python.framework/Versions/3.7/lib/python3.7/site-packages/ipykernel_launcher.py:5: DeprecationWarning: Call to deprecated function get_sheet_by_name (Use wb[sheetname]).\n",
      "  \"\"\"\n"
     ]
    },
    {
     "name": "stdout",
     "output_type": "stream",
     "text": [
      "alice@example.com\n",
      "bob@example.com\n",
      "eve@example.com\n"
     ]
    }
   ],
   "source": [
    "import openpyxl, smtplib, sys\n",
    "\n",
    "#Open the spreadsheet and get the latest dues status.\n",
    "wb=openpyxl.load_workbook('duesRecords.xlsx')\n",
    "sheet=wb.get_sheet_by_name('Sheet1')\n",
    "\n",
    "lastCol=sheet.max_column\n",
    "latestMonth=sheet.cell(row=1, column=lastCol).value\n",
    "\n",
    "# Check each member's payment status.\n",
    "unpaidMembers={}\n",
    "\n",
    "for r in range(2, sheet.max_row+1):\n",
    "    payment=sheet.cell(row=r, column=lastCol).value\n",
    "    if payment != 'paid':\n",
    "        name=sheet.cell(row=r, column=1).value\n",
    "        email=sheet.cell(row=r, column=2).value\n",
    "        unpaidMembers[name]=email\n",
    "\n",
    "# Log in to email account.\n",
    "smtpObj=smtplib.SMTP('smtp.163.com',25)\n",
    "smtpObj.ehlo()\n",
    "smtpObj.starttls()\n",
    "smtpObj.login('penguiny9@163.com','122129Penny')\n",
    "\n",
    "# Send out reminder emails.\n",
    "mail_host=\"smtp.163.com\"  #设置服务器\n",
    "mail_user=\"penguiny9\"    #用户名\n",
    "mail_pass=\"122129Penny\"   #口令 \n",
    "mail_postfix=\"163.com\"  #发件箱的后缀\n",
    "  \n",
    "def send_mail(to_list,sub,content):  \n",
    "    me=\"hello\"+\"<\"+mail_user+\"@\"+mail_postfix+\">\"  \n",
    "    msg = MIMEText(content,_subtype='plain',_charset='gb2312')  \n",
    "    msg['Subject'] = sub  \n",
    "    msg['From'] = me  \n",
    "    msg['To'] = \";\".join(to_list)  \n",
    "    try:  \n",
    "        server = smtplib.SMTP()  \n",
    "        server.connect(mail_host)  \n",
    "        server.login(mail_user,mail_pass)  \n",
    "        server.sendmail(me, to_list, msg.as_string())  \n",
    "        server.close()\n",
    "        print('Sending email to %s...'%to_list)\n",
    "        return True  \n",
    "    except Exception as e:  \n",
    "        print(str(e))  \n",
    "        return False  \n",
    "        \n",
    "for name, email in unpaidMembers.items():\n",
    "    print(email)\n",
    "    #content=\"Dear %s, \\n Records show that you have not paid dues for %s. Please make this payment as soon as possile. Thank you!\" %(name, latestMonth)\n",
    "    #send_mail(email,'Dues unpaid',content)"
   ]
  },
  {
   "cell_type": "code",
   "execution_count": null,
   "metadata": {},
   "outputs": [],
   "source": []
  },
  {
   "cell_type": "code",
   "execution_count": null,
   "metadata": {},
   "outputs": [],
   "source": []
  },
  {
   "cell_type": "code",
   "execution_count": null,
   "metadata": {},
   "outputs": [],
   "source": []
  },
  {
   "cell_type": "code",
   "execution_count": null,
   "metadata": {},
   "outputs": [],
   "source": []
  }
 ],
 "metadata": {
  "kernelspec": {
   "display_name": "Python 3",
   "language": "python",
   "name": "python3"
  },
  "language_info": {
   "codemirror_mode": {
    "name": "ipython",
    "version": 3
   },
   "file_extension": ".py",
   "mimetype": "text/x-python",
   "name": "python",
   "nbconvert_exporter": "python",
   "pygments_lexer": "ipython3",
   "version": "3.7.3"
  }
 },
 "nbformat": 4,
 "nbformat_minor": 2
}
